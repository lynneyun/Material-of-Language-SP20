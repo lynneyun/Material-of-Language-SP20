{
 "cells": [
  {
   "cell_type": "markdown",
   "metadata": {},
   "source": [
    "## Recreating Mayer's Futura 13 ##\n",
    "\n",
    "I tried to recreate Hansjörg Mayer's Futura 13.\n",
    "\n",
    "(Instructor: Allison Parrish, Assembled with code help from Kevin Yeh)"
   ]
  },
  {
   "cell_type": "code",
   "execution_count": 1,
   "metadata": {},
   "outputs": [],
   "source": [
    "## format from Allison's sample code\n",
    "## modified for the width and height of Juptyer Notebook for ease\n",
    "\n",
    "html_tmpl = \"\"\"<!DOCTYPE html>\n",
    "<html lang=\"en\">\n",
    "<head>\n",
    "    <meta charset=\"utf-8\">\n",
    "    <title>{title}</title>\n",
    "    <style>\n",
    "    html {{ min-height: 32em; overflow: hidden; }}\n",
    "    </style>\n",
    "</head>\n",
    "<body style = \"width: 547px; height: 496px\">\n",
    "{content}\n",
    "</body>\n",
    "</html>\"\"\"\n",
    "\n",
    "from IPython.display import display, HTML\n",
    "def show_html(src):\n",
    "    return display(HTML(src), metadata=dict(isolated=True))\n",
    "\n",
    "import random\n",
    "import math\n",
    "\n",
    "def mkdiv(content, **kwargs):\n",
    "    if 'position' not in kwargs:\n",
    "        kwargs['position'] = 'absolute'\n",
    "    style_str = ' '.join([\": \".join((k.replace('_', '-'), v))+\";\" for k, v in kwargs.items()])\n",
    "    return f\"<div style='{style_str}'>{content}</div>\"\n",
    "\n"
   ]
  },
  {
   "cell_type": "code",
   "execution_count": 2,
   "metadata": {},
   "outputs": [
    {
     "name": "stdout",
     "output_type": "stream",
     "text": [
      "Requirement already satisfied: noise in /Users/lynneyun/opt/anaconda3/lib/python3.7/site-packages (1.2.2)\r\n"
     ]
    }
   ],
   "source": [
    "## Trying to use Perlin Noise\n",
    "\n",
    "!pip install noise"
   ]
  },
  {
   "cell_type": "code",
   "execution_count": 3,
   "metadata": {},
   "outputs": [],
   "source": [
    "## Code taken from https://medium.com/@yvanscher/playing-with-perlin-noise-generating-realistic-archipelagos-b59f004d8401\n",
    "\n",
    "\n",
    "import numpy as np\n",
    "from noise import pnoise2\n",
    "\n",
    "def perlin_array(shape = (202, 202),\n",
    "\t\t\tscale=20, octaves = 6, \n",
    "\t\t\tpersistence = 0.5, \n",
    "\t\t\tlacunarity = 2.0, \n",
    "\t\t\tseed = None):\n",
    "\n",
    "    if not seed:\n",
    "\n",
    "        seed = np.random.randint(0, 100)\n",
    "        print(\"seed was {}\".format(seed))\n",
    "\n",
    "    arr = np.zeros(shape)\n",
    "    for i in range(shape[0]):\n",
    "        for j in range(shape[1]):\n",
    "            arr[i][j] = pnoise2(i / scale,\n",
    "                                        j / scale,\n",
    "                                        octaves=octaves,\n",
    "                                        persistence=persistence,\n",
    "                                        lacunarity=lacunarity,\n",
    "                                        repeatx=1024,\n",
    "                                        repeaty=1024,\n",
    "                                        base=seed)\n",
    "    max_arr = np.max(arr)\n",
    "    min_arr = np.min(arr)\n",
    "    norm_me = lambda x: (x-min_arr)/(max_arr - min_arr)\n",
    "    norm_me = np.vectorize(norm_me)\n",
    "    arr = norm_me(arr)\n",
    "    return arr"
   ]
  },
  {
   "cell_type": "code",
   "execution_count": 4,
   "metadata": {},
   "outputs": [],
   "source": [
    "## Norm distribution like bell curves\n",
    "\n",
    "def norm(size=(202, 202)):\n",
    "    normies = np.random.normal(loc = 0.5, scale = 0.2, size = size)\n",
    "\n",
    "    # scale between 0 and 1\n",
    "    max_arr = np.max(normies)\n",
    "    min_arr = np.min(normies)\n",
    "    norm_thing = lambda x: (x-min_arr)/(max_arr - min_arr)\n",
    "    norm_thing = np.vectorize(norm_thing)\n",
    "    normies = norm_thing(normies)\n",
    "    return normies"
   ]
  },
  {
   "cell_type": "code",
   "execution_count": 10,
   "metadata": {},
   "outputs": [
    {
     "name": "stdout",
     "output_type": "stream",
     "text": [
      "seed was 61\n",
      "seed was 64\n",
      "norms is \n",
      "[[0.59177963 0.4493221  0.49564302 ... 0.45291562 0.49053989 0.46611448]\n",
      " [0.38803038 0.48079195 0.3482995  ... 0.62602434 0.32787324 0.32690856]\n",
      " [0.5648127  0.34368085 0.36579187 ... 0.54162464 0.60093889 0.71956768]\n",
      " ...\n",
      " [0.40691493 0.54258889 0.44695872 ... 0.6351551  0.52761666 0.6006871 ]\n",
      " [0.49827244 0.39184478 0.76926398 ... 0.47856017 0.48613014 0.45860921]\n",
      " [0.40877731 0.41397054 0.37781444 ... 0.20835438 0.15675631 0.49002679]]\n",
      "noise is \n",
      "[[0.49025467 0.47072078 0.45463341 ... 0.47798304 0.49025467 0.51055254]\n",
      " [0.55717787 0.54334698 0.46510398 ... 0.57915477 0.57652295 0.60138148]\n",
      " [0.57645739 0.5912494  0.54964239 ... 0.62448906 0.64535396 0.6734442 ]\n",
      " ...\n",
      " [0.54566824 0.5634707  0.63162683 ... 0.52328868 0.57158922 0.58167537]\n",
      " [0.49025467 0.51030659 0.58938718 ... 0.45972684 0.49025467 0.51040218]\n",
      " [0.43996688 0.47516477 0.53477503 ... 0.40271954 0.42974108 0.46155288]]\n"
     ]
    },
    {
     "data": {
      "text/html": [
       "<!DOCTYPE html>\n",
       "<html lang=\"en\">\n",
       "<head>\n",
       "    <meta charset=\"utf-8\">\n",
       "    <title>grid</title>\n",
       "    <style>\n",
       "    html { min-height: 32em; overflow: hidden; }\n",
       "    </style>\n",
       "</head>\n",
       "<body style = \"width: 547px; height: 496px\">\n",
       "<div style='top: 16.8px; left: 84.0px; font-family: Futura; font-size: 25px; transform: rotate(0deg); position: absolute;'>—</div><div style='top: 16.8px; left: 386.4px; font-family: Futura; font-size: 25px; transform: rotate(0deg); position: absolute;'>—</div><div style='top: 33.6px; left: 168.0px; font-family: Futura; font-size: 25px; transform: rotate(0deg); position: absolute;'>—</div><div style='top: 33.6px; left: 184.79999999999998px; font-family: Futura; font-size: 25px; transform: rotate(0deg); position: absolute;'>—</div><div style='top: 33.6px; left: 369.59999999999997px; font-family: Futura; font-size: 25px; transform: rotate(0deg); position: absolute;'>—</div><div style='top: 50.39999999999999px; left: 302.4px; font-family: Futura; font-size: 25px; transform: rotate(0deg); position: absolute;'>—</div><div style='top: 50.39999999999999px; left: 352.8px; font-family: Futura; font-size: 25px; transform: rotate(0deg); position: absolute;'>—</div><div style='top: 50.39999999999999px; left: 369.59999999999997px; font-family: Futura; font-size: 25px; transform: rotate(0deg); position: absolute;'>—</div><div style='top: 67.2px; left: 16.8px; font-family: Futura; font-size: 25px; transform: rotate(0deg); position: absolute;'>—</div><div style='top: 67.2px; left: 33.6px; font-family: Futura; font-size: 25px; transform: rotate(0deg); position: absolute;'>—</div><div style='top: 67.2px; left: 100.79999999999998px; font-family: Futura; font-size: 25px; transform: rotate(0deg); position: absolute;'>—</div><div style='top: 67.2px; left: 302.4px; font-family: Futura; font-size: 25px; transform: rotate(0deg); position: absolute;'>—</div><div style='top: 67.2px; left: 319.2px; font-family: Futura; font-size: 25px; transform: rotate(0deg); position: absolute;'>—</div><div style='top: 84.0px; left: 0.0px; font-family: Futura; font-size: 25px; transform: rotate(0deg); position: absolute;'>—</div><div style='top: 84.0px; left: 33.6px; font-family: Futura; font-size: 25px; transform: rotate(0deg); position: absolute;'>—</div><div style='top: 84.0px; left: 84.0px; font-family: Futura; font-size: 25px; transform: rotate(0deg); position: absolute;'>—</div><div style='top: 84.0px; left: 100.79999999999998px; font-family: Futura; font-size: 25px; transform: rotate(0deg); position: absolute;'>—</div><div style='top: 84.0px; left: 151.2px; font-family: Futura; font-size: 25px; transform: rotate(0deg); position: absolute;'>—</div><div style='top: 84.0px; left: 218.4px; font-family: Futura; font-size: 25px; transform: rotate(0deg); position: absolute;'>—</div><div style='top: 84.0px; left: 235.20000000000002px; font-family: Futura; font-size: 25px; transform: rotate(0deg); position: absolute;'>—</div><div style='top: 84.0px; left: 302.4px; font-family: Futura; font-size: 25px; transform: rotate(0deg); position: absolute;'>—</div><div style='top: 84.0px; left: 369.59999999999997px; font-family: Futura; font-size: 25px; transform: rotate(0deg); position: absolute;'>—</div><div style='top: 84.0px; left: 403.19999999999993px; font-family: Futura; font-size: 25px; transform: rotate(0deg); position: absolute;'>—</div><div style='top: 100.79999999999998px; left: 16.8px; font-family: Futura; font-size: 25px; transform: rotate(0deg); position: absolute;'>—</div><div style='top: 100.79999999999998px; left: 84.0px; font-family: Futura; font-size: 25px; transform: rotate(0deg); position: absolute;'>—</div><div style='top: 100.79999999999998px; left: 218.4px; font-family: Futura; font-size: 25px; transform: rotate(0deg); position: absolute;'>—</div><div style='top: 100.79999999999998px; left: 319.2px; font-family: Futura; font-size: 25px; transform: rotate(0deg); position: absolute;'>—</div><div style='top: 100.79999999999998px; left: 352.8px; font-family: Futura; font-size: 25px; transform: rotate(0deg); position: absolute;'>—</div><div style='top: 100.79999999999998px; left: 403.19999999999993px; font-family: Futura; font-size: 25px; transform: rotate(0deg); position: absolute;'>—</div><div style='top: 117.60000000000001px; left: 0.0px; font-family: Futura; font-size: 25px; transform: rotate(0deg); position: absolute;'>—</div><div style='top: 117.60000000000001px; left: 84.0px; font-family: Futura; font-size: 25px; transform: rotate(0deg); position: absolute;'>—</div><div style='top: 117.60000000000001px; left: 100.79999999999998px; font-family: Futura; font-size: 25px; transform: rotate(0deg); position: absolute;'>—</div><div style='top: 117.60000000000001px; left: 218.4px; font-family: Futura; font-size: 25px; transform: rotate(0deg); position: absolute;'>—</div><div style='top: 117.60000000000001px; left: 369.59999999999997px; font-family: Futura; font-size: 25px; transform: rotate(0deg); position: absolute;'>—</div><div style='top: 134.4px; left: 33.6px; font-family: Futura; font-size: 25px; transform: rotate(0deg); position: absolute;'>—</div><div style='top: 134.4px; left: 84.0px; font-family: Futura; font-size: 25px; transform: rotate(0deg); position: absolute;'>—</div><div style='top: 134.4px; left: 100.79999999999998px; font-family: Futura; font-size: 25px; transform: rotate(0deg); position: absolute;'>—</div><div style='top: 134.4px; left: 117.60000000000001px; font-family: Futura; font-size: 25px; transform: rotate(0deg); position: absolute;'>—</div><div style='top: 134.4px; left: 184.79999999999998px; font-family: Futura; font-size: 25px; transform: rotate(0deg); position: absolute;'>—</div><div style='top: 134.4px; left: 218.4px; font-family: Futura; font-size: 25px; transform: rotate(0deg); position: absolute;'>—</div><div style='top: 134.4px; left: 235.20000000000002px; font-family: Futura; font-size: 25px; transform: rotate(0deg); position: absolute;'>—</div><div style='top: 134.4px; left: 252.0px; font-family: Futura; font-size: 25px; transform: rotate(0deg); position: absolute;'>—</div><div style='top: 134.4px; left: 319.2px; font-family: Futura; font-size: 25px; transform: rotate(0deg); position: absolute;'>—</div><div style='top: 134.4px; left: 352.8px; font-family: Futura; font-size: 25px; transform: rotate(0deg); position: absolute;'>—</div><div style='top: 151.2px; left: 33.6px; font-family: Futura; font-size: 25px; transform: rotate(0deg); position: absolute;'>—</div><div style='top: 151.2px; left: 84.0px; font-family: Futura; font-size: 25px; transform: rotate(0deg); position: absolute;'>—</div><div style='top: 151.2px; left: 100.79999999999998px; font-family: Futura; font-size: 25px; transform: rotate(0deg); position: absolute;'>—</div><div style='top: 151.2px; left: 117.60000000000001px; font-family: Futura; font-size: 25px; transform: rotate(0deg); position: absolute;'>—</div><div style='top: 151.2px; left: 168.0px; font-family: Futura; font-size: 25px; transform: rotate(0deg); position: absolute;'>—</div><div style='top: 151.2px; left: 235.20000000000002px; font-family: Futura; font-size: 25px; transform: rotate(0deg); position: absolute;'>—</div><div style='top: 151.2px; left: 252.0px; font-family: Futura; font-size: 25px; transform: rotate(0deg); position: absolute;'>—</div><div style='top: 151.2px; left: 268.8px; font-family: Futura; font-size: 25px; transform: rotate(0deg); position: absolute;'>—</div><div style='top: 151.2px; left: 319.2px; font-family: Futura; font-size: 25px; transform: rotate(0deg); position: absolute;'>—</div><div style='top: 151.2px; left: 336.0px; font-family: Futura; font-size: 25px; transform: rotate(0deg); position: absolute;'>—</div><div style='top: 151.2px; left: 352.8px; font-family: Futura; font-size: 25px; transform: rotate(0deg); position: absolute;'>—</div><div style='top: 151.2px; left: 369.59999999999997px; font-family: Futura; font-size: 25px; transform: rotate(0deg); position: absolute;'>—</div><div style='top: 151.2px; left: 386.4px; font-family: Futura; font-size: 25px; transform: rotate(0deg); position: absolute;'>—</div><div style='top: 168.0px; left: 0.0px; font-family: Futura; font-size: 25px; transform: rotate(0deg); position: absolute;'>—</div><div style='top: 168.0px; left: 16.8px; font-family: Futura; font-size: 25px; transform: rotate(0deg); position: absolute;'>—</div><div style='top: 168.0px; left: 84.0px; font-family: Futura; font-size: 25px; transform: rotate(0deg); position: absolute;'>—</div><div style='top: 168.0px; left: 151.2px; font-family: Futura; font-size: 25px; transform: rotate(0deg); position: absolute;'>—</div><div style='top: 168.0px; left: 168.0px; font-family: Futura; font-size: 25px; transform: rotate(0deg); position: absolute;'>—</div><div style='top: 168.0px; left: 218.4px; font-family: Futura; font-size: 25px; transform: rotate(0deg); position: absolute;'>—</div><div style='top: 168.0px; left: 235.20000000000002px; font-family: Futura; font-size: 25px; transform: rotate(0deg); position: absolute;'>—</div><div style='top: 168.0px; left: 252.0px; font-family: Futura; font-size: 25px; transform: rotate(0deg); position: absolute;'>—</div><div style='top: 168.0px; left: 285.59999999999997px; font-family: Futura; font-size: 25px; transform: rotate(0deg); position: absolute;'>—</div><div style='top: 168.0px; left: 302.4px; font-family: Futura; font-size: 25px; transform: rotate(0deg); position: absolute;'>—</div><div style='top: 168.0px; left: 319.2px; font-family: Futura; font-size: 25px; transform: rotate(0deg); position: absolute;'>—</div><div style='top: 168.0px; left: 336.0px; font-family: Futura; font-size: 25px; transform: rotate(0deg); position: absolute;'>—</div><div style='top: 168.0px; left: 369.59999999999997px; font-family: Futura; font-size: 25px; transform: rotate(0deg); position: absolute;'>—</div><div style='top: 168.0px; left: 403.19999999999993px; font-family: Futura; font-size: 25px; transform: rotate(0deg); position: absolute;'>—</div><div style='top: 184.79999999999998px; left: 33.6px; font-family: Futura; font-size: 25px; transform: rotate(0deg); position: absolute;'>—</div><div style='top: 184.79999999999998px; left: 134.4px; font-family: Futura; font-size: 25px; transform: rotate(0deg); position: absolute;'>—</div><div style='top: 184.79999999999998px; left: 168.0px; font-family: Futura; font-size: 25px; transform: rotate(0deg); position: absolute;'>—</div><div style='top: 184.79999999999998px; left: 218.4px; font-family: Futura; font-size: 25px; transform: rotate(0deg); position: absolute;'>—</div><div style='top: 184.79999999999998px; left: 235.20000000000002px; font-family: Futura; font-size: 25px; transform: rotate(0deg); position: absolute;'>—</div><div style='top: 184.79999999999998px; left: 319.2px; font-family: Futura; font-size: 25px; transform: rotate(0deg); position: absolute;'>—</div><div style='top: 184.79999999999998px; left: 336.0px; font-family: Futura; font-size: 25px; transform: rotate(0deg); position: absolute;'>—</div><div style='top: 201.59999999999997px; left: 33.6px; font-family: Futura; font-size: 25px; transform: rotate(0deg); position: absolute;'>—</div><div style='top: 201.59999999999997px; left: 50.39999999999999px; font-family: Futura; font-size: 25px; transform: rotate(0deg); position: absolute;'>—</div><div style='top: 201.59999999999997px; left: 100.79999999999998px; font-family: Futura; font-size: 25px; transform: rotate(0deg); position: absolute;'>—</div><div style='top: 201.59999999999997px; left: 117.60000000000001px; font-family: Futura; font-size: 25px; transform: rotate(0deg); position: absolute;'>—</div><div style='top: 201.59999999999997px; left: 168.0px; font-family: Futura; font-size: 25px; transform: rotate(0deg); position: absolute;'>—</div><div style='top: 201.59999999999997px; left: 235.20000000000002px; font-family: Futura; font-size: 25px; transform: rotate(0deg); position: absolute;'>—</div><div style='top: 201.59999999999997px; left: 319.2px; font-family: Futura; font-size: 25px; transform: rotate(0deg); position: absolute;'>—</div><div style='top: 201.59999999999997px; left: 336.0px; font-family: Futura; font-size: 25px; transform: rotate(0deg); position: absolute;'>—</div><div style='top: 218.4px; left: 0.0px; font-family: Futura; font-size: 25px; transform: rotate(0deg); position: absolute;'>—</div><div style='top: 218.4px; left: 50.39999999999999px; font-family: Futura; font-size: 25px; transform: rotate(0deg); position: absolute;'>—</div><div style='top: 218.4px; left: 67.2px; font-family: Futura; font-size: 25px; transform: rotate(0deg); position: absolute;'>—</div><div style='top: 218.4px; left: 84.0px; font-family: Futura; font-size: 25px; transform: rotate(0deg); position: absolute;'>—</div><div style='top: 218.4px; left: 151.2px; font-family: Futura; font-size: 25px; transform: rotate(0deg); position: absolute;'>—</div><div style='top: 218.4px; left: 201.59999999999997px; font-family: Futura; font-size: 25px; transform: rotate(0deg); position: absolute;'>—</div><div style='top: 218.4px; left: 218.4px; font-family: Futura; font-size: 25px; transform: rotate(0deg); position: absolute;'>—</div><div style='top: 218.4px; left: 235.20000000000002px; font-family: Futura; font-size: 25px; transform: rotate(0deg); position: absolute;'>—</div><div style='top: 218.4px; left: 285.59999999999997px; font-family: Futura; font-size: 25px; transform: rotate(0deg); position: absolute;'>—</div><div style='top: 218.4px; left: 302.4px; font-family: Futura; font-size: 25px; transform: rotate(0deg); position: absolute;'>—</div><div style='top: 218.4px; left: 352.8px; font-family: Futura; font-size: 25px; transform: rotate(0deg); position: absolute;'>—</div><div style='top: 218.4px; left: 369.59999999999997px; font-family: Futura; font-size: 25px; transform: rotate(0deg); position: absolute;'>—</div><div style='top: 218.4px; left: 386.4px; font-family: Futura; font-size: 25px; transform: rotate(0deg); position: absolute;'>—</div><div style='top: 235.20000000000002px; left: 16.8px; font-family: Futura; font-size: 25px; transform: rotate(0deg); position: absolute;'>—</div><div style='top: 235.20000000000002px; left: 33.6px; font-family: Futura; font-size: 25px; transform: rotate(0deg); position: absolute;'>—</div><div style='top: 235.20000000000002px; left: 50.39999999999999px; font-family: Futura; font-size: 25px; transform: rotate(0deg); position: absolute;'>—</div><div style='top: 235.20000000000002px; left: 67.2px; font-family: Futura; font-size: 25px; transform: rotate(0deg); position: absolute;'>—</div><div style='top: 235.20000000000002px; left: 151.2px; font-family: Futura; font-size: 25px; transform: rotate(0deg); position: absolute;'>—</div><div style='top: 235.20000000000002px; left: 184.79999999999998px; font-family: Futura; font-size: 25px; transform: rotate(0deg); position: absolute;'>—</div><div style='top: 235.20000000000002px; left: 235.20000000000002px; font-family: Futura; font-size: 25px; transform: rotate(0deg); position: absolute;'>—</div><div style='top: 235.20000000000002px; left: 285.59999999999997px; font-family: Futura; font-size: 25px; transform: rotate(0deg); position: absolute;'>—</div><div style='top: 235.20000000000002px; left: 336.0px; font-family: Futura; font-size: 25px; transform: rotate(0deg); position: absolute;'>—</div><div style='top: 235.20000000000002px; left: 352.8px; font-family: Futura; font-size: 25px; transform: rotate(0deg); position: absolute;'>—</div><div style='top: 235.20000000000002px; left: 386.4px; font-family: Futura; font-size: 25px; transform: rotate(0deg); position: absolute;'>—</div><div style='top: 252.0px; left: 0.0px; font-family: Futura; font-size: 25px; transform: rotate(0deg); position: absolute;'>—</div><div style='top: 252.0px; left: 16.8px; font-family: Futura; font-size: 25px; transform: rotate(0deg); position: absolute;'>—</div><div style='top: 252.0px; left: 50.39999999999999px; font-family: Futura; font-size: 25px; transform: rotate(0deg); position: absolute;'>—</div><div style='top: 252.0px; left: 67.2px; font-family: Futura; font-size: 25px; transform: rotate(0deg); position: absolute;'>—</div><div style='top: 252.0px; left: 84.0px; font-family: Futura; font-size: 25px; transform: rotate(0deg); position: absolute;'>—</div><div style='top: 252.0px; left: 134.4px; font-family: Futura; font-size: 25px; transform: rotate(0deg); position: absolute;'>—</div><div style='top: 252.0px; left: 151.2px; font-family: Futura; font-size: 25px; transform: rotate(0deg); position: absolute;'>—</div><div style='top: 252.0px; left: 168.0px; font-family: Futura; font-size: 25px; transform: rotate(0deg); position: absolute;'>—</div><div style='top: 252.0px; left: 184.79999999999998px; font-family: Futura; font-size: 25px; transform: rotate(0deg); position: absolute;'>—</div><div style='top: 252.0px; left: 201.59999999999997px; font-family: Futura; font-size: 25px; transform: rotate(0deg); position: absolute;'>—</div><div style='top: 252.0px; left: 235.20000000000002px; font-family: Futura; font-size: 25px; transform: rotate(0deg); position: absolute;'>—</div><div style='top: 252.0px; left: 252.0px; font-family: Futura; font-size: 25px; transform: rotate(0deg); position: absolute;'>—</div><div style='top: 252.0px; left: 352.8px; font-family: Futura; font-size: 25px; transform: rotate(0deg); position: absolute;'>—</div><div style='top: 252.0px; left: 369.59999999999997px; font-family: Futura; font-size: 25px; transform: rotate(0deg); position: absolute;'>—</div><div style='top: 268.8px; left: 0.0px; font-family: Futura; font-size: 25px; transform: rotate(0deg); position: absolute;'>—</div><div style='top: 268.8px; left: 16.8px; font-family: Futura; font-size: 25px; transform: rotate(0deg); position: absolute;'>—</div><div style='top: 268.8px; left: 134.4px; font-family: Futura; font-size: 25px; transform: rotate(0deg); position: absolute;'>—</div><div style='top: 268.8px; left: 218.4px; font-family: Futura; font-size: 25px; transform: rotate(0deg); position: absolute;'>—</div><div style='top: 268.8px; left: 235.20000000000002px; font-family: Futura; font-size: 25px; transform: rotate(0deg); position: absolute;'>—</div><div style='top: 268.8px; left: 252.0px; font-family: Futura; font-size: 25px; transform: rotate(0deg); position: absolute;'>—</div><div style='top: 268.8px; left: 268.8px; font-family: Futura; font-size: 25px; transform: rotate(0deg); position: absolute;'>—</div><div style='top: 268.8px; left: 285.59999999999997px; font-family: Futura; font-size: 25px; transform: rotate(0deg); position: absolute;'>—</div><div style='top: 268.8px; left: 352.8px; font-family: Futura; font-size: 25px; transform: rotate(0deg); position: absolute;'>—</div><div style='top: 268.8px; left: 369.59999999999997px; font-family: Futura; font-size: 25px; transform: rotate(0deg); position: absolute;'>—</div><div style='top: 285.59999999999997px; left: 50.39999999999999px; font-family: Futura; font-size: 25px; transform: rotate(0deg); position: absolute;'>—</div><div style='top: 285.59999999999997px; left: 134.4px; font-family: Futura; font-size: 25px; transform: rotate(0deg); position: absolute;'>—</div><div style='top: 285.59999999999997px; left: 151.2px; font-family: Futura; font-size: 25px; transform: rotate(0deg); position: absolute;'>—</div><div style='top: 285.59999999999997px; left: 235.20000000000002px; font-family: Futura; font-size: 25px; transform: rotate(0deg); position: absolute;'>—</div><div style='top: 285.59999999999997px; left: 285.59999999999997px; font-family: Futura; font-size: 25px; transform: rotate(0deg); position: absolute;'>—</div><div style='top: 285.59999999999997px; left: 302.4px; font-family: Futura; font-size: 25px; transform: rotate(0deg); position: absolute;'>—</div><div style='top: 285.59999999999997px; left: 352.8px; font-family: Futura; font-size: 25px; transform: rotate(0deg); position: absolute;'>—</div><div style='top: 285.59999999999997px; left: 369.59999999999997px; font-family: Futura; font-size: 25px; transform: rotate(0deg); position: absolute;'>—</div><div style='top: 302.4px; left: 67.2px; font-family: Futura; font-size: 25px; transform: rotate(0deg); position: absolute;'>—</div><div style='top: 302.4px; left: 151.2px; font-family: Futura; font-size: 25px; transform: rotate(0deg); position: absolute;'>—</div><div style='top: 302.4px; left: 235.20000000000002px; font-family: Futura; font-size: 25px; transform: rotate(0deg); position: absolute;'>—</div><div style='top: 302.4px; left: 319.2px; font-family: Futura; font-size: 25px; transform: rotate(0deg); position: absolute;'>—</div><div style='top: 302.4px; left: 352.8px; font-family: Futura; font-size: 25px; transform: rotate(0deg); position: absolute;'>—</div><div style='top: 319.2px; left: 33.6px; font-family: Futura; font-size: 25px; transform: rotate(0deg); position: absolute;'>—</div><div style='top: 319.2px; left: 201.59999999999997px; font-family: Futura; font-size: 25px; transform: rotate(0deg); position: absolute;'>—</div><div style='top: 319.2px; left: 235.20000000000002px; font-family: Futura; font-size: 25px; transform: rotate(0deg); position: absolute;'>—</div><div style='top: 319.2px; left: 252.0px; font-family: Futura; font-size: 25px; transform: rotate(0deg); position: absolute;'>—</div><div style='top: 319.2px; left: 268.8px; font-family: Futura; font-size: 25px; transform: rotate(0deg); position: absolute;'>—</div><div style='top: 319.2px; left: 319.2px; font-family: Futura; font-size: 25px; transform: rotate(0deg); position: absolute;'>—</div><div style='top: 319.2px; left: 336.0px; font-family: Futura; font-size: 25px; transform: rotate(0deg); position: absolute;'>—</div><div style='top: 319.2px; left: 403.19999999999993px; font-family: Futura; font-size: 25px; transform: rotate(0deg); position: absolute;'>—</div><div style='top: 336.0px; left: 33.6px; font-family: Futura; font-size: 25px; transform: rotate(0deg); position: absolute;'>—</div><div style='top: 336.0px; left: 184.79999999999998px; font-family: Futura; font-size: 25px; transform: rotate(0deg); position: absolute;'>—</div><div style='top: 336.0px; left: 336.0px; font-family: Futura; font-size: 25px; transform: rotate(0deg); position: absolute;'>—</div><div style='top: 336.0px; left: 386.4px; font-family: Futura; font-size: 25px; transform: rotate(0deg); position: absolute;'>—</div><div style='top: 352.8px; left: 33.6px; font-family: Futura; font-size: 25px; transform: rotate(0deg); position: absolute;'>—</div><div style='top: 352.8px; left: 117.60000000000001px; font-family: Futura; font-size: 25px; transform: rotate(0deg); position: absolute;'>—</div><div style='top: 352.8px; left: 151.2px; font-family: Futura; font-size: 25px; transform: rotate(0deg); position: absolute;'>—</div><div style='top: 352.8px; left: 184.79999999999998px; font-family: Futura; font-size: 25px; transform: rotate(0deg); position: absolute;'>—</div><div style='top: 352.8px; left: 268.8px; font-family: Futura; font-size: 25px; transform: rotate(0deg); position: absolute;'>—</div><div style='top: 352.8px; left: 352.8px; font-family: Futura; font-size: 25px; transform: rotate(0deg); position: absolute;'>—</div><div style='top: 369.59999999999997px; left: 50.39999999999999px; font-family: Futura; font-size: 25px; transform: rotate(0deg); position: absolute;'>—</div><div style='top: 369.59999999999997px; left: 151.2px; font-family: Futura; font-size: 25px; transform: rotate(0deg); position: absolute;'>—</div><div style='top: 386.4px; left: 201.59999999999997px; font-family: Futura; font-size: 25px; transform: rotate(0deg); position: absolute;'>—</div><div style='top: 386.4px; left: 352.8px; font-family: Futura; font-size: 25px; transform: rotate(0deg); position: absolute;'>—</div><div style='top: 27.8px; left: 29.6px; font-family: Futura; font-size: 25px; transform: rotate(90deg); position: absolute;'>—</div><div style='top: 27.8px; left: 298.4px; font-family: Futura; font-size: 25px; transform: rotate(90deg); position: absolute;'>—</div><div style='top: 44.6px; left: 12.8px; font-family: Futura; font-size: 25px; transform: rotate(90deg); position: absolute;'>—</div><div style='top: 44.6px; left: 298.4px; font-family: Futura; font-size: 25px; transform: rotate(90deg); position: absolute;'>—</div><div style='top: 61.39999999999999px; left: 63.2px; font-family: Futura; font-size: 25px; transform: rotate(90deg); position: absolute;'>—</div><div style='top: 61.39999999999999px; left: 298.4px; font-family: Futura; font-size: 25px; transform: rotate(90deg); position: absolute;'>—</div><div style='top: 61.39999999999999px; left: 365.59999999999997px; font-family: Futura; font-size: 25px; transform: rotate(90deg); position: absolute;'>—</div><div style='top: 78.2px; left: 29.6px; font-family: Futura; font-size: 25px; transform: rotate(90deg); position: absolute;'>—</div><div style='top: 78.2px; left: 298.4px; font-family: Futura; font-size: 25px; transform: rotate(90deg); position: absolute;'>—</div><div style='top: 95.0px; left: 46.39999999999999px; font-family: Futura; font-size: 25px; transform: rotate(90deg); position: absolute;'>—</div><div style='top: 95.0px; left: 248.0px; font-family: Futura; font-size: 25px; transform: rotate(90deg); position: absolute;'>—</div><div style='top: 95.0px; left: 264.8px; font-family: Futura; font-size: 25px; transform: rotate(90deg); position: absolute;'>—</div><div style='top: 95.0px; left: 298.4px; font-family: Futura; font-size: 25px; transform: rotate(90deg); position: absolute;'>—</div><div style='top: 95.0px; left: 382.4px; font-family: Futura; font-size: 25px; transform: rotate(90deg); position: absolute;'>—</div><div style='top: 95.0px; left: 416.0px; font-family: Futura; font-size: 25px; transform: rotate(90deg); position: absolute;'>—</div><div style='top: 111.79999999999998px; left: 96.79999999999998px; font-family: Futura; font-size: 25px; transform: rotate(90deg); position: absolute;'>—</div><div style='top: 111.79999999999998px; left: 147.2px; font-family: Futura; font-size: 25px; transform: rotate(90deg); position: absolute;'>—</div><div style='top: 111.79999999999998px; left: 180.79999999999998px; font-family: Futura; font-size: 25px; transform: rotate(90deg); position: absolute;'>—</div><div style='top: 111.79999999999998px; left: 231.20000000000002px; font-family: Futura; font-size: 25px; transform: rotate(90deg); position: absolute;'>—</div><div style='top: 111.79999999999998px; left: 248.0px; font-family: Futura; font-size: 25px; transform: rotate(90deg); position: absolute;'>—</div><div style='top: 111.79999999999998px; left: 281.59999999999997px; font-family: Futura; font-size: 25px; transform: rotate(90deg); position: absolute;'>—</div><div style='top: 111.79999999999998px; left: 399.19999999999993px; font-family: Futura; font-size: 25px; transform: rotate(90deg); position: absolute;'>—</div><div style='top: 128.60000000000002px; left: 46.39999999999999px; font-family: Futura; font-size: 25px; transform: rotate(90deg); position: absolute;'>—</div><div style='top: 128.60000000000002px; left: 113.60000000000001px; font-family: Futura; font-size: 25px; transform: rotate(90deg); position: absolute;'>—</div><div style='top: 128.60000000000002px; left: 197.59999999999997px; font-family: Futura; font-size: 25px; transform: rotate(90deg); position: absolute;'>—</div><div style='top: 128.60000000000002px; left: 231.20000000000002px; font-family: Futura; font-size: 25px; transform: rotate(90deg); position: absolute;'>—</div><div style='top: 128.60000000000002px; left: 315.2px; font-family: Futura; font-size: 25px; transform: rotate(90deg); position: absolute;'>—</div><div style='top: 145.4px; left: 96.79999999999998px; font-family: Futura; font-size: 25px; transform: rotate(90deg); position: absolute;'>—</div><div style='top: 145.4px; left: 113.60000000000001px; font-family: Futura; font-size: 25px; transform: rotate(90deg); position: absolute;'>—</div><div style='top: 145.4px; left: 180.79999999999998px; font-family: Futura; font-size: 25px; transform: rotate(90deg); position: absolute;'>—</div><div style='top: 145.4px; left: 197.59999999999997px; font-family: Futura; font-size: 25px; transform: rotate(90deg); position: absolute;'>—</div><div style='top: 145.4px; left: 214.4px; font-family: Futura; font-size: 25px; transform: rotate(90deg); position: absolute;'>—</div><div style='top: 145.4px; left: 315.2px; font-family: Futura; font-size: 25px; transform: rotate(90deg); position: absolute;'>—</div><div style='top: 145.4px; left: 348.8px; font-family: Futura; font-size: 25px; transform: rotate(90deg); position: absolute;'>—</div><div style='top: 145.4px; left: 382.4px; font-family: Futura; font-size: 25px; transform: rotate(90deg); position: absolute;'>—</div><div style='top: 162.2px; left: 12.8px; font-family: Futura; font-size: 25px; transform: rotate(90deg); position: absolute;'>—</div><div style='top: 162.2px; left: 96.79999999999998px; font-family: Futura; font-size: 25px; transform: rotate(90deg); position: absolute;'>—</div><div style='top: 162.2px; left: 147.2px; font-family: Futura; font-size: 25px; transform: rotate(90deg); position: absolute;'>—</div><div style='top: 162.2px; left: 197.59999999999997px; font-family: Futura; font-size: 25px; transform: rotate(90deg); position: absolute;'>—</div><div style='top: 162.2px; left: 264.8px; font-family: Futura; font-size: 25px; transform: rotate(90deg); position: absolute;'>—</div><div style='top: 162.2px; left: 281.59999999999997px; font-family: Futura; font-size: 25px; transform: rotate(90deg); position: absolute;'>—</div><div style='top: 162.2px; left: 298.4px; font-family: Futura; font-size: 25px; transform: rotate(90deg); position: absolute;'>—</div><div style='top: 162.2px; left: 365.59999999999997px; font-family: Futura; font-size: 25px; transform: rotate(90deg); position: absolute;'>—</div><div style='top: 162.2px; left: 399.19999999999993px; font-family: Futura; font-size: 25px; transform: rotate(90deg); position: absolute;'>—</div><div style='top: 179.0px; left: -4.0px; font-family: Futura; font-size: 25px; transform: rotate(90deg); position: absolute;'>—</div><div style='top: 179.0px; left: 12.8px; font-family: Futura; font-size: 25px; transform: rotate(90deg); position: absolute;'>—</div><div style='top: 179.0px; left: 29.6px; font-family: Futura; font-size: 25px; transform: rotate(90deg); position: absolute;'>—</div><div style='top: 179.0px; left: 63.2px; font-family: Futura; font-size: 25px; transform: rotate(90deg); position: absolute;'>—</div><div style='top: 179.0px; left: 80.0px; font-family: Futura; font-size: 25px; transform: rotate(90deg); position: absolute;'>—</div><div style='top: 179.0px; left: 164.0px; font-family: Futura; font-size: 25px; transform: rotate(90deg); position: absolute;'>—</div><div style='top: 179.0px; left: 248.0px; font-family: Futura; font-size: 25px; transform: rotate(90deg); position: absolute;'>—</div><div style='top: 179.0px; left: 332.0px; font-family: Futura; font-size: 25px; transform: rotate(90deg); position: absolute;'>—</div><div style='top: 179.0px; left: 348.8px; font-family: Futura; font-size: 25px; transform: rotate(90deg); position: absolute;'>—</div><div style='top: 179.0px; left: 365.59999999999997px; font-family: Futura; font-size: 25px; transform: rotate(90deg); position: absolute;'>—</div><div style='top: 179.0px; left: 382.4px; font-family: Futura; font-size: 25px; transform: rotate(90deg); position: absolute;'>—</div><div style='top: 179.0px; left: 399.19999999999993px; font-family: Futura; font-size: 25px; transform: rotate(90deg); position: absolute;'>—</div><div style='top: 195.79999999999998px; left: 12.8px; font-family: Futura; font-size: 25px; transform: rotate(90deg); position: absolute;'>—</div><div style='top: 195.79999999999998px; left: 63.2px; font-family: Futura; font-size: 25px; transform: rotate(90deg); position: absolute;'>—</div><div style='top: 195.79999999999998px; left: 130.4px; font-family: Futura; font-size: 25px; transform: rotate(90deg); position: absolute;'>—</div><div style='top: 195.79999999999998px; left: 197.59999999999997px; font-family: Futura; font-size: 25px; transform: rotate(90deg); position: absolute;'>—</div><div style='top: 195.79999999999998px; left: 264.8px; font-family: Futura; font-size: 25px; transform: rotate(90deg); position: absolute;'>—</div><div style='top: 195.79999999999998px; left: 298.4px; font-family: Futura; font-size: 25px; transform: rotate(90deg); position: absolute;'>—</div><div style='top: 195.79999999999998px; left: 348.8px; font-family: Futura; font-size: 25px; transform: rotate(90deg); position: absolute;'>—</div><div style='top: 195.79999999999998px; left: 382.4px; font-family: Futura; font-size: 25px; transform: rotate(90deg); position: absolute;'>—</div><div style='top: 212.59999999999997px; left: 63.2px; font-family: Futura; font-size: 25px; transform: rotate(90deg); position: absolute;'>—</div><div style='top: 212.59999999999997px; left: 80.0px; font-family: Futura; font-size: 25px; transform: rotate(90deg); position: absolute;'>—</div><div style='top: 212.59999999999997px; left: 130.4px; font-family: Futura; font-size: 25px; transform: rotate(90deg); position: absolute;'>—</div><div style='top: 212.59999999999997px; left: 147.2px; font-family: Futura; font-size: 25px; transform: rotate(90deg); position: absolute;'>—</div><div style='top: 212.59999999999997px; left: 164.0px; font-family: Futura; font-size: 25px; transform: rotate(90deg); position: absolute;'>—</div><div style='top: 212.59999999999997px; left: 180.79999999999998px; font-family: Futura; font-size: 25px; transform: rotate(90deg); position: absolute;'>—</div><div style='top: 212.59999999999997px; left: 197.59999999999997px; font-family: Futura; font-size: 25px; transform: rotate(90deg); position: absolute;'>—</div><div style='top: 212.59999999999997px; left: 231.20000000000002px; font-family: Futura; font-size: 25px; transform: rotate(90deg); position: absolute;'>—</div><div style='top: 212.59999999999997px; left: 264.8px; font-family: Futura; font-size: 25px; transform: rotate(90deg); position: absolute;'>—</div><div style='top: 212.59999999999997px; left: 315.2px; font-family: Futura; font-size: 25px; transform: rotate(90deg); position: absolute;'>—</div><div style='top: 212.59999999999997px; left: 365.59999999999997px; font-family: Futura; font-size: 25px; transform: rotate(90deg); position: absolute;'>—</div><div style='top: 229.4px; left: -4.0px; font-family: Futura; font-size: 25px; transform: rotate(90deg); position: absolute;'>—</div><div style='top: 229.4px; left: 29.6px; font-family: Futura; font-size: 25px; transform: rotate(90deg); position: absolute;'>—</div><div style='top: 229.4px; left: 46.39999999999999px; font-family: Futura; font-size: 25px; transform: rotate(90deg); position: absolute;'>—</div><div style='top: 229.4px; left: 80.0px; font-family: Futura; font-size: 25px; transform: rotate(90deg); position: absolute;'>—</div><div style='top: 229.4px; left: 96.79999999999998px; font-family: Futura; font-size: 25px; transform: rotate(90deg); position: absolute;'>—</div><div style='top: 229.4px; left: 113.60000000000001px; font-family: Futura; font-size: 25px; transform: rotate(90deg); position: absolute;'>—</div><div style='top: 229.4px; left: 130.4px; font-family: Futura; font-size: 25px; transform: rotate(90deg); position: absolute;'>—</div><div style='top: 229.4px; left: 164.0px; font-family: Futura; font-size: 25px; transform: rotate(90deg); position: absolute;'>—</div><div style='top: 229.4px; left: 180.79999999999998px; font-family: Futura; font-size: 25px; transform: rotate(90deg); position: absolute;'>—</div><div style='top: 229.4px; left: 214.4px; font-family: Futura; font-size: 25px; transform: rotate(90deg); position: absolute;'>—</div><div style='top: 229.4px; left: 332.0px; font-family: Futura; font-size: 25px; transform: rotate(90deg); position: absolute;'>—</div><div style='top: 229.4px; left: 416.0px; font-family: Futura; font-size: 25px; transform: rotate(90deg); position: absolute;'>—</div><div style='top: 246.20000000000002px; left: -4.0px; font-family: Futura; font-size: 25px; transform: rotate(90deg); position: absolute;'>—</div><div style='top: 246.20000000000002px; left: 80.0px; font-family: Futura; font-size: 25px; transform: rotate(90deg); position: absolute;'>—</div><div style='top: 246.20000000000002px; left: 147.2px; font-family: Futura; font-size: 25px; transform: rotate(90deg); position: absolute;'>—</div><div style='top: 246.20000000000002px; left: 180.79999999999998px; font-family: Futura; font-size: 25px; transform: rotate(90deg); position: absolute;'>—</div><div style='top: 246.20000000000002px; left: 214.4px; font-family: Futura; font-size: 25px; transform: rotate(90deg); position: absolute;'>—</div><div style='top: 246.20000000000002px; left: 264.8px; font-family: Futura; font-size: 25px; transform: rotate(90deg); position: absolute;'>—</div><div style='top: 246.20000000000002px; left: 281.59999999999997px; font-family: Futura; font-size: 25px; transform: rotate(90deg); position: absolute;'>—</div><div style='top: 246.20000000000002px; left: 298.4px; font-family: Futura; font-size: 25px; transform: rotate(90deg); position: absolute;'>—</div><div style='top: 246.20000000000002px; left: 348.8px; font-family: Futura; font-size: 25px; transform: rotate(90deg); position: absolute;'>—</div><div style='top: 246.20000000000002px; left: 365.59999999999997px; font-family: Futura; font-size: 25px; transform: rotate(90deg); position: absolute;'>—</div><div style='top: 246.20000000000002px; left: 399.19999999999993px; font-family: Futura; font-size: 25px; transform: rotate(90deg); position: absolute;'>—</div><div style='top: 246.20000000000002px; left: 416.0px; font-family: Futura; font-size: 25px; transform: rotate(90deg); position: absolute;'>—</div><div style='top: 263.0px; left: -4.0px; font-family: Futura; font-size: 25px; transform: rotate(90deg); position: absolute;'>—</div><div style='top: 263.0px; left: 12.8px; font-family: Futura; font-size: 25px; transform: rotate(90deg); position: absolute;'>—</div><div style='top: 263.0px; left: 63.2px; font-family: Futura; font-size: 25px; transform: rotate(90deg); position: absolute;'>—</div><div style='top: 263.0px; left: 113.60000000000001px; font-family: Futura; font-size: 25px; transform: rotate(90deg); position: absolute;'>—</div><div style='top: 263.0px; left: 197.59999999999997px; font-family: Futura; font-size: 25px; transform: rotate(90deg); position: absolute;'>—</div><div style='top: 263.0px; left: 231.20000000000002px; font-family: Futura; font-size: 25px; transform: rotate(90deg); position: absolute;'>—</div><div style='top: 263.0px; left: 348.8px; font-family: Futura; font-size: 25px; transform: rotate(90deg); position: absolute;'>—</div><div style='top: 263.0px; left: 365.59999999999997px; font-family: Futura; font-size: 25px; transform: rotate(90deg); position: absolute;'>—</div><div style='top: 263.0px; left: 399.19999999999993px; font-family: Futura; font-size: 25px; transform: rotate(90deg); position: absolute;'>—</div><div style='top: 279.8px; left: 12.8px; font-family: Futura; font-size: 25px; transform: rotate(90deg); position: absolute;'>—</div><div style='top: 279.8px; left: 29.6px; font-family: Futura; font-size: 25px; transform: rotate(90deg); position: absolute;'>—</div><div style='top: 279.8px; left: 46.39999999999999px; font-family: Futura; font-size: 25px; transform: rotate(90deg); position: absolute;'>—</div><div style='top: 279.8px; left: 96.79999999999998px; font-family: Futura; font-size: 25px; transform: rotate(90deg); position: absolute;'>—</div><div style='top: 279.8px; left: 130.4px; font-family: Futura; font-size: 25px; transform: rotate(90deg); position: absolute;'>—</div><div style='top: 279.8px; left: 281.59999999999997px; font-family: Futura; font-size: 25px; transform: rotate(90deg); position: absolute;'>—</div><div style='top: 279.8px; left: 315.2px; font-family: Futura; font-size: 25px; transform: rotate(90deg); position: absolute;'>—</div><div style='top: 296.59999999999997px; left: 12.8px; font-family: Futura; font-size: 25px; transform: rotate(90deg); position: absolute;'>—</div><div style='top: 296.59999999999997px; left: 46.39999999999999px; font-family: Futura; font-size: 25px; transform: rotate(90deg); position: absolute;'>—</div><div style='top: 296.59999999999997px; left: 113.60000000000001px; font-family: Futura; font-size: 25px; transform: rotate(90deg); position: absolute;'>—</div><div style='top: 296.59999999999997px; left: 147.2px; font-family: Futura; font-size: 25px; transform: rotate(90deg); position: absolute;'>—</div><div style='top: 296.59999999999997px; left: 180.79999999999998px; font-family: Futura; font-size: 25px; transform: rotate(90deg); position: absolute;'>—</div><div style='top: 296.59999999999997px; left: 197.59999999999997px; font-family: Futura; font-size: 25px; transform: rotate(90deg); position: absolute;'>—</div><div style='top: 296.59999999999997px; left: 298.4px; font-family: Futura; font-size: 25px; transform: rotate(90deg); position: absolute;'>—</div><div style='top: 296.59999999999997px; left: 348.8px; font-family: Futura; font-size: 25px; transform: rotate(90deg); position: absolute;'>—</div><div style='top: 296.59999999999997px; left: 382.4px; font-family: Futura; font-size: 25px; transform: rotate(90deg); position: absolute;'>—</div><div style='top: 313.4px; left: 46.39999999999999px; font-family: Futura; font-size: 25px; transform: rotate(90deg); position: absolute;'>—</div><div style='top: 313.4px; left: 80.0px; font-family: Futura; font-size: 25px; transform: rotate(90deg); position: absolute;'>—</div><div style='top: 313.4px; left: 113.60000000000001px; font-family: Futura; font-size: 25px; transform: rotate(90deg); position: absolute;'>—</div><div style='top: 313.4px; left: 164.0px; font-family: Futura; font-size: 25px; transform: rotate(90deg); position: absolute;'>—</div><div style='top: 313.4px; left: 180.79999999999998px; font-family: Futura; font-size: 25px; transform: rotate(90deg); position: absolute;'>—</div><div style='top: 313.4px; left: 231.20000000000002px; font-family: Futura; font-size: 25px; transform: rotate(90deg); position: absolute;'>—</div><div style='top: 313.4px; left: 281.59999999999997px; font-family: Futura; font-size: 25px; transform: rotate(90deg); position: absolute;'>—</div><div style='top: 313.4px; left: 365.59999999999997px; font-family: Futura; font-size: 25px; transform: rotate(90deg); position: absolute;'>—</div><div style='top: 313.4px; left: 416.0px; font-family: Futura; font-size: 25px; transform: rotate(90deg); position: absolute;'>—</div><div style='top: 330.2px; left: 63.2px; font-family: Futura; font-size: 25px; transform: rotate(90deg); position: absolute;'>—</div><div style='top: 330.2px; left: 80.0px; font-family: Futura; font-size: 25px; transform: rotate(90deg); position: absolute;'>—</div><div style='top: 330.2px; left: 231.20000000000002px; font-family: Futura; font-size: 25px; transform: rotate(90deg); position: absolute;'>—</div><div style='top: 330.2px; left: 248.0px; font-family: Futura; font-size: 25px; transform: rotate(90deg); position: absolute;'>—</div><div style='top: 330.2px; left: 365.59999999999997px; font-family: Futura; font-size: 25px; transform: rotate(90deg); position: absolute;'>—</div><div style='top: 330.2px; left: 399.19999999999993px; font-family: Futura; font-size: 25px; transform: rotate(90deg); position: absolute;'>—</div><div style='top: 347.0px; left: 80.0px; font-family: Futura; font-size: 25px; transform: rotate(90deg); position: absolute;'>—</div><div style='top: 347.0px; left: 298.4px; font-family: Futura; font-size: 25px; transform: rotate(90deg); position: absolute;'>—</div><div style='top: 347.0px; left: 315.2px; font-family: Futura; font-size: 25px; transform: rotate(90deg); position: absolute;'>—</div><div style='top: 347.0px; left: 382.4px; font-family: Futura; font-size: 25px; transform: rotate(90deg); position: absolute;'>—</div><div style='top: 363.8px; left: 248.0px; font-family: Futura; font-size: 25px; transform: rotate(90deg); position: absolute;'>—</div><div style='top: 363.8px; left: 332.0px; font-family: Futura; font-size: 25px; transform: rotate(90deg); position: absolute;'>—</div><div style='top: 363.8px; left: 416.0px; font-family: Futura; font-size: 25px; transform: rotate(90deg); position: absolute;'>—</div><div style='top: 380.59999999999997px; left: 12.8px; font-family: Futura; font-size: 25px; transform: rotate(90deg); position: absolute;'>—</div><div style='top: 380.59999999999997px; left: 80.0px; font-family: Futura; font-size: 25px; transform: rotate(90deg); position: absolute;'>—</div><div style='top: 380.59999999999997px; left: 130.4px; font-family: Futura; font-size: 25px; transform: rotate(90deg); position: absolute;'>—</div><div style='top: 380.59999999999997px; left: 231.20000000000002px; font-family: Futura; font-size: 25px; transform: rotate(90deg); position: absolute;'>—</div><div style='top: 380.59999999999997px; left: 281.59999999999997px; font-family: Futura; font-size: 25px; transform: rotate(90deg); position: absolute;'>—</div><div style='top: 380.59999999999997px; left: 332.0px; font-family: Futura; font-size: 25px; transform: rotate(90deg); position: absolute;'>—</div><div style='top: 380.59999999999997px; left: 365.59999999999997px; font-family: Futura; font-size: 25px; transform: rotate(90deg); position: absolute;'>—</div><div style='top: 397.4px; left: 12.8px; font-family: Futura; font-size: 25px; transform: rotate(90deg); position: absolute;'>—</div><div style='top: 397.4px; left: 231.20000000000002px; font-family: Futura; font-size: 25px; transform: rotate(90deg); position: absolute;'>—</div><div style='top: 397.4px; left: 248.0px; font-family: Futura; font-size: 25px; transform: rotate(90deg); position: absolute;'>—</div>\n",
       "</body>\n",
       "</html>"
      ],
      "text/plain": [
       "<IPython.core.display.HTML object>"
      ]
     },
     "metadata": {
      "isolated": true
     },
     "output_type": "display_data"
    }
   ],
   "source": [
    "## Defining the image\n",
    "\n",
    "src = \"—\" ##counting grid on pic\n",
    "blank = \" \"\n",
    "current_index = 0\n",
    "x_count = 25\n",
    "y_count = 25\n",
    "grid_size = 60\n",
    "divs = []\n",
    "\n",
    "shape_size = 200\n",
    "noise_size = (shape_size + 2, shape_size + 2)\n",
    "\n",
    "noise = perlin_array(shape=noise_size)\n",
    "noise2 = perlin_array(shape=noise_size)\n",
    "\n",
    "norms = norm(size=noise_size)\n",
    "norms2 = norm(size=noise_size)\n",
    "print(\"norms is \")\n",
    "print(norms)\n",
    "\n",
    "def noise_val(n, i, j):\n",
    "    return n[i * int(shape_size / x_count)][j * int(shape_size / y_count)]\n",
    "\n",
    "print(\"noise is \")\n",
    "print(noise)\n",
    "\n",
    "## THIS MAKES HORIZONTAL LINES ##\n",
    "\n",
    "for i in range(x_count):\n",
    "    for j in range(y_count):\n",
    "        x_pos = (grid_size / x_count) * i\n",
    "        y_pos = (grid_size / y_count) * j\n",
    "#         degrees = 90* random.randint(1,4)\n",
    "        degrees = 90 * 0\n",
    "        if noise_val(noise, i, j) < 0.5: \n",
    "            if random.random() > (abs(12 - i) / 12):\n",
    "                this_div = mkdiv(src,\n",
    "                                top=f\"{x_pos*7}px\",\n",
    "                                left=f\"{y_pos*7}px\",\n",
    "                                font_family=\"Futura\",\n",
    "                                font_size=\"25px\",\n",
    "                                transform=f\"rotate({degrees}deg)\"\n",
    "                                )\n",
    "\n",
    "                divs.append(this_div)\n",
    "                current_index += 1\n",
    "\n",
    "## THIS MAKES VERTICAL LINES ##\n",
    "\n",
    "            \n",
    "            \n",
    "for i in range(x_count-1):\n",
    "    for j in range(y_count+1):\n",
    "        x_pos = (grid_size / x_count) * i\n",
    "        y_pos = (grid_size / y_count) * j\n",
    "        degrees = 90 * 1\n",
    "        if noise_val(norms2, i, j) < 0.5:\n",
    "            if random.random() > (abs(12 - i) / 12):\n",
    "                this_div = mkdiv(src,\n",
    "                                top=f\"{(x_pos*7)+11}px\",\n",
    "                                left=f\"{(y_pos*7)-4}px\",\n",
    "                                font_family=\"Futura\",\n",
    "                                font_size=\"25px\",\n",
    "                                transform=f\"rotate({degrees}deg)\")\n",
    "                divs.append(this_div)\n",
    "                current_index = 0\n",
    "\n",
    "        \n",
    "html_src = html_tmpl.format(title=\"grid\", content=\"\".join(divs))\n",
    "show_html(html_src)\n",
    "\n"
   ]
  },
  {
   "cell_type": "code",
   "execution_count": 7,
   "metadata": {},
   "outputs": [],
   "source": [
    "open(\"test.html\", \"w\").write(html_src)\n",
    "!open test.html"
   ]
  },
  {
   "cell_type": "code",
   "execution_count": null,
   "metadata": {},
   "outputs": [],
   "source": []
  }
 ],
 "metadata": {
  "kernelspec": {
   "display_name": "Python 3",
   "language": "python",
   "name": "python3"
  },
  "language_info": {
   "codemirror_mode": {
    "name": "ipython",
    "version": 3
   },
   "file_extension": ".py",
   "mimetype": "text/x-python",
   "name": "python",
   "nbconvert_exporter": "python",
   "pygments_lexer": "ipython3",
   "version": "3.7.4"
  }
 },
 "nbformat": 4,
 "nbformat_minor": 2
}
