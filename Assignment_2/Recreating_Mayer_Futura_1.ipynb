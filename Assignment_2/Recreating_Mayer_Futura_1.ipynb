{
 "cells": [
  {
   "cell_type": "markdown",
   "metadata": {},
   "source": [
    "## Recreating Mayer's Futura 1 ##\n",
    "\n",
    "I tried to recreate Hansjörg Mayer's Futura 1\n",
    "\n",
    "(Instructor: Allison Parrish)"
   ]
  },
  {
   "cell_type": "code",
   "execution_count": 19,
   "metadata": {},
   "outputs": [],
   "source": [
    "## From Allison's example code\n",
    "\n",
    "html_tmpl = \"\"\"<!DOCTYPE html>\n",
    "<html lang=\"en\">\n",
    "<head>\n",
    "    <meta charset=\"utf-8\">\n",
    "    <title>{title}</title>\n",
    "    <style>\n",
    "    html {{ min-height: 32em; overflow: hidden; }}\n",
    "    </style>\n",
    "</head>\n",
    "<body>\n",
    "{content}\n",
    "</body>\n",
    "</html>\"\"\"\n",
    "\n",
    "from IPython.display import display, HTML\n",
    "def show_html(src):\n",
    "    return display(HTML(src), metadata=dict(isolated=True))\n",
    "\n",
    "import random\n",
    "import math"
   ]
  },
  {
   "cell_type": "code",
   "execution_count": 20,
   "metadata": {},
   "outputs": [
    {
     "data": {
      "text/plain": [
       "\"<div style='top: 50%; left: 50%; font-family: Helvetica; position: absolute;'>hello</div>\""
      ]
     },
     "execution_count": 20,
     "metadata": {},
     "output_type": "execute_result"
    }
   ],
   "source": [
    "## From Allison's example code\n",
    "\n",
    "def mkdiv(content, **kwargs):\n",
    "    if 'position' not in kwargs:\n",
    "        kwargs['position'] = 'absolute'\n",
    "    style_str = ' '.join([\": \".join((k.replace('_', '-'), v))+\";\" for k, v in kwargs.items()])\n",
    "    return f\"<div style='{style_str}'>{content}</div>\"\n",
    "\n",
    "mkdiv(\"hello\", top=\"50%\", left=\"50%\", font_family=\"Helvetica\")"
   ]
  },
  {
   "cell_type": "code",
   "execution_count": 21,
   "metadata": {},
   "outputs": [
    {
     "data": {
      "text/html": [
       "<!DOCTYPE html>\n",
       "<html lang=\"en\">\n",
       "<head>\n",
       "    <meta charset=\"utf-8\">\n",
       "    <title>grid</title>\n",
       "    <style>\n",
       "    html { min-height: 32em; overflow: hidden; }\n",
       "    </style>\n",
       "</head>\n",
       "<body>\n",
       "<div style='top: 0.0%; left: 0.0%; font-family: Futura; font-size: 40; position: absolute;'>o</div><div style='top: 0.0%; left: 20.0%; font-family: Futura; font-size: 40; position: absolute;'>r</div><div style='top: 0.0%; left: 40.0%; font-family: Futura; font-size: 40; position: absolute;'>o</div><div style='top: 26.0%; left: 0.0%; font-family: Futura; font-size: 40; position: absolute;'>r</div><div style='top: 26.0%; left: 20.0%; font-family: Futura; font-size: 40; position: absolute;'>o</div><div style='top: 26.0%; left: 40.0%; font-family: Futura; font-size: 40; position: absolute;'>r</div><div style='top: 52.0%; left: 0.0%; font-family: Futura; font-size: 40; position: absolute;'>o</div><div style='top: 52.0%; left: 20.0%; font-family: Futura; font-size: 40; position: absolute;'>r</div><div style='top: 52.0%; left: 40.0%; font-family: Futura; font-size: 40; position: absolute;'>o</div>\n",
       "</body>\n",
       "</html>"
      ],
      "text/plain": [
       "<IPython.core.display.HTML object>"
      ]
     },
     "metadata": {
      "isolated": true
     },
     "output_type": "display_data"
    }
   ],
   "source": [
    "src = \"ororororo\"\n",
    "grid_count = 3\n",
    "grid_size = 60\n",
    "current_index = 0\n",
    "divs = []\n",
    "for i in range(grid_count):\n",
    "    for j in range(grid_count):\n",
    "        x_pos = (grid_size*1.3 / grid_count) * i\n",
    "        y_pos = (grid_size / grid_count) * j\n",
    "        this_div = mkdiv(src[current_index],\n",
    "                         top=f\"{x_pos}%\",\n",
    "                         left=f\"{y_pos}%\",\n",
    "                         font_family=\"Futura\",\n",
    "                         font_size=\"40\")\n",
    "#                          border=\"1px black solid\"\n",
    "        divs.append(this_div)\n",
    "        current_index += 1\n",
    "html_src = html_tmpl.format(title=\"grid\", content=\"\".join(divs))\n",
    "show_html(html_src)"
   ]
  },
  {
   "cell_type": "code",
   "execution_count": 22,
   "metadata": {},
   "outputs": [
    {
     "data": {
      "text/html": [
       "<!DOCTYPE html>\n",
       "<html lang=\"en\">\n",
       "<head>\n",
       "    <meta charset=\"utf-8\">\n",
       "    <title>grid</title>\n",
       "    <style>\n",
       "    html { min-height: 32em; overflow: hidden; }\n",
       "    </style>\n",
       "</head>\n",
       "<body>\n",
       "<div style='top: 0.0%; left: 0.0%; font-family: Futura; font-size: 40; position: absolute;'>oro</div><div style='top: 0.0%; left: 12.0%; font-family: Futura; font-size: 40; position: absolute;'>oro</div><div style='top: 0.0%; left: 24.0%; font-family: Futura; font-size: 40; position: absolute;'>oro</div><div style='top: 0.0%; left: 36.0%; font-family: Futura; font-size: 40; position: absolute;'>oro</div><div style='top: 12.0%; left: 0.0%; font-family: Futura; font-size: 40; position: absolute;'>oro</div><div style='top: 12.0%; left: 12.0%; font-family: Futura; font-size: 40; position: absolute;'>oro</div><div style='top: 12.0%; left: 24.0%; font-family: Futura; font-size: 40; position: absolute;'>oro</div><div style='top: 12.0%; left: 36.0%; font-family: Futura; font-size: 40; position: absolute;'>oro</div><div style='top: 24.0%; left: 0.0%; font-family: Futura; font-size: 40; position: absolute;'>oro</div><div style='top: 24.0%; left: 12.0%; font-family: Futura; font-size: 40; position: absolute;'>oro</div><div style='top: 24.0%; left: 24.0%; font-family: Futura; font-size: 40; position: absolute;'>oro</div><div style='top: 24.0%; left: 36.0%; font-family: Futura; font-size: 40; position: absolute;'>oro</div><div style='top: 36.0%; left: 0.0%; font-family: Futura; font-size: 40; position: absolute;'>oro</div><div style='top: 36.0%; left: 12.0%; font-family: Futura; font-size: 40; position: absolute;'>oro</div><div style='top: 36.0%; left: 24.0%; font-family: Futura; font-size: 40; position: absolute;'>oro</div><div style='top: 36.0%; left: 36.0%; font-family: Futura; font-size: 40; position: absolute;'>oro</div><div style='top: 48.0%; left: 0.0%; font-family: Futura; font-size: 40; position: absolute;'>oro</div><div style='top: 48.0%; left: 12.0%; font-family: Futura; font-size: 40; position: absolute;'>oro</div><div style='top: 48.0%; left: 24.0%; font-family: Futura; font-size: 40; position: absolute;'>oro</div><div style='top: 48.0%; left: 36.0%; font-family: Futura; font-size: 40; position: absolute;'>oro</div><div style='top: 60.0%; left: 0.0%; font-family: Futura; font-size: 40; position: absolute;'>oro</div><div style='top: 60.0%; left: 12.0%; font-family: Futura; font-size: 40; position: absolute;'>oro</div><div style='top: 60.0%; left: 24.0%; font-family: Futura; font-size: 40; position: absolute;'>oro</div><div style='top: 60.0%; left: 36.0%; font-family: Futura; font-size: 40; position: absolute;'>oro</div>\n",
       "</body>\n",
       "</html>"
      ],
      "text/plain": [
       "<IPython.core.display.HTML object>"
      ]
     },
     "metadata": {
      "isolated": true
     },
     "output_type": "display_data"
    }
   ],
   "source": [
    "src = \"oro\" * 4 * 6 ##counting grid on pic\n",
    "x_count = 6\n",
    "y_count = 4\n",
    "grid_size = 60\n",
    "current_index = 0\n",
    "divs = []\n",
    "for i in range(x_count):\n",
    "    for j in range(y_count): #Question: Why is this not square??\n",
    "        x_pos = (grid_size*1.2 / x_count) * i\n",
    "        y_pos = (grid_size*0.8 / y_count) * j\n",
    "        this_div = mkdiv(src[current_index] + src[current_index+1]+src[current_index+2],\n",
    "                         top=f\"{x_pos}%\",\n",
    "                         left=f\"{y_pos}%\",\n",
    "                         font_family=\"Futura\",\n",
    "                         font_size=\"40\")\n",
    "#                          border=\"1px black solid\"\n",
    "        divs.append(this_div)\n",
    "        current_index += 3\n",
    "html_src = html_tmpl.format(title=\"grid\", content=\"\".join(divs))\n",
    "show_html(html_src)"
   ]
  },
  {
   "cell_type": "code",
   "execution_count": 29,
   "metadata": {},
   "outputs": [
    {
     "data": {
      "text/html": [
       "<!DOCTYPE html>\n",
       "<html lang=\"en\">\n",
       "<head>\n",
       "    <meta charset=\"utf-8\">\n",
       "    <title>grid</title>\n",
       "    <style>\n",
       "    html { min-height: 32em; overflow: hidden; }\n",
       "    </style>\n",
       "</head>\n",
       "<body>\n",
       "<div style='top: 0.0%; left: 0.0%; font-family: Futura; font-size: 40; position: absolute;'>o</div><div style='top: 0.0%; left: 2.8%; font-family: Futura; font-size: 40; position: absolute;'>r</div><div style='top: 0.0%; left: 5.6%; font-family: Futura; font-size: 40; position: absolute;'>o</div><div style='top: 0.0%; left: 8.399999999999999%; font-family: Futura; font-size: 40; position: absolute;'>r</div><div style='top: 0.0%; left: 11.2%; font-family: Futura; font-size: 40; position: absolute;'>o</div><div style='top: 0.0%; left: 14.0%; font-family: Futura; font-size: 40; position: absolute;'>r</div><div style='top: 0.0%; left: 16.799999999999997%; font-family: Futura; font-size: 40; position: absolute;'>o</div><div style='top: 0.0%; left: 19.599999999999998%; font-family: Futura; font-size: 40; position: absolute;'>r</div><div style='top: 0.0%; left: 22.4%; font-family: Futura; font-size: 40; position: absolute;'>o</div><div style='top: 0.0%; left: 25.2%; font-family: Futura; font-size: 40; position: absolute;'>r</div><div style='top: 0.0%; left: 28.0%; font-family: Futura; font-size: 40; position: absolute;'>o</div><div style='top: 0.0%; left: 30.799999999999997%; font-family: Futura; font-size: 40; position: absolute;'>r</div><div style='top: 0.0%; left: 33.599999999999994%; font-family: Futura; font-size: 40; position: absolute;'>o</div><div style='top: 0.0%; left: 36.4%; font-family: Futura; font-size: 40; position: absolute;'>r</div><div style='top: 0.0%; left: 39.199999999999996%; font-family: Futura; font-size: 40; position: absolute;'>o</div><div style='top: 4.8%; left: 0.0%; font-family: Futura; font-size: 40; position: absolute;'>o</div><div style='top: 4.8%; left: 2.8%; font-family: Futura; font-size: 40; position: absolute;'>r</div><div style='top: 4.8%; left: 5.6%; font-family: Futura; font-size: 40; position: absolute;'>o</div><div style='top: 4.8%; left: 8.399999999999999%; font-family: Futura; font-size: 40; position: absolute;'>r</div><div style='top: 4.8%; left: 11.2%; font-family: Futura; font-size: 40; position: absolute;'>o</div><div style='top: 4.8%; left: 14.0%; font-family: Futura; font-size: 40; position: absolute;'>r</div><div style='top: 4.8%; left: 16.799999999999997%; font-family: Futura; font-size: 40; position: absolute;'>o</div><div style='top: 4.8%; left: 19.599999999999998%; font-family: Futura; font-size: 40; position: absolute;'>r</div><div style='top: 4.8%; left: 22.4%; font-family: Futura; font-size: 40; position: absolute;'>o</div><div style='top: 4.8%; left: 25.2%; font-family: Futura; font-size: 40; position: absolute;'>r</div><div style='top: 4.8%; left: 28.0%; font-family: Futura; font-size: 40; position: absolute;'>o</div><div style='top: 4.8%; left: 30.799999999999997%; font-family: Futura; font-size: 40; position: absolute;'>r</div><div style='top: 4.8%; left: 33.599999999999994%; font-family: Futura; font-size: 40; position: absolute;'>o</div><div style='top: 4.8%; left: 36.4%; font-family: Futura; font-size: 40; position: absolute;'>r</div><div style='top: 4.8%; left: 39.199999999999996%; font-family: Futura; font-size: 40; position: absolute;'>o</div><div style='top: 9.6%; left: 0.0%; font-family: Futura; font-size: 40; position: absolute;'>o</div><div style='top: 9.6%; left: 2.8%; font-family: Futura; font-size: 40; position: absolute;'>r</div><div style='top: 9.6%; left: 5.6%; font-family: Futura; font-size: 40; position: absolute;'>o</div><div style='top: 9.6%; left: 8.399999999999999%; font-family: Futura; font-size: 40; position: absolute;'>r</div><div style='top: 9.6%; left: 11.2%; font-family: Futura; font-size: 40; position: absolute;'>o</div><div style='top: 9.6%; left: 14.0%; font-family: Futura; font-size: 40; position: absolute;'>r</div><div style='top: 9.6%; left: 16.799999999999997%; font-family: Futura; font-size: 40; position: absolute;'>o</div><div style='top: 9.6%; left: 19.599999999999998%; font-family: Futura; font-size: 40; position: absolute;'>r</div><div style='top: 9.6%; left: 22.4%; font-family: Futura; font-size: 40; position: absolute;'>o</div><div style='top: 9.6%; left: 25.2%; font-family: Futura; font-size: 40; position: absolute;'>r</div><div style='top: 9.6%; left: 28.0%; font-family: Futura; font-size: 40; position: absolute;'>o</div><div style='top: 9.6%; left: 30.799999999999997%; font-family: Futura; font-size: 40; position: absolute;'>r</div><div style='top: 9.6%; left: 33.599999999999994%; font-family: Futura; font-size: 40; position: absolute;'>o</div><div style='top: 9.6%; left: 36.4%; font-family: Futura; font-size: 40; position: absolute;'>r</div><div style='top: 9.6%; left: 39.199999999999996%; font-family: Futura; font-size: 40; position: absolute;'>o</div><div style='top: 14.399999999999999%; left: 0.0%; font-family: Futura; font-size: 40; position: absolute;'>o</div><div style='top: 14.399999999999999%; left: 2.8%; font-family: Futura; font-size: 40; position: absolute;'>r</div><div style='top: 14.399999999999999%; left: 5.6%; font-family: Futura; font-size: 40; position: absolute;'>o</div><div style='top: 14.399999999999999%; left: 8.399999999999999%; font-family: Futura; font-size: 40; position: absolute;'>r</div><div style='top: 14.399999999999999%; left: 11.2%; font-family: Futura; font-size: 40; position: absolute;'>o</div><div style='top: 14.399999999999999%; left: 14.0%; font-family: Futura; font-size: 40; position: absolute;'>r</div><div style='top: 14.399999999999999%; left: 16.799999999999997%; font-family: Futura; font-size: 40; position: absolute;'>o</div><div style='top: 14.399999999999999%; left: 19.599999999999998%; font-family: Futura; font-size: 40; position: absolute;'>r</div><div style='top: 14.399999999999999%; left: 22.4%; font-family: Futura; font-size: 40; position: absolute;'>o</div><div style='top: 14.399999999999999%; left: 25.2%; font-family: Futura; font-size: 40; position: absolute;'>r</div><div style='top: 14.399999999999999%; left: 28.0%; font-family: Futura; font-size: 40; position: absolute;'>o</div><div style='top: 14.399999999999999%; left: 30.799999999999997%; font-family: Futura; font-size: 40; position: absolute;'>r</div><div style='top: 14.399999999999999%; left: 33.599999999999994%; font-family: Futura; font-size: 40; position: absolute;'>o</div><div style='top: 14.399999999999999%; left: 36.4%; font-family: Futura; font-size: 40; position: absolute;'>r</div><div style='top: 14.399999999999999%; left: 39.199999999999996%; font-family: Futura; font-size: 40; position: absolute;'>o</div><div style='top: 19.2%; left: 0.0%; font-family: Futura; font-size: 40; position: absolute;'>o</div><div style='top: 19.2%; left: 2.8%; font-family: Futura; font-size: 40; position: absolute;'>r</div><div style='top: 19.2%; left: 5.6%; font-family: Futura; font-size: 40; position: absolute;'>o</div><div style='top: 19.2%; left: 8.399999999999999%; font-family: Futura; font-size: 40; position: absolute;'>r</div><div style='top: 19.2%; left: 11.2%; font-family: Futura; font-size: 40; position: absolute;'>o</div><div style='top: 19.2%; left: 14.0%; font-family: Futura; font-size: 40; position: absolute;'>r</div><div style='top: 19.2%; left: 16.799999999999997%; font-family: Futura; font-size: 40; position: absolute;'>o</div><div style='top: 19.2%; left: 19.599999999999998%; font-family: Futura; font-size: 40; position: absolute;'>r</div><div style='top: 19.2%; left: 22.4%; font-family: Futura; font-size: 40; position: absolute;'>o</div><div style='top: 19.2%; left: 25.2%; font-family: Futura; font-size: 40; position: absolute;'>r</div><div style='top: 19.2%; left: 28.0%; font-family: Futura; font-size: 40; position: absolute;'>o</div><div style='top: 19.2%; left: 30.799999999999997%; font-family: Futura; font-size: 40; position: absolute;'>r</div><div style='top: 19.2%; left: 33.599999999999994%; font-family: Futura; font-size: 40; position: absolute;'>o</div><div style='top: 19.2%; left: 36.4%; font-family: Futura; font-size: 40; position: absolute;'>r</div><div style='top: 19.2%; left: 39.199999999999996%; font-family: Futura; font-size: 40; position: absolute;'>o</div><div style='top: 24.0%; left: 0.0%; font-family: Futura; font-size: 40; position: absolute;'>o</div><div style='top: 24.0%; left: 2.8%; font-family: Futura; font-size: 40; position: absolute;'>r</div><div style='top: 24.0%; left: 5.6%; font-family: Futura; font-size: 40; position: absolute;'>o</div><div style='top: 24.0%; left: 8.399999999999999%; font-family: Futura; font-size: 40; position: absolute;'>r</div><div style='top: 24.0%; left: 11.2%; font-family: Futura; font-size: 40; position: absolute;'>o</div><div style='top: 24.0%; left: 14.0%; font-family: Futura; font-size: 40; position: absolute;'>r</div><div style='top: 24.0%; left: 16.799999999999997%; font-family: Futura; font-size: 40; position: absolute;'>o</div><div style='top: 24.0%; left: 19.599999999999998%; font-family: Futura; font-size: 40; position: absolute;'>r</div><div style='top: 24.0%; left: 22.4%; font-family: Futura; font-size: 40; position: absolute;'>o</div><div style='top: 24.0%; left: 25.2%; font-family: Futura; font-size: 40; position: absolute;'>r</div><div style='top: 24.0%; left: 28.0%; font-family: Futura; font-size: 40; position: absolute;'>o</div><div style='top: 24.0%; left: 30.799999999999997%; font-family: Futura; font-size: 40; position: absolute;'>r</div><div style='top: 24.0%; left: 33.599999999999994%; font-family: Futura; font-size: 40; position: absolute;'>o</div><div style='top: 24.0%; left: 36.4%; font-family: Futura; font-size: 40; position: absolute;'>r</div><div style='top: 24.0%; left: 39.199999999999996%; font-family: Futura; font-size: 40; position: absolute;'>o</div><div style='top: 28.799999999999997%; left: 0.0%; font-family: Futura; font-size: 40; position: absolute;'>o</div><div style='top: 28.799999999999997%; left: 2.8%; font-family: Futura; font-size: 40; position: absolute;'>r</div><div style='top: 28.799999999999997%; left: 5.6%; font-family: Futura; font-size: 40; position: absolute;'>o</div><div style='top: 28.799999999999997%; left: 8.399999999999999%; font-family: Futura; font-size: 40; position: absolute;'>r</div><div style='top: 28.799999999999997%; left: 11.2%; font-family: Futura; font-size: 40; position: absolute;'>o</div><div style='top: 28.799999999999997%; left: 14.0%; font-family: Futura; font-size: 40; position: absolute;'>r</div><div style='top: 28.799999999999997%; left: 16.799999999999997%; font-family: Futura; font-size: 40; position: absolute;'>o</div><div style='top: 28.799999999999997%; left: 19.599999999999998%; font-family: Futura; font-size: 40; position: absolute;'>r</div><div style='top: 28.799999999999997%; left: 22.4%; font-family: Futura; font-size: 40; position: absolute;'>o</div><div style='top: 28.799999999999997%; left: 25.2%; font-family: Futura; font-size: 40; position: absolute;'>r</div><div style='top: 28.799999999999997%; left: 28.0%; font-family: Futura; font-size: 40; position: absolute;'>o</div><div style='top: 28.799999999999997%; left: 30.799999999999997%; font-family: Futura; font-size: 40; position: absolute;'>r</div><div style='top: 28.799999999999997%; left: 33.599999999999994%; font-family: Futura; font-size: 40; position: absolute;'>o</div><div style='top: 28.799999999999997%; left: 36.4%; font-family: Futura; font-size: 40; position: absolute;'>r</div><div style='top: 28.799999999999997%; left: 39.199999999999996%; font-family: Futura; font-size: 40; position: absolute;'>o</div><div style='top: 33.6%; left: 0.0%; font-family: Futura; font-size: 40; position: absolute;'>o</div><div style='top: 33.6%; left: 2.8%; font-family: Futura; font-size: 40; position: absolute;'>r</div><div style='top: 33.6%; left: 5.6%; font-family: Futura; font-size: 40; position: absolute;'>o</div><div style='top: 33.6%; left: 8.399999999999999%; font-family: Futura; font-size: 40; position: absolute;'>r</div><div style='top: 33.6%; left: 11.2%; font-family: Futura; font-size: 40; position: absolute;'>o</div><div style='top: 33.6%; left: 14.0%; font-family: Futura; font-size: 40; position: absolute;'>r</div><div style='top: 33.6%; left: 16.799999999999997%; font-family: Futura; font-size: 40; position: absolute;'>o</div><div style='top: 33.6%; left: 19.599999999999998%; font-family: Futura; font-size: 40; position: absolute;'>r</div><div style='top: 33.6%; left: 22.4%; font-family: Futura; font-size: 40; position: absolute;'>o</div><div style='top: 33.6%; left: 25.2%; font-family: Futura; font-size: 40; position: absolute;'>r</div><div style='top: 33.6%; left: 28.0%; font-family: Futura; font-size: 40; position: absolute;'>o</div><div style='top: 33.6%; left: 30.799999999999997%; font-family: Futura; font-size: 40; position: absolute;'>r</div><div style='top: 33.6%; left: 33.599999999999994%; font-family: Futura; font-size: 40; position: absolute;'>o</div><div style='top: 33.6%; left: 36.4%; font-family: Futura; font-size: 40; position: absolute;'>r</div><div style='top: 33.6%; left: 39.199999999999996%; font-family: Futura; font-size: 40; position: absolute;'>o</div><div style='top: 38.4%; left: 0.0%; font-family: Futura; font-size: 40; position: absolute;'>o</div><div style='top: 38.4%; left: 2.8%; font-family: Futura; font-size: 40; position: absolute;'>r</div><div style='top: 38.4%; left: 5.6%; font-family: Futura; font-size: 40; position: absolute;'>o</div><div style='top: 38.4%; left: 8.399999999999999%; font-family: Futura; font-size: 40; position: absolute;'>r</div><div style='top: 38.4%; left: 11.2%; font-family: Futura; font-size: 40; position: absolute;'>o</div><div style='top: 38.4%; left: 14.0%; font-family: Futura; font-size: 40; position: absolute;'>r</div><div style='top: 38.4%; left: 16.799999999999997%; font-family: Futura; font-size: 40; position: absolute;'>o</div><div style='top: 38.4%; left: 19.599999999999998%; font-family: Futura; font-size: 40; position: absolute;'>r</div><div style='top: 38.4%; left: 22.4%; font-family: Futura; font-size: 40; position: absolute;'>o</div><div style='top: 38.4%; left: 25.2%; font-family: Futura; font-size: 40; position: absolute;'>r</div><div style='top: 38.4%; left: 28.0%; font-family: Futura; font-size: 40; position: absolute;'>o</div><div style='top: 38.4%; left: 30.799999999999997%; font-family: Futura; font-size: 40; position: absolute;'>r</div><div style='top: 38.4%; left: 33.599999999999994%; font-family: Futura; font-size: 40; position: absolute;'>o</div><div style='top: 38.4%; left: 36.4%; font-family: Futura; font-size: 40; position: absolute;'>r</div><div style='top: 38.4%; left: 39.199999999999996%; font-family: Futura; font-size: 40; position: absolute;'>o</div><div style='top: 43.199999999999996%; left: 0.0%; font-family: Futura; font-size: 40; position: absolute;'>o</div><div style='top: 43.199999999999996%; left: 2.8%; font-family: Futura; font-size: 40; position: absolute;'>r</div><div style='top: 43.199999999999996%; left: 5.6%; font-family: Futura; font-size: 40; position: absolute;'>o</div><div style='top: 43.199999999999996%; left: 8.399999999999999%; font-family: Futura; font-size: 40; position: absolute;'>r</div><div style='top: 43.199999999999996%; left: 11.2%; font-family: Futura; font-size: 40; position: absolute;'>o</div><div style='top: 43.199999999999996%; left: 14.0%; font-family: Futura; font-size: 40; position: absolute;'>r</div><div style='top: 43.199999999999996%; left: 16.799999999999997%; font-family: Futura; font-size: 40; position: absolute;'>o</div><div style='top: 43.199999999999996%; left: 19.599999999999998%; font-family: Futura; font-size: 40; position: absolute;'>r</div><div style='top: 43.199999999999996%; left: 22.4%; font-family: Futura; font-size: 40; position: absolute;'>o</div><div style='top: 43.199999999999996%; left: 25.2%; font-family: Futura; font-size: 40; position: absolute;'>r</div><div style='top: 43.199999999999996%; left: 28.0%; font-family: Futura; font-size: 40; position: absolute;'>o</div><div style='top: 43.199999999999996%; left: 30.799999999999997%; font-family: Futura; font-size: 40; position: absolute;'>r</div><div style='top: 43.199999999999996%; left: 33.599999999999994%; font-family: Futura; font-size: 40; position: absolute;'>o</div><div style='top: 43.199999999999996%; left: 36.4%; font-family: Futura; font-size: 40; position: absolute;'>r</div><div style='top: 43.199999999999996%; left: 39.199999999999996%; font-family: Futura; font-size: 40; position: absolute;'>o</div><div style='top: 48.0%; left: 0.0%; font-family: Futura; font-size: 40; position: absolute;'>o</div><div style='top: 48.0%; left: 2.8%; font-family: Futura; font-size: 40; position: absolute;'>r</div><div style='top: 48.0%; left: 5.6%; font-family: Futura; font-size: 40; position: absolute;'>o</div><div style='top: 48.0%; left: 8.399999999999999%; font-family: Futura; font-size: 40; position: absolute;'>r</div><div style='top: 48.0%; left: 11.2%; font-family: Futura; font-size: 40; position: absolute;'>o</div><div style='top: 48.0%; left: 14.0%; font-family: Futura; font-size: 40; position: absolute;'>r</div><div style='top: 48.0%; left: 16.799999999999997%; font-family: Futura; font-size: 40; position: absolute;'>o</div><div style='top: 48.0%; left: 19.599999999999998%; font-family: Futura; font-size: 40; position: absolute;'>r</div><div style='top: 48.0%; left: 22.4%; font-family: Futura; font-size: 40; position: absolute;'>o</div><div style='top: 48.0%; left: 25.2%; font-family: Futura; font-size: 40; position: absolute;'>r</div><div style='top: 48.0%; left: 28.0%; font-family: Futura; font-size: 40; position: absolute;'>o</div><div style='top: 48.0%; left: 30.799999999999997%; font-family: Futura; font-size: 40; position: absolute;'>r</div><div style='top: 48.0%; left: 33.599999999999994%; font-family: Futura; font-size: 40; position: absolute;'>o</div><div style='top: 48.0%; left: 36.4%; font-family: Futura; font-size: 40; position: absolute;'>r</div><div style='top: 48.0%; left: 39.199999999999996%; font-family: Futura; font-size: 40; position: absolute;'>o</div><div style='top: 52.8%; left: 0.0%; font-family: Futura; font-size: 40; position: absolute;'>o</div><div style='top: 52.8%; left: 2.8%; font-family: Futura; font-size: 40; position: absolute;'>r</div><div style='top: 52.8%; left: 5.6%; font-family: Futura; font-size: 40; position: absolute;'>o</div><div style='top: 52.8%; left: 8.399999999999999%; font-family: Futura; font-size: 40; position: absolute;'>r</div><div style='top: 52.8%; left: 11.2%; font-family: Futura; font-size: 40; position: absolute;'>o</div><div style='top: 52.8%; left: 14.0%; font-family: Futura; font-size: 40; position: absolute;'>r</div><div style='top: 52.8%; left: 16.799999999999997%; font-family: Futura; font-size: 40; position: absolute;'>o</div><div style='top: 52.8%; left: 19.599999999999998%; font-family: Futura; font-size: 40; position: absolute;'>r</div><div style='top: 52.8%; left: 22.4%; font-family: Futura; font-size: 40; position: absolute;'>o</div><div style='top: 52.8%; left: 25.2%; font-family: Futura; font-size: 40; position: absolute;'>r</div><div style='top: 52.8%; left: 28.0%; font-family: Futura; font-size: 40; position: absolute;'>o</div><div style='top: 52.8%; left: 30.799999999999997%; font-family: Futura; font-size: 40; position: absolute;'>r</div><div style='top: 52.8%; left: 33.599999999999994%; font-family: Futura; font-size: 40; position: absolute;'>o</div><div style='top: 52.8%; left: 36.4%; font-family: Futura; font-size: 40; position: absolute;'>r</div><div style='top: 52.8%; left: 39.199999999999996%; font-family: Futura; font-size: 40; position: absolute;'>o</div><div style='top: 57.599999999999994%; left: 0.0%; font-family: Futura; font-size: 40; position: absolute;'>o</div><div style='top: 57.599999999999994%; left: 2.8%; font-family: Futura; font-size: 40; position: absolute;'>r</div><div style='top: 57.599999999999994%; left: 5.6%; font-family: Futura; font-size: 40; position: absolute;'>o</div><div style='top: 57.599999999999994%; left: 8.399999999999999%; font-family: Futura; font-size: 40; position: absolute;'>r</div><div style='top: 57.599999999999994%; left: 11.2%; font-family: Futura; font-size: 40; position: absolute;'>o</div><div style='top: 57.599999999999994%; left: 14.0%; font-family: Futura; font-size: 40; position: absolute;'>r</div><div style='top: 57.599999999999994%; left: 16.799999999999997%; font-family: Futura; font-size: 40; position: absolute;'>o</div><div style='top: 57.599999999999994%; left: 19.599999999999998%; font-family: Futura; font-size: 40; position: absolute;'>r</div><div style='top: 57.599999999999994%; left: 22.4%; font-family: Futura; font-size: 40; position: absolute;'>o</div><div style='top: 57.599999999999994%; left: 25.2%; font-family: Futura; font-size: 40; position: absolute;'>r</div><div style='top: 57.599999999999994%; left: 28.0%; font-family: Futura; font-size: 40; position: absolute;'>o</div><div style='top: 57.599999999999994%; left: 30.799999999999997%; font-family: Futura; font-size: 40; position: absolute;'>r</div><div style='top: 57.599999999999994%; left: 33.599999999999994%; font-family: Futura; font-size: 40; position: absolute;'>o</div><div style='top: 57.599999999999994%; left: 36.4%; font-family: Futura; font-size: 40; position: absolute;'>r</div><div style='top: 57.599999999999994%; left: 39.199999999999996%; font-family: Futura; font-size: 40; position: absolute;'>o</div><div style='top: 62.4%; left: 0.0%; font-family: Futura; font-size: 40; position: absolute;'>o</div><div style='top: 62.4%; left: 2.8%; font-family: Futura; font-size: 40; position: absolute;'>r</div><div style='top: 62.4%; left: 5.6%; font-family: Futura; font-size: 40; position: absolute;'>o</div><div style='top: 62.4%; left: 8.399999999999999%; font-family: Futura; font-size: 40; position: absolute;'>r</div><div style='top: 62.4%; left: 11.2%; font-family: Futura; font-size: 40; position: absolute;'>o</div><div style='top: 62.4%; left: 14.0%; font-family: Futura; font-size: 40; position: absolute;'>r</div><div style='top: 62.4%; left: 16.799999999999997%; font-family: Futura; font-size: 40; position: absolute;'>o</div><div style='top: 62.4%; left: 19.599999999999998%; font-family: Futura; font-size: 40; position: absolute;'>r</div><div style='top: 62.4%; left: 22.4%; font-family: Futura; font-size: 40; position: absolute;'>o</div><div style='top: 62.4%; left: 25.2%; font-family: Futura; font-size: 40; position: absolute;'>r</div><div style='top: 62.4%; left: 28.0%; font-family: Futura; font-size: 40; position: absolute;'>o</div><div style='top: 62.4%; left: 30.799999999999997%; font-family: Futura; font-size: 40; position: absolute;'>r</div><div style='top: 62.4%; left: 33.599999999999994%; font-family: Futura; font-size: 40; position: absolute;'>o</div><div style='top: 62.4%; left: 36.4%; font-family: Futura; font-size: 40; position: absolute;'>r</div><div style='top: 62.4%; left: 39.199999999999996%; font-family: Futura; font-size: 40; position: absolute;'>o</div><div style='top: 67.2%; left: 0.0%; font-family: Futura; font-size: 40; position: absolute;'>o</div><div style='top: 67.2%; left: 2.8%; font-family: Futura; font-size: 40; position: absolute;'>r</div><div style='top: 67.2%; left: 5.6%; font-family: Futura; font-size: 40; position: absolute;'>o</div><div style='top: 67.2%; left: 8.399999999999999%; font-family: Futura; font-size: 40; position: absolute;'>r</div><div style='top: 67.2%; left: 11.2%; font-family: Futura; font-size: 40; position: absolute;'>o</div><div style='top: 67.2%; left: 14.0%; font-family: Futura; font-size: 40; position: absolute;'>r</div><div style='top: 67.2%; left: 16.799999999999997%; font-family: Futura; font-size: 40; position: absolute;'>o</div><div style='top: 67.2%; left: 19.599999999999998%; font-family: Futura; font-size: 40; position: absolute;'>r</div><div style='top: 67.2%; left: 22.4%; font-family: Futura; font-size: 40; position: absolute;'>o</div><div style='top: 67.2%; left: 25.2%; font-family: Futura; font-size: 40; position: absolute;'>r</div><div style='top: 67.2%; left: 28.0%; font-family: Futura; font-size: 40; position: absolute;'>o</div><div style='top: 67.2%; left: 30.799999999999997%; font-family: Futura; font-size: 40; position: absolute;'>r</div><div style='top: 67.2%; left: 33.599999999999994%; font-family: Futura; font-size: 40; position: absolute;'>o</div><div style='top: 67.2%; left: 36.4%; font-family: Futura; font-size: 40; position: absolute;'>r</div><div style='top: 67.2%; left: 39.199999999999996%; font-family: Futura; font-size: 40; position: absolute;'>o</div>\n",
       "</body>\n",
       "</html>"
      ],
      "text/plain": [
       "<IPython.core.display.HTML object>"
      ]
     },
     "metadata": {
      "isolated": true
     },
     "output_type": "display_data"
    }
   ],
   "source": [
    "src = \"or\" * 600 ##counting grid on pic\n",
    "x_count = 15\n",
    "y_count = 15\n",
    "grid_size = 60\n",
    "current_index = 0\n",
    "divs = []\n",
    "for i in range(x_count):\n",
    "    for j in range(y_count):\n",
    "        x_pos = (grid_size*1.2 / x_count) * i\n",
    "        y_pos = (grid_size*0.7 / y_count) * j\n",
    "        \n",
    "        if j is y_count-1: ## Question: How to reduce space next to r?\n",
    "            this_div = mkdiv(src[0],\n",
    "                            top=f\"{x_pos}%\",\n",
    "                            left=f\"{y_pos}%\",\n",
    "                            font_family=\"Futura\",\n",
    "                            font_size=\"40\")\n",
    "            divs.append(this_div)\n",
    "            current_index =0\n",
    "        else:\n",
    "            this_div = mkdiv(src[current_index],\n",
    "                            top=f\"{x_pos}%\",\n",
    "                            left=f\"{y_pos}%\",\n",
    "                            font_family=\"Futura\",\n",
    "                            font_size=\"40\")\n",
    "            divs.append(this_div)\n",
    "            current_index += 1\n",
    "            \n",
    "html_src = html_tmpl.format(title=\"grid\", content=\"\".join(divs))\n",
    "show_html(html_src)"
   ]
  },
  {
   "cell_type": "code",
   "execution_count": 24,
   "metadata": {},
   "outputs": [],
   "source": [
    "open(\"test.html\", \"w\").write(html_src)\n",
    "!open test.html"
   ]
  },
  {
   "cell_type": "code",
   "execution_count": null,
   "metadata": {},
   "outputs": [],
   "source": []
  }
 ],
 "metadata": {
  "kernelspec": {
   "display_name": "Python 3",
   "language": "python",
   "name": "python3"
  },
  "language_info": {
   "codemirror_mode": {
    "name": "ipython",
    "version": 3
   },
   "file_extension": ".py",
   "mimetype": "text/x-python",
   "name": "python",
   "nbconvert_exporter": "python",
   "pygments_lexer": "ipython3",
   "version": "3.7.4"
  }
 },
 "nbformat": 4,
 "nbformat_minor": 2
}
