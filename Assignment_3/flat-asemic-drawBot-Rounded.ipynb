{
 "cells": [
  {
   "cell_type": "markdown",
   "metadata": {},
   "source": [
    "# Let's Try Asemic Writing With DrawBot\n",
    "\n",
    "Assignment for [Allison Parrish](https://www.decontextualize.com/)'s class, ITP Spring 2020\n",
    "\n",
    "by [Lynne Yun](https://www.lynneyun.com/)"
   ]
  },
  {
   "cell_type": "code",
   "execution_count": 372,
   "metadata": {},
   "outputs": [],
   "source": [
    "import drawBot as draw\n",
    "\n",
    "import os\n",
    "\n",
    "from bezmerizing import Polyline\n",
    "\n",
    "import numpy as np\n",
    "\n",
    "from numpy.random import uniform, normal, choice\n",
    "\n",
    "from IPython.display import Image, display\n",
    "                \n",
    "def show(png):\n",
    "    drawing = Image(filename = \"drawBotImage.png\")\n",
    "    display(drawing)\n",
    "    \n",
    "from scipy.stats import truncnorm\n",
    "def t_normal(a, b, mu, sigma):\n",
    "    tn = truncnorm((a-mu)/sigma, (b-mu)/sigma, loc=mu, scale=sigma)\n",
    "    return tn.rvs(1)[0]"
   ]
  },
  {
   "cell_type": "code",
   "execution_count": 373,
   "metadata": {},
   "outputs": [],
   "source": [
    "def shape_properties(fill_color,stroke_color):\n",
    "    draw.fill(*fill_color)\n",
    "    draw.stroke(*stroke_color)"
   ]
  },
  {
   "cell_type": "markdown",
   "metadata": {},
   "source": [
    "## Polylines on a grid\n",
    "\n",
    "Let's pursue this aesthetic a little bit further. Introducing further constraints to the randomness will result in designs that give the impression of conforming to an underlying system (and, let's hypothesize, thereby give an impression of being more like \"writing\"). The code below also uses random polylines, but constrains the polylines to begin and end on certain points in the grid."
   ]
  },
  {
   "cell_type": "markdown",
   "metadata": {},
   "source": [
    "Let's try to draw a line on a 7 x 7 grid."
   ]
  },
  {
   "cell_type": "code",
   "execution_count": 374,
   "metadata": {},
   "outputs": [],
   "source": [
    "def shape_properties(fill_color, stroke_color,stroke_width):\n",
    "    return lambda: (\n",
    "        draw.fill(*fill_color),\n",
    "        draw.stroke(*stroke_color),\n",
    "        draw.strokeWidth(stroke_width))\n",
    "\n",
    "red = (1,0,0,1)\n",
    "green = (0,1,0,1)\n",
    "blue = (0,0,1,1)\n",
    "black = (0,0,0,1)\n",
    "transparent_black = (0,0,0,0.1)\n",
    "no_color = (0,0,0,0)\n",
    "stroke_width = 1\n",
    "\n",
    "set_red = shape_properties(no_color,red,stroke_width)\n",
    "set_green = shape_properties(no_color,green,stroke_width)\n",
    "set_blue = shape_properties(no_color,blue,stroke_width)\n",
    "set_black = shape_properties(no_color,black,2)\n",
    "set_trsblk = shape_properties(no_color,transparent_black,stroke_width)\n"
   ]
  },
  {
   "cell_type": "code",
   "execution_count": 375,
   "metadata": {},
   "outputs": [],
   "source": [
    "from scipy.stats import truncnorm\n",
    "def t_normal(a, b, mu, sigma):\n",
    "    tn = truncnorm((a-mu)/sigma, (b-mu)/sigma, loc=mu, scale=sigma)\n",
    "    return tn.rvs(1)[0]"
   ]
  },
  {
   "cell_type": "code",
   "execution_count": 376,
   "metadata": {},
   "outputs": [
    {
     "data": {
      "text/plain": [
       "2.5934907517171477"
      ]
     },
     "execution_count": 376,
     "metadata": {},
     "output_type": "execute_result"
    }
   ],
   "source": [
    "#The first parameter is the low end of the range, the second parameter is the high end, the third parameter is the center and the fourth parameter is the standard deviation.\n",
    "t_normal(0, 7, 3, 1)\n"
   ]
  },
  {
   "cell_type": "code",
   "execution_count": 381,
   "metadata": {},
   "outputs": [],
   "source": [
    "##let's write a function for the curves!\n",
    "\n",
    "\n",
    "def cord_append(x,y,pts):\n",
    "    if y <= 0:\n",
    "        y = 0\n",
    "    if y >= 6:\n",
    "        y = 6\n",
    "    if x >= 6:\n",
    "        x = 6\n",
    "    if x <= 0:\n",
    "        x = 0\n",
    "    pts.append([x, y]) \n",
    "\n",
    "def offset(width,pts):\n",
    "    offset_pts = []\n",
    "    for x in pts:\n",
    "        temp_list= []\n",
    "        for y in range(len(x)):\n",
    "            temp = [y + width for y in x] \n",
    "        offset_pts.append(temp)\n",
    "        \n",
    "    for x in reversed(offset_pts):\n",
    "        pts.append(x)\n",
    "        \n",
    "    pts.append(pts[0])\n",
    "\n",
    "##First curve (upper left to lower right)\n",
    "\n",
    "def make_primary_line(gridsize):\n",
    "    pts = []\n",
    "    for i in range(0,6):\n",
    "        if i ==0:\n",
    "            x = t_normal(0, 1, 0.5, 1)\n",
    "            y = t_normal(5, 6, 5.5, 1)\n",
    "            cord_append(x,y,pts)\n",
    "        elif x <= 2:\n",
    "            x += t_normal(0, 1, 0.5, 1)\n",
    "            y -= t_normal(1, 3, 2, 1)\n",
    "            cord_append(x,y,pts)\n",
    "        elif x > 2:\n",
    "            x += t_normal(1, 3, 2, 1)\n",
    "            y -= t_normal(0, 1, 0.5, 1)\n",
    "            cord_append(x,y,pts)\n",
    "\n",
    "        else:\n",
    "            break\n",
    "            \n",
    "    offset(0.3,pts)  \n",
    "    pline = Polyline(pts)\n",
    "    lines = pline.scale(gridsize)\n",
    "    path = draw.BezierPath()\n",
    "    path.moveTo(lines.vertices[0])\n",
    "    path.qCurveTo(*lines.vertices)\n",
    "    return path\n",
    "\n",
    "\n",
    "def make_second_line(gridsize):\n",
    "    pts = []\n",
    "    for i in range(0,3):\n",
    "        if i ==0:\n",
    "            x = t_normal(1, 3, 2, 1)\n",
    "            y = t_normal(4, 6, 5, 1)\n",
    "            cord_append(x,y,pts)\n",
    "        elif i > 0:\n",
    "            x += t_normal(0, 3, 2, 1)\n",
    "            y += t_normal(-3, 1, 0, 1)\n",
    "            cord_append(x,y,pts)   \n",
    "        elif i > 2:\n",
    "            x += t_normal(1, 3, 2, 1)\n",
    "            y -= t_normal(1, 3, 2, 1)\n",
    "            cord_append(x,y,pts)\n",
    "\n",
    "        else:\n",
    "            break\n",
    "    \n",
    "    offset(0.3,pts)\n",
    "        \n",
    "    pline = Polyline(pts)\n",
    "    lines = pline.scale(gridsize)\n",
    "    path = draw.BezierPath()\n",
    "    path.moveTo(lines.vertices[0])\n",
    "    path.qCurveTo(*lines.vertices)\n",
    "    return path\n",
    "\n",
    "    "
   ]
  },
  {
   "cell_type": "code",
   "execution_count": 382,
   "metadata": {},
   "outputs": [],
   "source": [
    "## guide grid by 7x7 \n",
    "\n",
    "def draw_grid(gridsize):\n",
    "    for x in range(7):\n",
    "        for y in range(7):\n",
    "            draw.oval(x*gridsize-1,y*gridsize-1,2,2)\n",
    "            "
   ]
  },
  {
   "cell_type": "code",
   "execution_count": 383,
   "metadata": {},
   "outputs": [
    {
     "data": {
      "image/png": "[encoded data removed]",
      "text/plain": [
       "<IPython.core.display.Image object>"
      ]
     },
     "metadata": {},
     "output_type": "display_data"
    }
   ],
   "source": [
    "canvas = 200\n",
    "gridsize = float(canvas/6) ## number of row/columns\n",
    "draw.newDrawing()\n",
    "draw.newPage(canvas,canvas)\n",
    "\n",
    "set_black()\n",
    "draw.drawPath(make_primary_line(gridsize))\n",
    "draw.drawPath(make_second_line(gridsize))\n",
    "\n",
    "\n",
    "draw_grid(gridsize)\n",
    "\n",
    "draw.saveImage(\"drawBotImage.png\")\n",
    "draw.endDrawing()\n",
    "show(Image)\n"
   ]
  },
  {
   "cell_type": "markdown",
   "metadata": {},
   "source": [
    "The following cell draws these \"characters\" on a grid, so we can see many variations at once:"
   ]
  },
  {
   "cell_type": "code",
   "execution_count": 388,
   "metadata": {
    "scrolled": true
   },
   "outputs": [
    {
     "data": {
      "image/png": "[encoded data removed]",
      "text/plain": [
       "<IPython.core.display.Image object>"
      ]
     },
     "metadata": {},
     "output_type": "display_data"
    }
   ],
   "source": [
    "canvas = 320\n",
    "draw.newDrawing()\n",
    "draw.newPage(canvas,canvas)\n",
    "set_black()\n",
    "draw.fill(0, 0, 0, 1)\n",
    "\n",
    "grid_n = 8 # change the number of elements in the grid on one side\n",
    "grid_size = canvas / grid_n\n",
    "for i in range(grid_n):\n",
    "    for j in range(grid_n):\n",
    "        with draw.savedState():\n",
    "            draw.translate(i*grid_size, j*grid_size)\n",
    "            draw.drawPath(make_primary_line(grid_size * 0.15))\n",
    "            draw.drawPath(make_second_line(grid_size * 0.15))\n",
    "\n",
    "\n",
    "draw.saveImage(\"drawBotImage.png\")\n",
    "draw.endDrawing()\n",
    "show(Image)"
   ]
  },
  {
   "cell_type": "code",
   "execution_count": null,
   "metadata": {},
   "outputs": [],
   "source": []
  },
  {
   "cell_type": "code",
   "execution_count": null,
   "metadata": {},
   "outputs": [],
   "source": []
  }
 ],
 "metadata": {
  "kernelspec": {
   "display_name": "Python 3",
   "language": "python",
   "name": "python3"
  },
  "language_info": {
   "codemirror_mode": {
    "name": "ipython",
    "version": 3
   },
   "file_extension": ".py",
   "mimetype": "text/x-python",
   "name": "python",
   "nbconvert_exporter": "python",
   "pygments_lexer": "ipython3",
   "version": "3.7.4"
  }
 },
 "nbformat": 4,
 "nbformat_minor": 2
}
