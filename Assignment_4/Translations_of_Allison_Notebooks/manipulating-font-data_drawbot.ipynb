{
 "cells": [
  {
   "cell_type": "markdown",
   "metadata": {},
   "source": [
    "# Manipulating font data\n",
    "\n",
    "By [Allison Parrish](https://www.decontextualize.com/)\n",
    "\n",
    "This is a short notebook showing some techniques for loading data from TrueType/OpenType font files with [Flat](https://xxyxyz.org/flat) and then doing weird things with it using [Bezmerizing](https://github.com/aparrish/bezmerizing/). Make sure you've gone through these introductory notebooks before proceeding:\n",
    "\n",
    "* [Flat and asemic writing](flat-asemic-writing.ipynb)\n",
    "* [Lines and asemic writing](lines-and-asemic.ipynb)\n",
    "\n",
    "We'll start with some introductory information about typography and font files.\n",
    "\n",
    "## Typography terminology\n",
    "\n",
    "First off, there are a number of terms that describe certain distances between parts of letterforms:\n",
    "\n",
    "![Diagram of typography line terms](http://comptypo.decontextualize.com/public/images/800px-Typography_Line_Terms.svg.png)\n",
    "\n",
    "Units of measurement:\n",
    "\n",
    "* Point (1/72nd of an inch)\n",
    "* Em (the width of a capital 'M' in a font)\n",
    "* Pixel (the distance from one side of a pixel in a display to the other; may\n",
    "  differ horizontally and vertically; some LCDs can have meaningful 'sub-pixel'\n",
    "  addressing; \"pixel\" can mean something different on high-density displays)\n",
    "\n",
    "Letter forms by their nature are analog (formed from continuous curves). *Rasterization* is the process of \"sampling\" the analog curves to a grid, for (e.g.) display on a screen.\n",
    "\n",
    "## Components of TrueType/OpenType fonts\n",
    "\n",
    "The most common digital formats for fonts are TrueType (`.ttf`) and OpenType (`.otf`), two closely related standards defined and implemented by [a dizzying amalgamation of Adobe, Apple and Microsoft during the 1990s and early\n",
    "2000s](https://en.wikipedia.org/wiki/OpenType#History). Both are variants of the [SFNT format](https://en.wikipedia.org/wiki/SFNT) and share many of the same abstractions but differ in many particulars. I attempt to explain the important components of both formats in this section.\n",
    "\n",
    "### Characters and glyphs\n",
    "\n",
    "A text is often said to be made up of a string of characters. A character is the basic unit of writing: they're what you learn when you learn to write.\n",
    "\n",
    "The most important part of a font file is the \"glyphs,\" which are the individual, distinct marks that the font can produce. In many cases, there is a one-to-one correspondence between glyphs and characters (e.g., the glyph *c*\n",
    "represents the character `c`) but some glyphs represent multiple characters (e.g., ligatures like ﬁ) and some characters may be represeted by more than one glyph (stylistic or contextual variants, e.g., the character `s` in early modern English, represented as *ſ* when found in the middle of a word, and *s* when found at the end).\n",
    "\n",
    "For this reason, TTF/OTF fonts include information on how to map characters to glyphs. The most straightforward way to do this is with the [cmap table](https://docs.microsoft.com/en-us/typography/opentype/spec/cmap), which links a character (given as, e.g., Unicode code points) to a numbered glyph in\n",
    "the font. [Substitution features](http://ilovetypography.com/OpenType/opentype-features.html) in OpenType allow the font designer to specify that certain sequences of characters should be represented with particular glyphs (like ligatures, but this feature also be creatively misused; see [Sans Bullshit Sans](https://pixelambacht.nl/2015/sans-bullshit-sans/) and [Doggy](https://www.swiss-miss.com/2012/09/doggy.html)). A font file may also specify other visual aspects of how the text should be rendered, like kerning (adjusting the horizontal and/or vertical space between pairs or longer sequences of characters), which in OpenType is specified in the [GPOS table](https://docs.microsoft.com/en-us/typography/opentype/spec/gpos).\n",
    "\n",
    "Another aspect of appearance often specified in a font is [hinting](https://en.wikipedia.org/wiki/Font_hinting), which specifies how the vector data in the font should be adjusted during the rasterization process (i.e., displaying on a pixel-based screen), to ensure that the important parts of each glyph are displayed even when interpolated. The TrueType font format has [an absurdly sophisticated system for font hinting](https://docs.microsoft.com/en-us/typography/truetype/hinting), including a Turing-complete programming language, which has led to some [truly\n",
    "spectacular security vulnerabilities](https://www.youtube.com/watch?v=jioFhWanFxU).\n",
    "\n",
    "### Shape information\n",
    "\n",
    "In TrueType and OpenType fonts, the shape of a glyph is specified using data in an sfnt table (called either `glyf` or `CFF `). The point of the data is to define the lines and curves that form the outline of the shapes. The actual formats of these tables are quite frankly baroque and overly complicated; see the [`glyf` specification](https://developer.apple.com/fonts/TrueType-Reference-Manual/RM06/Chap6glyf.html) and the [`CFF `\n",
    "specification](https://docs.microsoft.com/en-us/typography/opentype/spec/cff). For our purposes, it's not worth talking about the details, since the library we'll be using to parse the font files will smooth everything over for us.\n",
    "\n",
    "In general, the outline of a glyph is comprised of a series of one or more contours (shapes), which are in turn comprised of lines and curves (with 2D coordinates). In TrueType and OpenType fonts, the start/end positions are\n",
    "integers on a grid whose resolution is defined by the font itself (e.g., 2048 units per em), with the origin generally at the lower left-hand corner of the glyph.\n",
    "\n",
    "This illustration from the [FreeType documentation](https://www.freetype.org/freetype2/docs/glyphs/index.html) names\n",
    "some of the metrics associated with a (horizontal) glyph. For example, the character's *bearing* is a measure of how far from the origin the glyph is; the *advance* of a character controls how much the \"pen\" should be moved forward\n",
    "after drawing the character; this may be different from the character's *width*.\n",
    "\n",
    "![OpenType metrics diagram](http://comptypo.decontextualize.com/public/images/metrics.png)\n",
    "\n",
    "### Curves\n",
    "\n",
    "A contour specification consists of lines and curves. Representing a line as data is very easy; you just need to indicate the coordinates of the start and end of the segment. Representing a curve is a little bit more difficult, and\n",
    "there are multiple strategies for accomplishing this. The most common way to represent curves is as [Bézier\n",
    "curves](https://en.wikipedia.org/wiki/B%C3%A9zier_curve). Named after French engineer [Pierre Bézier](https://en.wikipedia.org/wiki/Pierre_B%C3%A9zier), who used the math behind the curve in industrial design in the 1960s, a Bézier curve consists of two *anchor points* and a series of *control points*.  The anchor points define the beginning and ending of the curve, and the control points define the extent of the curvature. A Bézier curve with one control point is called *quadratic* and one with two control points is called *cubic*. Higher order curves are possible, but because the use of cubic curves is so widespread in software, the term \"Bézier\" is often used specifically to mean *cubic* Bézier curves. (This reflects the usage in, e.g., p5.js: see [bezier()](https://p5js.org/reference/#/p5/bezier) and [quadraticVertex()](https://p5js.org/reference/#/p5/quadraticVertex) in the\n",
    "documentation.)\n",
    "\n",
    "The following demo lets you play with a cubic Bézier's anchor and control points: [(Cubic) Bezier curve demo](https://editor.p5js.org/allison.parrish/sketches/H1QQ3Nt67)\n",
    "\n",
    "And the demo below does the same for a quadratic curve: [Quadratic curve demo](https://editor.p5js.org/allison.parrish/sketches/HysPl9FT7)\n",
    "\n",
    "Here's [a helpful introduction to the math behind Bézier curves](https://pomax.github.io/bezierinfo/), how they're represented as data and how to efficiently rasterize them. (You don't need to read or understand all of this in order to make use of Bézier curves, but it's helpful to read at least the first few sections.) The author of that tutorial has also made a [wonderful library for working with Bézier curves in JavaScript](https://pomax.github.io/bezierjs/). \n",
    "\n",
    "The distinction between quadratic and cubic curves is important, because TrueType fonts (with `glyf` tables) *only* support quadratic curves, while OpenType fonts (specifically those that use the `CFF ` table) make use of cubic curves. If you want to be able to draw glyphs from either format, you have to be able to draw both kinds of curves.\n",
    "\n",
    "### Counters and cutouts\n",
    "\n",
    "Many glyph outlines consist of more than one contour: the letter `j` for example has a contour for the body of the letter and a separate (non-overlapping) contour for the dot.\n",
    "\n",
    "Additionally, some glyph outlines have have closed [counters](https://en.wikipedia.org/wiki/Counter_(typography)): contours of the glyph that are completely enclosed within another contour. (The \"hole\" in the letter `O` is an example; a capital `B` has two counters.) Some glyph outlines, like `®`, have contours within contours within contours!\n",
    "\n",
    "So the question arises: in a glyph outline, how do you know which contours should be filled in, and which should be \"cut out\"? (Otherwise stated: how do you know which points are \"inside\" the letter and should be filled in, and\n",
    "which points are \"outside\" the letter and should be left blank?)\n",
    "\n",
    "This is one of the trickier parts of rendering a glyph. TrueType `glyf` fonts use one strategy: if the points in a contour are defined in a clockwise fashion, then the shape should be filled; if they're defined in a counter-clockwise fashion, then the shape should be cut out. In OpenType `CFF ` fonts, contours are considered cutouts if they're contained inside an odd number of other paths. ([Source](https://github.com/opentypejs/opentype.js/issues/347).) In either case, finding out whether a contour should be cut out or filled in depends on doing some math on the points and curves of the contours themselves.\n",
    "\n",
    "### Variable fonts\n",
    "\n",
    "Recent versions of the OpenType standard include support for [\"variable\" fonts](https://simoncozens.github.io/fonts-and-layout/opentype.html#opentype-font-variations). Variable fonts contain multiple \"masters\" (i.e., different versions of the same glyphs), alongside information about how to interpolate between the points in those masters. The end goal of variable fonts is to make it possible to dynamically adjust (e.g.) the weight of a font (without having to include separate font data for each weight). As of this writing, support for variable fonts remains incomplete (even in some web browsers), and the library we're using to work with TrueType/OpenType files (sadly) does not support variable fonts. But it's worth knowing about! This [Variable Fonts website](https://v-fonts.com/) has a ton of variable fonts you can play around with to get an idea for how they work."
   ]
  },
  {
   "cell_type": "markdown",
   "metadata": {},
   "source": [
    "## Code preliminaries\n",
    "\n",
    "Whew! With all of that in mind, we can start programming. Before we begin, some preliminary imports from Flat, Bezmerizing, and Drawbot:"
   ]
  },
  {
   "cell_type": "code",
   "execution_count": 1,
   "metadata": {},
   "outputs": [],
   "source": [
    "from flat import document, rgb, rgba, font, strike, shape\n",
    "from flat.command import moveto, quadto, curveto, lineto, closepath\n",
    "from bezmerizing import Polyline, Path\n",
    "import numpy as np\n",
    "from copy import copy\n",
    "import drawBot as draw"
   ]
  },
  {
   "cell_type": "markdown",
   "metadata": {},
   "source": [
    "And some functions from `numpy` which we'll use for generating random numbers."
   ]
  },
  {
   "cell_type": "code",
   "execution_count": 2,
   "metadata": {},
   "outputs": [],
   "source": [
    "from numpy.random import uniform, normal, choice"
   ]
  },
  {
   "cell_type": "markdown",
   "metadata": {},
   "source": [
    "Also, because drawbot needs the same lines to start and end a drawing, let's make functions to save ourselves from typing too much. This incorporates the IPython module:"
   ]
  },
  {
   "cell_type": "code",
   "execution_count": 3,
   "metadata": {},
   "outputs": [],
   "source": [
    "from IPython.display import Image, display\n",
    "\n",
    "\n",
    "def startdraw(canvas_width,canvas_height):\n",
    "    draw.newDrawing()\n",
    "    draw.newPage(canvas_width, canvas_height)\n",
    "    \n",
    "def show():\n",
    "    draw.saveImage(\"drawBotImage.png\")\n",
    "    draw.endDrawing()\n",
    "    drawing = Image(filename = \"drawBotImage.png\")\n",
    "    display(drawing)"
   ]
  },
  {
   "cell_type": "markdown",
   "metadata": {},
   "source": [
    "## Flat paths"
   ]
  },
  {
   "cell_type": "markdown",
   "metadata": {},
   "source": [
    "Flat has a concept of a \"path,\" which is a Python list of `command`s. Five such commands are supported:\n",
    "\n",
    "* `moveto(x, y)`: Moves pen to x, y.\n",
    "* `lineto(x, y)`: Moves pen to x, y, drawing a line along the way.\n",
    "* `quadto(x1, y1, x, y)`: Draws a quadratic Bezier curve from current pen position to x, y, using control point x1, y1.\n",
    "* `curveto(x1, y1, x2, y2, x, y)`: Draws a cubic Bezier curve from current point to x, y, using control points x1, y1 and x2, y2.\n",
    "* `closepath`: Closes the current subpath.\n",
    "\n",
    "To draw a path, create a list of `command`s and pass them to a `shape` object's `path` command. For example, to draw a little strange triangle:"
   ]
  },
  {
   "cell_type": "code",
   "execution_count": 4,
   "metadata": {},
   "outputs": [
    {
     "data": {
      "image/png": "[encoded data removed]",
      "text/plain": [
       "<IPython.core.display.Image object>"
      ]
     },
     "metadata": {},
     "output_type": "display_data"
    }
   ],
   "source": [
    "startdraw(200,200)\n",
    "\n",
    "draw.fill (0,0,0,0.5)\n",
    "draw.stroke (0,0,0,1)\n",
    "\n",
    "path = draw.BezierPath()\n",
    "path.moveTo((50, 33))\n",
    "path.lineTo((67, 67))\n",
    "path.curveTo((60, 50),(40, 50), (33, 67))\n",
    "path.closePath()\n",
    "\n",
    "draw.drawPath(path)\n",
    "\n",
    "show()"
   ]
  },
  {
   "cell_type": "markdown",
   "metadata": {},
   "source": [
    "A potential drawback to specifying paths is that the coordinates are hard-coded, making it difficult to do things like draw the path at a different size or at a different location on the canvas. To mitigate this drawback, we'll want to be able to apply [affine transformations](https://en.wikipedia.org/wiki/Affine_transformation) to paths, such as translation, rotation, scale, etc. Flat natively supports a \"transformation matrix\" to apply affine transformations, but that support is a little bit clunky and requires you to hand-code even simple transformations.\n",
    "\n",
    "> If you need an explanation of affine transformations or the transformation matrix, I recommend this [helpful introduction](https://www.alanzucconi.com/2016/02/10/tranfsormation-matrix/)—not specific to Flat, but the concepts are the same."
   ]
  },
  {
   "cell_type": "markdown",
   "metadata": {},
   "source": [
    "To transform a path, call one of the `Path` object's transformation functions: `.translate()`, `.rotate()`, or `.scale()`. This will return a new `Path` with the transformation applied to copies of the commands in the original path. (The commands in the original path will be unchanged.) The code below shows the effect of the commands, with the transformed shapes drawn with slight transparency:"
   ]
  },
  {
   "cell_type": "code",
   "execution_count": 5,
   "metadata": {},
   "outputs": [
    {
     "data": {
      "image/png": "[encoded data removed]",
      "text/plain": [
       "<IPython.core.display.Image object>"
      ]
     },
     "metadata": {},
     "output_type": "display_data"
    }
   ],
   "source": [
    "startdraw(200,200)\n",
    "\n",
    "draw.fill(0,1,0,1) # Green color fill\n",
    "draw.drawPath(path)\n",
    "\n",
    "\n",
    "# move the path up and to the left\n",
    "translated_path = path.copy()\n",
    "translated_path.translate(20, 20)\n",
    "draw.fill(1,0,0,0.5) #color Red \n",
    "draw.drawPath(translated_path)\n",
    "\n",
    "# scale the path by a factor of 1.5x\n",
    "scaled_path = path.copy()\n",
    "scaled_path.scale(1.5,1.5)\n",
    "draw.fill(0,0,1,0.5) #blue\n",
    "draw.drawPath(scaled_path)\n",
    "\n",
    "# rotate the path\n",
    "rotated_path = path.copy()\n",
    "rotated_path.rotate(30)\n",
    "draw.fill(0,0,0,0.5) #black\n",
    "draw.drawPath(rotated_path)\n",
    "\n",
    "\n",
    "show()"
   ]
  },
  {
   "cell_type": "markdown",
   "metadata": {},
   "source": [
    "You'll notice that all of these transformations use the origin (i.e., coordinate `(0, 0)`) as the \"center\" of the transformation, so (e.g.) the \"center\" of the `rotate()` transformation is in the upper left-hand corner of the screen. For this reason, when specifying paths for use with transformations, programmers often intentionally center the figure around the origin."
   ]
  },
  {
   "cell_type": "code",
   "execution_count": 6,
   "metadata": {},
   "outputs": [],
   "source": [
    "doodad_center = draw.BezierPath()\n",
    "doodad_center.moveTo((0, -17))\n",
    "doodad_center.lineTo((17, 17))\n",
    "doodad_center.curveTo((10, 0),(-10, 0), (-17, 17))\n",
    "doodad_center.closePath()"
   ]
  },
  {
   "cell_type": "markdown",
   "metadata": {},
   "source": [
    "(note by Lynne: In other words, you're redrawing the shape to be drawn around the 0,0 origin point. Drawing the 'doodad center' here:)"
   ]
  },
  {
   "cell_type": "code",
   "execution_count": 7,
   "metadata": {},
   "outputs": [
    {
     "data": {
      "image/png": "[encoded data removed]",
      "text/plain": [
       "<IPython.core.display.Image object>"
      ]
     },
     "metadata": {},
     "output_type": "display_data"
    }
   ],
   "source": [
    "startdraw(200,200)\n",
    "\n",
    "draw.fill (0,0,0,0.5)\n",
    "draw.stroke (0,0,0,1)\n",
    "draw.drawPath(doodad_center)\n",
    "\n",
    "show()"
   ]
  },
  {
   "cell_type": "markdown",
   "metadata": {},
   "source": [
    "The cell below shows a series of chained transformations on this centered path:"
   ]
  },
  {
   "cell_type": "code",
   "execution_count": 8,
   "metadata": {},
   "outputs": [
    {
     "data": {
      "image/png": "[encoded data removed]",
      "text/plain": [
       "<IPython.core.display.Image object>"
      ]
     },
     "metadata": {},
     "output_type": "display_data"
    }
   ],
   "source": [
    "startdraw(200,200)\n",
    "draw.fill (0,0,0,0.5)\n",
    "draw.stroke (0,0,0,1)\n",
    "\n",
    "scaled_path = doodad_center.copy()\n",
    "scaled_path.scale(1.5,1.5)\n",
    "scaled_path.rotate(90)\n",
    "scaled_path.translate(40, 40)\n",
    "\n",
    "draw.drawPath(scaled_path)\n",
    "\n",
    "show()"
   ]
  },
  {
   "cell_type": "markdown",
   "metadata": {},
   "source": [
    "Example of chaining transformations in a loop:"
   ]
  },
  {
   "cell_type": "code",
   "execution_count": 9,
   "metadata": {},
   "outputs": [
    {
     "data": {
      "image/png": "[encoded data removed]",
      "text/plain": [
       "<IPython.core.display.Image object>"
      ]
     },
     "metadata": {},
     "output_type": "display_data"
    }
   ],
   "source": [
    "width = 500\n",
    "height = 30\n",
    "startdraw(width,height)\n",
    "draw.fill (0,0,0,0.5)\n",
    "draw.stroke (0,0,0,1)\n",
    "n = 20\n",
    "\n",
    "for i in range(n):\n",
    "    scaled_path = doodad_center.copy()\n",
    "    scaled_path.scale(0.6)\n",
    "    scaled_path.rotate(i*5)\n",
    "    scaled_path.translate(width/n*0.5 + (width / n)*i, height/2)\n",
    "    draw.drawPath(scaled_path)\n",
    "\n",
    "show()"
   ]
  },
  {
   "cell_type": "markdown",
   "metadata": {},
   "source": [
    "## Drawing strings with Drawbot\n",
    "\n",
    "Drawbot has a handful of helpful functions for drawing strings to the screen with a given font. You need to download the font file for the font you want to use, put it in the same directory as this notebook, and then call `installFont` as below. We'll use a font from Google's [Noto collection](https://www.google.com/get/noto/).\n",
    "\n",
    "From the Drawbot Documentation:\n",
    "\n",
    "`installFont(path): Install a font with a given path and the postscript font name will be returned. The postscript font name can be used to set the font as the active font.Fonts are installed only for the current process. Fonts will not be accesible outside the scope of drawBot. All installed fonts will automatically be uninstalled when the script is done.`"
   ]
  },
  {
   "cell_type": "code",
   "execution_count": 10,
   "metadata": {},
   "outputs": [],
   "source": [
    "#set the path to a font file\n",
    "path = \"./NotoSans-Regular.ttf\"\n",
    "NotoSans = draw.installFont(path)\n"
   ]
  },
  {
   "cell_type": "markdown",
   "metadata": {},
   "source": [
    "Here's some DrawBot functions to help you out.\n",
    "\n",
    "`text(txt, (x, y), align=None)` : Draw a text at a provided position\n",
    "\n",
    "`textBox(txt, box, align=None) ` :Draw a text in a provided rectangle\n",
    "\n",
    "Plus, the textbox will get you whatever was not printed in the string!"
   ]
  },
  {
   "cell_type": "code",
   "execution_count": 11,
   "metadata": {},
   "outputs": [
    {
     "data": {
      "image/png": "[encoded data removed]",
      "text/plain": [
       "<IPython.core.display.Image object>"
      ]
     },
     "metadata": {},
     "output_type": "display_data"
    },
    {
     "name": "stdout",
     "output_type": "stream",
     "text": [
      "quartz, judge my vow.\n"
     ]
    }
   ],
   "source": [
    "startdraw(300,300)\n",
    "draw.fill (0,0,0,1) # no fill\n",
    "draw.fontSize(80)\n",
    "\n",
    "overflow = draw.textBox(\"Sphinx of black quartz, judge my vow.\", (0,0,300,300), align='left')\n",
    "show()\n",
    "print(overflow)"
   ]
  },
  {
   "cell_type": "markdown",
   "metadata": {},
   "source": [
    "## Glyph paths\n",
    "\n",
    "Drawbot lets us access the points in the glyphs in the font directly. With the `.text` method, we can assign the `BezierPath` object. Keep in mind that some letters have more than 1 contour, so we will have to call all contours.\n",
    "\n",
    "Note: a `contour` object also has an attribute `contour.open` and `contour.clockwise` [link source](https://forum.drawbot.com/topic/136/bezierpath-contours-and-segments/3?_=1585942692791)"
   ]
  },
  {
   "cell_type": "code",
   "execution_count": 12,
   "metadata": {
    "scrolled": true
   },
   "outputs": [
    {
     "name": "stdout",
     "output_type": "stream",
     "text": [
      "Here is a contour\n",
      "contour.open is False\n",
      "contour.clockwise is True\n",
      "[(184.814453125, 33.69140625)]\n",
      "[(156.00571533203123, 7.16132568359375), (128.255341796875, -6.103515625), (101.5625, -6.103515625)]\n",
      "[(79.58973388671875, -6.103515625), (61.36074951171875, 0.7730432128906255), (46.875, 14.5263671875)]\n",
      "[(32.38925048828125, 28.279691162109373), (25.146484375, 45.65419189453125), (25.146484375, 66.650390625)]\n",
      "[(25.146484375, 95.6218896484375), (37.31270385742187, 117.87915405273438), (61.6455078125, 133.4228515625)]\n",
      "[(85.97831176757812, 148.96654907226562), (120.84938232421874, 156.73828125), (166.259765625, 156.73828125)]\n",
      "[(177.734375, 156.73828125)]\n",
      "[(177.734375, 188.720703125)]\n",
      "[(177.734375, 219.48257568359378), (161.9467724609375, 234.86328125), (130.37109375, 234.86328125)]\n",
      "[(104.980341796875, 234.86328125), (77.55548583984375, 227.05085937500002), (48.095703125, 211.42578125)]\n",
      "[(48.095703125, 251.220703125)]\n",
      "[(80.48518798828125, 264.40436279296875), (110.83970214843751, 270.99609375), (139.16015625, 270.99609375)]\n",
      "[(168.7827001953125, 270.99609375), (190.6330676269531, 264.3229833984375), (204.7119140625, 250.9765625)]\n",
      "[(218.7907604980469, 237.63014160156249), (225.830078125, 216.87839599609373), (225.830078125, 188.720703125)]\n",
      "[(225.830078125, 68.603515625)]\n",
      "[(225.830078125, 41.096867675781255), (234.29353515625002, 27.34375), (251.220703125, 27.34375)]\n",
      "[(253.33659912109374, 27.34375), (256.42901611328125, 27.669267578124998), (260.498046875, 28.3203125)]\n",
      "[(263.916015625, 1.708984375)]\n",
      "[(253.01101318359378, -3.499375), (240.96686279296875, -6.103515625), (227.783203125, -6.103515625)]\n",
      "[(205.3221533203125, -6.103515625), (190.9993798828125, 7.16132568359375), (184.814453125, 33.69140625)]\n",
      "Here is a contour\n",
      "contour.open is False\n",
      "contour.clockwise is False\n",
      "[(177.734375, 59.814453125)]\n",
      "[(177.734375, 128.41796875)]\n",
      "[(161.62109375, 128.90625)]\n",
      "[(135.2537744140625, 128.90625), (113.932373046875, 123.90141723632813), (97.65625, 113.8916015625)]\n",
      "[(81.380126953125, 103.88178588867187), (73.2421875, 90.739013671875), (73.2421875, 74.462890625)]\n",
      "[(73.2421875, 62.90684326171875), (77.3111572265625, 53.141315917968754), (85.44921875, 45.166015625)]\n",
      "[(93.5872802734375, 37.190715332031246), (103.51556640625, 33.203125), (115.234375, 33.203125)]\n",
      "[(135.25400634765623, 33.203125), (156.08713134765625, 42.07347900390625), (177.734375, 59.814453125)]\n"
     ]
    }
   ],
   "source": [
    "path = draw.BezierPath()\n",
    "path.text(\"a\", font = NotoSans, fontSize = 500)\n",
    "\n",
    "for contour in path.contours:\n",
    "    print(\"Here is a contour\")\n",
    "    print(\"contour.open is \" + str(contour.open))\n",
    "    print(\"contour.clockwise is \" + str(contour.clockwise))\n",
    "    for points in contour:\n",
    "        print(points)"
   ]
  },
  {
   "cell_type": "markdown",
   "metadata": {},
   "source": [
    "Via Frederik on the [forum](https://forum.drawbot.com/topic/136/bezierpath-contours-and-segments/2?_=1585942692799): \"a segment always represent a line with a single point and a bezier curve with 3 points (2 off curves and one oncurve)\"\n",
    "\n",
    "(abbreviated from original notebook)\n",
    "\n",
    "You'll notice that y-coordinates are mostly negative. That's because glyphs in fonts are generally drawn with the origin of the coordinate system (`0, 0`) in the *lower left-hand* corner.\n",
    "\n",
    "> A quadratic Bézier curve has one control point; a cubic Bézier has two control points. TrueType fonts (TTFs) use quadratic Bézier curves exclusively; OpenType fonts (generally) use cubic Bézier curves.\n",
    "\n",
    "The coordinates of points in TrueType and OpenType fonts are always specified as integers. The value of these integers doesn't correspond with any real-world unit; instead, each font must specify a \"units per em\" parameter that indicates how many units in the font's coordinate system correspond with an em-width. Using fontTools, you can access this with the `.unitsPerEm` attribute of the font object after you extract it from the cmap:"
   ]
  },
  {
   "cell_type": "code",
   "execution_count": 13,
   "metadata": {},
   "outputs": [
    {
     "name": "stdout",
     "output_type": "stream",
     "text": [
      "1000\n"
     ]
    }
   ],
   "source": [
    "from fontTools.ttLib.tables._c_m_a_p import CmapSubtable\n",
    "from fontTools.ttLib import TTFont\n",
    "\n",
    "font = TTFont(\"./NotoSans-Regular.ttf\")\n",
    "units_per_em = font['head'].unitsPerEm\n",
    "\n",
    "print(units_per_em)"
   ]
  },
  {
   "cell_type": "markdown",
   "metadata": {},
   "source": [
    "## fontTools ##\n",
    "What is fontTools you say? Let's take a quick detour into fontTools. The [fontTools Python library](https://rsms.me/fonttools-docs/) is useful for grabbing information from font files. \n",
    "\n",
    "The above `contour` function from drawBot lets you grab all the points, but it may not give you enough information. Let's use FontTools to help us."
   ]
  },
  {
   "cell_type": "code",
   "execution_count": 14,
   "metadata": {},
   "outputs": [
    {
     "data": {
      "text/plain": [
       "[('moveTo', ((288, 545),)),\n",
       " ('qCurveTo', ((386, 545), (480, 459), (480, 365))),\n",
       " ('lineTo', ((480, 0),)),\n",
       " ('lineTo', ((416, 0),)),\n",
       " ('lineTo', ((399, 76),)),\n",
       " ('lineTo', ((395, 76),)),\n",
       " ('qCurveTo', ((360, 32), (282, -10), (215, -10))),\n",
       " ('qCurveTo', ((142, -10), (46, 67), (46, 149))),\n",
       " ('qCurveTo', ((46, 229), (172, 316), (303, 320))),\n",
       " ('lineTo', ((394, 323),)),\n",
       " ('lineTo', ((394, 355),)),\n",
       " ('qCurveTo', ((394, 422), (336, 474), (283, 474))),\n",
       " ('qCurveTo', ((241, 474), (165, 449), (132, 433))),\n",
       " ('lineTo', ((105, 499),)),\n",
       " ('qCurveTo', ((140, 518), (236, 545), (288, 545))),\n",
       " ('closePath', ()),\n",
       " ('moveTo', ((393, 262),)),\n",
       " ('lineTo', ((314, 259),)),\n",
       " ('qCurveTo', ((214, 255), (137, 199), (137, 148))),\n",
       " ('qCurveTo', ((137, 103), (192, 61), (235, 61))),\n",
       " ('qCurveTo', ((302, 61), (393, 136), (393, 214))),\n",
       " ('closePath', ())]"
      ]
     },
     "execution_count": 14,
     "metadata": {},
     "output_type": "execute_result"
    }
   ],
   "source": [
    "from fontTools.pens.recordingPen import RecordingPen, DecomposingRecordingPen\n",
    "font = TTFont(\"./NotoSans-Regular.ttf\")\n",
    "glyph_a = font.getGlyphSet()['a']\n",
    "\n",
    "p = RecordingPen()\n",
    "glyph_a.draw(p)\n",
    "p.value"
   ]
  },
  {
   "cell_type": "markdown",
   "metadata": {},
   "source": [
    "Thankfully, placing all of this on the screen is relatively easy with drawbot."
   ]
  },
  {
   "cell_type": "code",
   "execution_count": 15,
   "metadata": {
    "scrolled": true
   },
   "outputs": [
    {
     "data": {
      "image/png": "[encoded data removed]",
      "text/plain": [
       "<IPython.core.display.Image object>"
      ]
     },
     "metadata": {},
     "output_type": "display_data"
    }
   ],
   "source": [
    "startdraw(200,200)\n",
    "draw.font(\"NotoSans-Regular.ttf\",80)\n",
    "draw.text(\"hallo\", (10,10))\n",
    "show()"
   ]
  },
  {
   "cell_type": "markdown",
   "metadata": {},
   "source": [
    "You can also draw the letter(s) as a `BezierPath` object! This can come in handy if you want to use the Bezier for something (like writing inside the outlines.)"
   ]
  },
  {
   "cell_type": "code",
   "execution_count": 16,
   "metadata": {},
   "outputs": [
    {
     "data": {
      "image/png": "[encoded data removed]",
      "text/plain": [
       "<IPython.core.display.Image object>"
      ]
     },
     "metadata": {},
     "output_type": "display_data"
    }
   ],
   "source": [
    "startdraw(200,200)\n",
    "path = draw.BezierPath()\n",
    "path.text(\"a\", font = NotoSans, fontSize = 100)\n",
    "path.translate(10,10) ## move to not cut off\n",
    "draw.drawPath(path)\n",
    "show()"
   ]
  },
  {
   "cell_type": "markdown",
   "metadata": {},
   "source": [
    "### The character map and advances\n",
    "\n",
    "fontTools convieinetly lets us grab the Glyph ID if we need via `TTFont`. Keep in mind, that Glyph IDs are not the same as unicode. Glyph IDs are the order in which the glyphs have been arranged in a font file, and may not be the same across different fonts."
   ]
  },
  {
   "cell_type": "code",
   "execution_count": 17,
   "metadata": {},
   "outputs": [
    {
     "data": {
      "text/plain": [
       "97"
      ]
     },
     "execution_count": 17,
     "metadata": {},
     "output_type": "execute_result"
    }
   ],
   "source": [
    "ord(\"a\") ## Unicode codepoint "
   ]
  },
  {
   "cell_type": "code",
   "execution_count": 18,
   "metadata": {
    "scrolled": true
   },
   "outputs": [
    {
     "data": {
      "text/plain": [
       "68"
      ]
     },
     "execution_count": 18,
     "metadata": {},
     "output_type": "execute_result"
    }
   ],
   "source": [
    "from fontTools.ttLib import TTFont\n",
    "font.getGlyphID('a') ## Glyph ID"
   ]
  },
  {
   "cell_type": "markdown",
   "metadata": {},
   "source": [
    "In font files, there are 'widths' of each glyph. They include the left and right sidebearings. Access the advances with the font object's `.width` attribute:"
   ]
  },
  {
   "cell_type": "code",
   "execution_count": 19,
   "metadata": {
    "scrolled": true
   },
   "outputs": [
    {
     "data": {
      "text/plain": [
       "561"
      ]
     },
     "execution_count": 19,
     "metadata": {},
     "output_type": "execute_result"
    }
   ],
   "source": [
    "glyph_a = font.getGlyphSet()['a']\n",
    "glyph_a.width"
   ]
  },
  {
   "cell_type": "code",
   "execution_count": 20,
   "metadata": {
    "scrolled": true
   },
   "outputs": [
    {
     "data": {
      "text/plain": [
       "561"
      ]
     },
     "execution_count": 20,
     "metadata": {},
     "output_type": "execute_result"
    }
   ],
   "source": [
    "glyph_a = font.getGlyphSet()[chr(97)] ## This also works\n",
    "glyph_a.width"
   ]
  },
  {
   "cell_type": "markdown",
   "metadata": {},
   "source": [
    "These two helper functions get the path commands for a given character and the advance for a given character:"
   ]
  },
  {
   "cell_type": "code",
   "execution_count": 21,
   "metadata": {},
   "outputs": [],
   "source": [
    "font = TTFont(\"./NotoSans-Regular.ttf\")\n",
    "\n",
    "def glyphcommands(f, ch):\n",
    "    glyph = f.getGlyphSet()[ch]\n",
    "    p = RecordingPen()\n",
    "    glyph.draw(p)\n",
    "    return p.value\n",
    "\n",
    "def advancefor(f, ch):\n",
    "    glyph = f.getGlyphSet()[ch]\n",
    "    return glyph.width"
   ]
  },
  {
   "cell_type": "markdown",
   "metadata": {},
   "source": [
    "The path for the letter `a`:"
   ]
  },
  {
   "cell_type": "code",
   "execution_count": 22,
   "metadata": {},
   "outputs": [
    {
     "data": {
      "text/plain": [
       "[('moveTo', ((288, 545),)),\n",
       " ('qCurveTo', ((386, 545), (480, 459), (480, 365))),\n",
       " ('lineTo', ((480, 0),)),\n",
       " ('lineTo', ((416, 0),)),\n",
       " ('lineTo', ((399, 76),)),\n",
       " ('lineTo', ((395, 76),)),\n",
       " ('qCurveTo', ((360, 32), (282, -10), (215, -10))),\n",
       " ('qCurveTo', ((142, -10), (46, 67), (46, 149))),\n",
       " ('qCurveTo', ((46, 229), (172, 316), (303, 320))),\n",
       " ('lineTo', ((394, 323),)),\n",
       " ('lineTo', ((394, 355),)),\n",
       " ('qCurveTo', ((394, 422), (336, 474), (283, 474))),\n",
       " ('qCurveTo', ((241, 474), (165, 449), (132, 433))),\n",
       " ('lineTo', ((105, 499),)),\n",
       " ('qCurveTo', ((140, 518), (236, 545), (288, 545))),\n",
       " ('closePath', ()),\n",
       " ('moveTo', ((393, 262),)),\n",
       " ('lineTo', ((314, 259),)),\n",
       " ('qCurveTo', ((214, 255), (137, 199), (137, 148))),\n",
       " ('qCurveTo', ((137, 103), (192, 61), (235, 61))),\n",
       " ('qCurveTo', ((302, 61), (393, 136), (393, 214))),\n",
       " ('closePath', ())]"
      ]
     },
     "execution_count": 22,
     "metadata": {},
     "output_type": "execute_result"
    }
   ],
   "source": [
    "glyphcommands(font, \"a\")"
   ]
  },
  {
   "cell_type": "markdown",
   "metadata": {},
   "source": [
    "... and its advance:"
   ]
  },
  {
   "cell_type": "code",
   "execution_count": 23,
   "metadata": {},
   "outputs": [
    {
     "data": {
      "text/plain": [
       "561"
      ]
     },
     "execution_count": 23,
     "metadata": {},
     "output_type": "execute_result"
    }
   ],
   "source": [
    "advancefor(font, \"a\")"
   ]
  },
  {
   "cell_type": "markdown",
   "metadata": {},
   "source": [
    "That being said, what happens when you try to get paths for composite letters, like `ā`?"
   ]
  },
  {
   "cell_type": "code",
   "execution_count": 24,
   "metadata": {},
   "outputs": [
    {
     "data": {
      "text/plain": [
       "[('addComponent', ('a', (1, 0, 0, 1, 0, 0))),\n",
       " ('addComponent', ('tilde', (1, 0, 0, 1, 57, 0)))]"
      ]
     },
     "execution_count": 24,
     "metadata": {},
     "output_type": "execute_result"
    }
   ],
   "source": [
    "glyphcommands(font, 'atilde')"
   ]
  },
  {
   "cell_type": "markdown",
   "metadata": {},
   "source": [
    "As you can see, it uses components and doesn't give us a separate path. In this example, we need to use the `Decomposing Recording Pen` since we need to get all the points."
   ]
  },
  {
   "cell_type": "code",
   "execution_count": 25,
   "metadata": {},
   "outputs": [],
   "source": [
    "font = TTFont(\"./NotoSans-Regular.ttf\")\n",
    "\n",
    "def glyphcommands(f, ch):\n",
    "    glyphset = f.getGlyphSet()\n",
    "    glyph = glyphset[ch]\n",
    "#     p = RecordingPen() ## this doesn't count components\n",
    "    p = DecomposingRecordingPen(glyphset)\n",
    "    glyph.draw(p)\n",
    "    return p.value"
   ]
  },
  {
   "cell_type": "code",
   "execution_count": 26,
   "metadata": {},
   "outputs": [
    {
     "data": {
      "text/plain": [
       "[('moveTo', ((288, 545),)),\n",
       " ('qCurveTo', ((386, 545), (480, 459), (480, 365))),\n",
       " ('lineTo', ((480, 0),)),\n",
       " ('lineTo', ((416, 0),)),\n",
       " ('lineTo', ((399, 76),)),\n",
       " ('lineTo', ((395, 76),)),\n",
       " ('qCurveTo', ((360, 32), (282, -10), (215, -10))),\n",
       " ('qCurveTo', ((142, -10), (46, 67), (46, 149))),\n",
       " ('qCurveTo', ((46, 229), (172, 316), (303, 320))),\n",
       " ('lineTo', ((394, 323),)),\n",
       " ('lineTo', ((394, 355),)),\n",
       " ('qCurveTo', ((394, 422), (336, 474), (283, 474))),\n",
       " ('qCurveTo', ((241, 474), (165, 449), (132, 433))),\n",
       " ('lineTo', ((105, 499),)),\n",
       " ('qCurveTo', ((140, 518), (236, 545), (288, 545))),\n",
       " ('closePath', ()),\n",
       " ('moveTo', ((393, 262),)),\n",
       " ('lineTo', ((314, 259),)),\n",
       " ('qCurveTo', ((214, 255), (137, 199), (137, 148))),\n",
       " ('qCurveTo', ((137, 103), (192, 61), (235, 61))),\n",
       " ('qCurveTo', ((302, 61), (393, 136), (393, 214))),\n",
       " ('closePath', ()),\n",
       " ('moveTo', ((97, 606),)),\n",
       " ('qCurveTo', ((103, 665), (160, 734), (207, 734))),\n",
       " ('qCurveTo', ((237, 734), (290, 705), (338, 677), (359, 677))),\n",
       " ('qCurveTo', ((382, 677), (407, 706), (414, 735))),\n",
       " ('lineTo', ((464, 735),)),\n",
       " ('qCurveTo', ((458, 676), (402, 607), (355, 607))),\n",
       " ('qCurveTo', ((327, 607), (274, 635), (225, 664), (203, 664))),\n",
       " ('qCurveTo', ((179, 664), (155, 635), (148, 606))),\n",
       " ('closePath', ())]"
      ]
     },
     "execution_count": 26,
     "metadata": {},
     "output_type": "execute_result"
    }
   ],
   "source": [
    "glyphcommands(font, \"atilde\")"
   ]
  },
  {
   "cell_type": "markdown",
   "metadata": {},
   "source": [
    "### Application: Glyph complexity analysis\n",
    "\n",
    "One potential small application of this data is the ability to analyze the font's glyphs. We can get a full list of all of the glyphs that are in the font with `.getGlyphNames`."
   ]
  },
  {
   "cell_type": "code",
   "execution_count": 27,
   "metadata": {},
   "outputs": [
    {
     "data": {
      "text/plain": [
       "['.notdef',\n",
       " 'A',\n",
       " 'AE',\n",
       " 'AEacute',\n",
       " 'Aacute',\n",
       " 'Abreve',\n",
       " 'Acircumflex',\n",
       " 'Adieresis',\n",
       " 'Agrave',\n",
       " 'Alpha',\n",
       " 'Alphatonos',\n",
       " 'Amacron',\n",
       " 'Aogonek',\n",
       " 'Aogonek.loclNAV',\n",
       " 'Aring',\n",
       " 'Aringacute',\n",
       " 'Atilde',\n",
       " 'B',\n",
       " 'Beta',\n",
       " 'C',\n",
       " 'CDoubleStruck',\n",
       " 'CR',\n",
       " 'Cacute',\n",
       " 'Ccaron',\n",
       " 'Ccedilla',\n",
       " 'Ccircumflex',\n",
       " 'Cdot',\n",
       " 'Cfraktur',\n",
       " 'Chi',\n",
       " 'D',\n",
       " 'Dcaron',\n",
       " 'Dcroat',\n",
       " 'E',\n",
       " 'Eacute',\n",
       " 'Ebreve',\n",
       " 'Ecaron',\n",
       " 'Ecircumflex',\n",
       " 'Edieresis',\n",
       " 'Edotaccent',\n",
       " 'Egrave',\n",
       " 'Emacron',\n",
       " 'Eng',\n",
       " 'Eng.alt1',\n",
       " 'Eng.alt2',\n",
       " 'Eng.alt3',\n",
       " 'Eogonek',\n",
       " 'Eogonek.loclNAV',\n",
       " 'Epsilon',\n",
       " 'Epsilontonos',\n",
       " 'Eta',\n",
       " 'Etatonos',\n",
       " 'Eth',\n",
       " 'Euro',\n",
       " 'F',\n",
       " 'G',\n",
       " 'Gamma',\n",
       " 'GammaDoubleStruck',\n",
       " 'Gbreve',\n",
       " 'Gcircumflex',\n",
       " 'Gdot',\n",
       " 'H',\n",
       " 'HDoubleStruck',\n",
       " 'Hbar',\n",
       " 'Hcircumflex',\n",
       " 'Hfraktur',\n",
       " 'I',\n",
       " 'IJ',\n",
       " 'Iacute',\n",
       " 'Ibreve',\n",
       " 'Icircumflex',\n",
       " 'Idieresis',\n",
       " 'Idotaccent',\n",
       " 'Ifraktur',\n",
       " 'Igrave',\n",
       " 'Imacron',\n",
       " 'Iogonek',\n",
       " 'Iogonek.loclNAV',\n",
       " 'Iota',\n",
       " 'Iotadieresis',\n",
       " 'Iotatonos',\n",
       " 'ItalicDDoubleStruck',\n",
       " 'ItalicdDoubleStruck',\n",
       " 'ItaliceDoubleStruck',\n",
       " 'ItaliciDoubleStruck',\n",
       " 'ItalicjDoubleStruck',\n",
       " 'Itilde',\n",
       " 'J',\n",
       " 'Jcircumflex',\n",
       " 'K',\n",
       " 'Kappa',\n",
       " 'L',\n",
       " 'Lacute',\n",
       " 'Lambda',\n",
       " 'Lcaron',\n",
       " 'Lcommaaccent.loclMAH',\n",
       " 'Ldot',\n",
       " 'Lslash',\n",
       " 'M',\n",
       " 'Mu',\n",
       " 'N',\n",
       " 'NDoubleStruck',\n",
       " 'NULL',\n",
       " 'Nacute',\n",
       " 'Ncaron',\n",
       " 'Ncommaaccent.loclMAH',\n",
       " 'Ntilde',\n",
       " 'Nu',\n",
       " 'O',\n",
       " 'OE',\n",
       " 'Oacute',\n",
       " 'Obreve',\n",
       " 'Ocircumflex',\n",
       " 'Odieresis',\n",
       " 'Ograve',\n",
       " 'Ohorn',\n",
       " 'Ohungarumlaut',\n",
       " 'Omacron',\n",
       " 'Omegatonos',\n",
       " 'Omicron',\n",
       " 'Omicrontonos',\n",
       " 'Oslash',\n",
       " 'Oslashacute',\n",
       " 'Otilde',\n",
       " 'P',\n",
       " 'PDoubleStruck',\n",
       " 'Phi',\n",
       " 'Pi',\n",
       " 'PiDoubleStruck',\n",
       " 'Psi',\n",
       " 'Q',\n",
       " 'QDoubleStruck',\n",
       " 'R',\n",
       " 'RDoubleStruck',\n",
       " 'Racute',\n",
       " 'Rcaron',\n",
       " 'Rfraktur',\n",
       " 'Rho',\n",
       " 'RotatedQ',\n",
       " 'S',\n",
       " 'Sacute',\n",
       " 'Scaron',\n",
       " 'Scedilla',\n",
       " 'Scircumflex',\n",
       " 'Sigma',\n",
       " 'T',\n",
       " 'Tau',\n",
       " 'Tbar',\n",
       " 'Tcaron',\n",
       " 'Theta',\n",
       " 'Thorn',\n",
       " 'TurnedF',\n",
       " 'Turneda',\n",
       " 'Turnede',\n",
       " 'U',\n",
       " 'Uacute',\n",
       " 'Ubreve',\n",
       " 'Ucircumflex',\n",
       " 'Udieresis',\n",
       " 'Ugrave',\n",
       " 'Uhorn',\n",
       " 'Uhungarumlaut',\n",
       " 'Umacron',\n",
       " 'Uogonek',\n",
       " 'Uogonek.loclNAV',\n",
       " 'Upsilon',\n",
       " 'Upsilondieresis',\n",
       " 'Upsilontonos',\n",
       " 'Uring',\n",
       " 'Utilde',\n",
       " 'V',\n",
       " 'W',\n",
       " 'Wacute',\n",
       " 'Wcircumflex',\n",
       " 'Wdieresis',\n",
       " 'Wgrave',\n",
       " 'X',\n",
       " 'Xi',\n",
       " 'Y',\n",
       " 'Yacute',\n",
       " 'Ycircumflex',\n",
       " 'Ydieresis',\n",
       " 'Ygrave',\n",
       " 'Z',\n",
       " 'ZDoubleStruck',\n",
       " 'Zacute',\n",
       " 'Zcaron',\n",
       " 'Zdotaccent',\n",
       " 'Zeta',\n",
       " 'Zfraktur',\n",
       " 'a',\n",
       " 'a.sc',\n",
       " 'aacute',\n",
       " 'aacute.sc',\n",
       " 'abreve',\n",
       " 'abreve.sc',\n",
       " 'acircumflex',\n",
       " 'acircumflex.sc',\n",
       " 'acute',\n",
       " 'acutecomb',\n",
       " 'acutecomb.sc',\n",
       " 'acutegraveacute',\n",
       " 'acutemacron',\n",
       " 'adieresis',\n",
       " 'adieresis.sc',\n",
       " 'ae',\n",
       " 'ae.sc',\n",
       " 'aeacute',\n",
       " 'aeacute.sc',\n",
       " 'afii00208',\n",
       " 'afii08941',\n",
       " 'afii10017',\n",
       " 'afii10018',\n",
       " 'afii10019',\n",
       " 'afii10020',\n",
       " 'afii10021',\n",
       " 'afii10022',\n",
       " 'afii10023',\n",
       " 'afii10024',\n",
       " 'afii10025',\n",
       " 'afii10026',\n",
       " 'afii10027',\n",
       " 'afii10028',\n",
       " 'afii10029',\n",
       " 'afii10030',\n",
       " 'afii10031',\n",
       " 'afii10032',\n",
       " 'afii10033',\n",
       " 'afii10034',\n",
       " 'afii10035',\n",
       " 'afii10036',\n",
       " 'afii10037',\n",
       " 'afii10038',\n",
       " 'afii10039',\n",
       " 'afii10040',\n",
       " 'afii10041',\n",
       " 'afii10042',\n",
       " 'afii10043',\n",
       " 'afii10044',\n",
       " 'afii10045',\n",
       " 'afii10046',\n",
       " 'afii10047',\n",
       " 'afii10048',\n",
       " 'afii10049',\n",
       " 'afii10050',\n",
       " 'afii10051',\n",
       " 'afii10052',\n",
       " 'afii10053',\n",
       " 'afii10054',\n",
       " 'afii10055',\n",
       " 'afii10056',\n",
       " 'afii10057',\n",
       " 'afii10058',\n",
       " 'afii10059',\n",
       " 'afii10060',\n",
       " 'afii10061',\n",
       " 'afii10062',\n",
       " 'afii10065',\n",
       " 'afii10066',\n",
       " 'afii10066.loclSRB',\n",
       " 'afii10067',\n",
       " 'afii10068',\n",
       " 'afii10069',\n",
       " 'afii10070',\n",
       " 'afii10071',\n",
       " 'afii10072',\n",
       " 'afii10073',\n",
       " 'afii10074',\n",
       " 'afii10075',\n",
       " 'afii10076',\n",
       " 'afii10077',\n",
       " 'afii10078',\n",
       " 'afii10079',\n",
       " 'afii10080',\n",
       " 'afii10081',\n",
       " 'afii10082',\n",
       " 'afii10083',\n",
       " 'afii10084',\n",
       " 'afii10085',\n",
       " 'afii10086',\n",
       " 'afii10087',\n",
       " 'afii10088',\n",
       " 'afii10089',\n",
       " 'afii10090',\n",
       " 'afii10091',\n",
       " 'afii10092',\n",
       " 'afii10093',\n",
       " 'afii10094',\n",
       " 'afii10095',\n",
       " 'afii10096',\n",
       " 'afii10097',\n",
       " 'afii10098',\n",
       " 'afii10099',\n",
       " 'afii10100',\n",
       " 'afii10101',\n",
       " 'afii10102',\n",
       " 'afii10103',\n",
       " 'afii10103dotless',\n",
       " 'afii10104',\n",
       " 'afii10105',\n",
       " 'afii10105dotless',\n",
       " 'afii10106',\n",
       " 'afii10107',\n",
       " 'afii10108',\n",
       " 'afii10109',\n",
       " 'afii10110',\n",
       " 'afii10145',\n",
       " 'afii10193',\n",
       " 'afii61248',\n",
       " 'afii61289',\n",
       " 'afii61352',\n",
       " 'agrave',\n",
       " 'agrave.sc',\n",
       " 'alpha',\n",
       " 'alphatonos',\n",
       " 'amacron',\n",
       " 'amacron.sc',\n",
       " 'ampersand',\n",
       " 'ampersand.sc',\n",
       " 'anoteleia',\n",
       " 'aogonek',\n",
       " 'aogonek.loclNAV',\n",
       " 'aogonek.sc',\n",
       " 'aring',\n",
       " 'aring.sc',\n",
       " 'aringacute',\n",
       " 'aringacute.sc',\n",
       " 'asciicircum',\n",
       " 'asciitilde',\n",
       " 'asterisk',\n",
       " 'at',\n",
       " 'atilde',\n",
       " 'atilde.sc',\n",
       " 'b',\n",
       " 'b.sc',\n",
       " 'backslash',\n",
       " 'bar',\n",
       " 'beta',\n",
       " 'braceleft',\n",
       " 'braceleft.sc',\n",
       " 'braceright',\n",
       " 'braceright.sc',\n",
       " 'bracketleft',\n",
       " 'bracketleft.sc',\n",
       " 'bracketright',\n",
       " 'bracketright.sc',\n",
       " 'brackhalfbottomleft',\n",
       " 'brackhalfbottomright',\n",
       " 'brackhalftopleft',\n",
       " 'brackhalftopright',\n",
       " 'breve',\n",
       " 'breveacutecomb',\n",
       " 'brevecomb.sc',\n",
       " 'brevegravecomb',\n",
       " 'brevehookcomb',\n",
       " 'brevemacron',\n",
       " 'brevetildecomb',\n",
       " 'brokenbar',\n",
       " 'bullet',\n",
       " 'c',\n",
       " 'c.sc',\n",
       " 'cacute',\n",
       " 'cacute.sc',\n",
       " 'caret',\n",
       " 'caron',\n",
       " 'caroncomb.sc',\n",
       " 'caroncommaaccent',\n",
       " 'carondot',\n",
       " 'ccaron',\n",
       " 'ccaron.sc',\n",
       " 'ccedilla',\n",
       " 'ccedilla.sc',\n",
       " 'ccircumflex',\n",
       " 'ccircumflex.sc',\n",
       " 'cdot',\n",
       " 'cdot.sc',\n",
       " 'cedilla',\n",
       " 'cent',\n",
       " 'chi',\n",
       " 'circumflex',\n",
       " 'circumflexacutecomb',\n",
       " 'circumflexcomb.sc',\n",
       " 'circumflexgravecomb',\n",
       " 'circumflexhookcomb',\n",
       " 'circumflextildecomb',\n",
       " 'colon',\n",
       " 'combiningconjoiningmacron',\n",
       " 'combiningmacronlefthalf',\n",
       " 'combiningmacronrighthalf',\n",
       " 'comma',\n",
       " 'commaaccent',\n",
       " 'commaaccent2',\n",
       " 'commaaccentrotate',\n",
       " 'copyright',\n",
       " 'currency',\n",
       " 'cyrillic_otmark',\n",
       " 'cyrillicbighookUC',\n",
       " 'cyrillicbreve',\n",
       " 'cyrillichookleft',\n",
       " 'd',\n",
       " 'd.sc',\n",
       " 'dagger',\n",
       " 'daggerdbl',\n",
       " 'dcaron',\n",
       " 'dcaron.sc',\n",
       " 'dcroat',\n",
       " 'dcroat.sc',\n",
       " 'degree',\n",
       " 'delta',\n",
       " 'deltalatin',\n",
       " 'dieresis',\n",
       " 'dieresisacute',\n",
       " 'dieresiscaron',\n",
       " 'dieresiscomb.sc',\n",
       " 'dieresisgrave',\n",
       " 'dieresismacron',\n",
       " 'dieresistonos',\n",
       " 'divide',\n",
       " 'dollar',\n",
       " 'dotaccent',\n",
       " 'dotaccentcomb.sc',\n",
       " 'dotacute',\n",
       " 'dotbelowcomb',\n",
       " 'dotlessi',\n",
       " 'dotmacron',\n",
       " 'dotmacron.cap',\n",
       " 'dottedacute',\n",
       " 'dottedgrave',\n",
       " 'doublecircumflexabove',\n",
       " 'downwardsancora',\n",
       " 'dzlig',\n",
       " 'dzligcurl',\n",
       " 'e',\n",
       " 'e.sc',\n",
       " 'eacute',\n",
       " 'eacute.sc',\n",
       " 'ebreve',\n",
       " 'ebreve.sc',\n",
       " 'ecaron',\n",
       " 'ecaron.sc',\n",
       " 'ecircumflex',\n",
       " 'ecircumflex.sc',\n",
       " 'edieresis',\n",
       " 'edieresis.sc',\n",
       " 'edotaccent',\n",
       " 'edotaccent.sc',\n",
       " 'egrave',\n",
       " 'egrave.sc',\n",
       " 'eight',\n",
       " 'eight.dnom',\n",
       " 'eight.lf',\n",
       " 'eight.numr',\n",
       " 'eight.osf',\n",
       " 'eight.tosf',\n",
       " 'ellipsis',\n",
       " 'emacron',\n",
       " 'emacron.sc',\n",
       " 'emdash',\n",
       " 'endash',\n",
       " 'eng',\n",
       " 'eng.sc',\n",
       " 'eogonek',\n",
       " 'eogonek.loclNAV',\n",
       " 'eogonek.sc',\n",
       " 'epsilon',\n",
       " 'epsilontonos',\n",
       " 'equal',\n",
       " 'estimated',\n",
       " 'eta',\n",
       " 'etatonos',\n",
       " 'eth',\n",
       " 'eth.sc',\n",
       " 'exclam',\n",
       " 'exclam.sc',\n",
       " 'exclamdbl',\n",
       " 'exclamdbl.sc',\n",
       " 'exclamdown',\n",
       " 'exclamdown.sc',\n",
       " 'f',\n",
       " 'f.sc',\n",
       " 'f_f',\n",
       " 'f_f_i',\n",
       " 'f_f_l',\n",
       " 'f_i',\n",
       " 'f_l',\n",
       " 'five',\n",
       " 'five.dnom',\n",
       " 'five.lf',\n",
       " 'five.numr',\n",
       " 'five.osf',\n",
       " 'five.tosf',\n",
       " 'fiveeighths',\n",
       " 'flattenedopenaabove',\n",
       " 'florin',\n",
       " 'four',\n",
       " 'four.dnom',\n",
       " 'four.lf',\n",
       " 'four.numr',\n",
       " 'four.osf',\n",
       " 'four.tosf',\n",
       " 'fraction',\n",
       " 'franc',\n",
       " 'g',\n",
       " 'g.sc',\n",
       " 'gamma',\n",
       " 'gammaDoubleStruck',\n",
       " 'gbreve',\n",
       " 'gbreve.sc',\n",
       " 'gcircumflex',\n",
       " 'gcircumflex.sc',\n",
       " 'gcommaaccent.sc',\n",
       " 'gdot',\n",
       " 'gdot.sc',\n",
       " 'germandbls',\n",
       " 'germandbls.sc',\n",
       " 'glottalturned',\n",
       " 'grave',\n",
       " 'graveacutegrave',\n",
       " 'gravecomb',\n",
       " 'gravecomb.sc',\n",
       " 'gravemacron',\n",
       " 'greater',\n",
       " 'guillemotleft',\n",
       " 'guillemotright',\n",
       " 'guilsinglleft',\n",
       " 'guilsinglleft.sc',\n",
       " 'guilsinglright',\n",
       " 'guilsinglright.sc',\n",
       " 'h',\n",
       " 'h.sc',\n",
       " 'hbar',\n",
       " 'hbar.sc',\n",
       " 'hcircumflex',\n",
       " 'hcircumflex.sc',\n",
       " 'hook',\n",
       " 'hookabovecomb',\n",
       " 'hookpalatalizedbelowcomb',\n",
       " 'hookretroflexbelowcomb',\n",
       " 'hungarumlaut',\n",
       " 'hungarumlautcomb.sc',\n",
       " 'hyphen',\n",
       " 'i',\n",
       " 'i.sc',\n",
       " 'iacute',\n",
       " 'iacute.sc',\n",
       " 'ibreve',\n",
       " 'ibreve.sc',\n",
       " 'icircumflex',\n",
       " 'icircumflex.sc',\n",
       " 'idieresis',\n",
       " 'idieresis.sc',\n",
       " 'idotaccent.sc',\n",
       " 'igrave',\n",
       " 'igrave.sc',\n",
       " 'ij',\n",
       " 'ij.sc',\n",
       " 'imacron',\n",
       " 'imacron.sc',\n",
       " 'iogonek',\n",
       " 'iogonek.loclNAV',\n",
       " 'iogonek.sc',\n",
       " 'iogonekdotless',\n",
       " 'iota',\n",
       " 'iotaLatin',\n",
       " 'iotadieresis',\n",
       " 'iotadieresistonos',\n",
       " 'iotatonos',\n",
       " 'itilde',\n",
       " 'itilde.sc',\n",
       " 'j',\n",
       " 'j.sc',\n",
       " 'jcircumflex',\n",
       " 'jcircumflex.sc',\n",
       " 'k',\n",
       " 'k.sc',\n",
       " 'kappa',\n",
       " 'kcommaaccent.sc',\n",
       " 'kgreenlandic',\n",
       " 'l',\n",
       " 'l.sc',\n",
       " 'lacute',\n",
       " 'lacute.sc',\n",
       " 'lambda',\n",
       " 'lcaron',\n",
       " 'lcaron.sc',\n",
       " 'lcommaaccent.loclMAH',\n",
       " 'lcommaaccent.sc',\n",
       " 'ldot',\n",
       " 'ldot.sc',\n",
       " 'leftdoubleparenthesis',\n",
       " 'less',\n",
       " 'logicalnot',\n",
       " 'longs',\n",
       " 'longs_t',\n",
       " 'lslash',\n",
       " 'lslash.sc',\n",
       " 'm',\n",
       " 'm.sc',\n",
       " 'macron',\n",
       " 'macronacute',\n",
       " 'macronbreve',\n",
       " 'macroncomb.sc',\n",
       " 'macrondieresis',\n",
       " 'macrongrave',\n",
       " 'minute',\n",
       " 'multiply',\n",
       " 'n',\n",
       " 'n.sc',\n",
       " 'nacute',\n",
       " 'nacute.sc',\n",
       " 'napostrophe',\n",
       " 'ncaron',\n",
       " 'ncaron.sc',\n",
       " 'ncommaaccent.loclMAH',\n",
       " 'ncommaaccent.sc',\n",
       " 'nine',\n",
       " 'nine.dnom',\n",
       " 'nine.lf',\n",
       " 'nine.numr',\n",
       " 'nine.osf',\n",
       " 'nine.tosf',\n",
       " 'nsuperior',\n",
       " 'ntilde',\n",
       " 'ntilde.sc',\n",
       " 'nu',\n",
       " 'numbersign',\n",
       " 'o',\n",
       " 'o.sc',\n",
       " 'oacute',\n",
       " 'oacute.sc',\n",
       " 'obreve',\n",
       " 'obreve.sc',\n",
       " 'ocircumflex',\n",
       " 'ocircumflex.sc',\n",
       " 'odieresis',\n",
       " 'odieresis.sc',\n",
       " 'oe',\n",
       " 'oe.sc',\n",
       " 'ogonek',\n",
       " 'ogonekabove',\n",
       " 'ogonekcomb.sc',\n",
       " 'ograve',\n",
       " 'ograve.sc',\n",
       " 'ohorn',\n",
       " 'ohungarumlaut',\n",
       " 'ohungarumlaut.sc',\n",
       " 'omacron',\n",
       " 'omacron.sc',\n",
       " 'omega',\n",
       " 'omegaclosed',\n",
       " 'omegatonos',\n",
       " 'omicron',\n",
       " 'omicrontonos',\n",
       " 'one',\n",
       " 'one.dnom',\n",
       " 'one.lf',\n",
       " 'one.numr',\n",
       " 'one.osf',\n",
       " 'one.tosf',\n",
       " 'onedotenleader',\n",
       " 'onedotovertwodotspunctuation',\n",
       " 'oneeighth',\n",
       " 'onehalf',\n",
       " 'onequarter',\n",
       " 'ordfeminine',\n",
       " 'ordmasculine',\n",
       " 'oslash',\n",
       " 'oslash.sc',\n",
       " 'oslashacute',\n",
       " 'oslashacute.sc',\n",
       " 'otilde',\n",
       " 'otilde.sc',\n",
       " 'overlinecmb',\n",
       " 'overscore',\n",
       " 'overscore.sc',\n",
       " 'p',\n",
       " 'p.sc',\n",
       " 'paragraph',\n",
       " 'parenleft',\n",
       " 'parenleft.sc',\n",
       " 'parenright',\n",
       " 'parenright.sc',\n",
       " 'percent',\n",
       " 'period',\n",
       " 'periodcentered',\n",
       " 'perthousand',\n",
       " 'peseta',\n",
       " 'phi',\n",
       " 'phi1',\n",
       " 'pi',\n",
       " 'piDoubleStruck',\n",
       " 'plus',\n",
       " 'plusminus',\n",
       " 'prescription',\n",
       " 'psi',\n",
       " 'q',\n",
       " 'q.sc',\n",
       " 'question',\n",
       " 'question.sc',\n",
       " 'questiondown',\n",
       " 'questiondown.sc',\n",
       " 'quotedbl',\n",
       " 'quotedblbase',\n",
       " 'quotedblleft',\n",
       " 'quotedblright',\n",
       " 'quoteleft',\n",
       " 'quotereversed',\n",
       " 'quoteright',\n",
       " 'quotesinglbase',\n",
       " 'quotesingle',\n",
       " 'r',\n",
       " 'r.sc',\n",
       " 'racute',\n",
       " 'racute.sc',\n",
       " 'rcaron',\n",
       " 'rcaron.sc',\n",
       " 'rcommaaccent.sc',\n",
       " 'registered',\n",
       " 'reversedSansSerifL',\n",
       " 'reversedparagraph',\n",
       " 'reversedquestionmark',\n",
       " 'rho',\n",
       " 'rightdoubleparenthesis',\n",
       " 'ring',\n",
       " 'ringcomb.sc',\n",
       " 's',\n",
       " 's.sc',\n",
       " 's_t',\n",
       " 'sacute',\n",
       " 'sacute.sc',\n",
       " 'scaron',\n",
       " 'scaron.sc',\n",
       " 'scedilla',\n",
       " 'scedilla.sc',\n",
       " 'scircumflex',\n",
       " 'scircumflex.sc',\n",
       " 'scommaaccent.sc',\n",
       " 'scripte',\n",
       " 'scriptg',\n",
       " 'scripto',\n",
       " 'second',\n",
       " 'section',\n",
       " 'semicolon',\n",
       " 'seven',\n",
       " 'seven.dnom',\n",
       " 'seven.lf',\n",
       " 'seven.numr',\n",
       " 'seven.osf',\n",
       " 'seven.tosf',\n",
       " 'seveneighths',\n",
       " 'sigma',\n",
       " 'sigma1',\n",
       " 'six',\n",
       " 'six.dnom',\n",
       " 'six.lf',\n",
       " 'six.numr',\n",
       " 'six.osf',\n",
       " 'six.tosf',\n",
       " 'slash',\n",
       " 'slashlongoverlaycomb',\n",
       " 'slashshortoverlaycomb',\n",
       " 'snakebelow',\n",
       " 'space',\n",
       " 'squaredfourdotpunctuation',\n",
       " 'sterling',\n",
       " 'strokelongoverlaycomb',\n",
       " 'strokeshortoverlaycomb',\n",
       " 'subscriptj',\n",
       " 'summationDoubleStruck',\n",
       " 'summationDoubleStruck.mir',\n",
       " 'suspensionmark',\n",
       " 'symbolforsamaritansource',\n",
       " 't',\n",
       " 't.sc',\n",
       " 'tau',\n",
       " 'tbar',\n",
       " 'tbar.sc',\n",
       " 'tcaron',\n",
       " 'tcaron.sc',\n",
       " 'tcedilla.sc',\n",
       " 'tcligcurl',\n",
       " 'tcommaaccent.sc',\n",
       " 'theta',\n",
       " 'thorn',\n",
       " 'thorn.sc',\n",
       " 'three',\n",
       " 'three.dnom',\n",
       " 'three.lf',\n",
       " 'three.numr',\n",
       " 'three.osf',\n",
       " 'three.tosf',\n",
       " 'threeeighths',\n",
       " 'threequarters',\n",
       " 'tilde',\n",
       " 'tildeacute',\n",
       " 'tildecomb',\n",
       " 'tildecomb.sc',\n",
       " 'tildedieresis',\n",
       " 'tildemacron',\n",
       " 'tonos',\n",
       " 'trademark',\n",
       " 'tslig',\n",
       " 'turnedSansSerifG',\n",
       " 'turnedSansSerifL',\n",
       " 'turnedSansSerifY',\n",
       " 'two',\n",
       " 'two.dnom',\n",
       " 'two.lf',\n",
       " 'two.numr',\n",
       " 'two.osf',\n",
       " 'two.tosf',\n",
       " 'twodotenleader',\n",
       " 'twodotsoveronedotpunctuation',\n",
       " 'u',\n",
       " 'u.sc',\n",
       " 'uacute',\n",
       " 'uacute.sc',\n",
       " 'ubreve',\n",
       " 'ubreve.sc',\n",
       " 'ucircumflex',\n",
       " 'ucircumflex.sc',\n",
       " 'udieresis',\n",
       " 'udieresis.sc',\n",
       " 'ugrave',\n",
       " 'ugrave.sc',\n",
       " 'uhorn',\n",
       " 'uhungarumlaut',\n",
       " 'uhungarumlaut.sc',\n",
       " 'umacron',\n",
       " 'umacron.sc',\n",
       " 'underscore',\n",
       " 'underscoredbl',\n",
       " 'uni00A0',\n",
       " 'uni00AD',\n",
       " 'uni00B2',\n",
       " 'uni00B3',\n",
       " 'uni00B5',\n",
       " 'uni00B9',\n",
       " 'uni0122',\n",
       " 'uni0123',\n",
       " 'uni0136',\n",
       " 'uni0137',\n",
       " 'uni013B',\n",
       " 'uni013C',\n",
       " 'uni0145',\n",
       " 'uni0146',\n",
       " 'uni0156',\n",
       " 'uni0157',\n",
       " 'uni0162',\n",
       " 'uni0163',\n",
       " 'uni0180',\n",
       " 'uni0181',\n",
       " 'uni0182',\n",
       " 'uni0183',\n",
       " 'uni0184',\n",
       " 'uni0185',\n",
       " 'uni0186',\n",
       " 'uni0187',\n",
       " 'uni0188',\n",
       " 'uni0189',\n",
       " 'uni018A',\n",
       " 'uni018B',\n",
       " 'uni018C',\n",
       " 'uni018D',\n",
       " 'uni018E',\n",
       " 'uni018F',\n",
       " 'uni0190',\n",
       " 'uni0191',\n",
       " 'uni0193',\n",
       " 'uni0194',\n",
       " 'uni0195',\n",
       " 'uni0196',\n",
       " 'uni0197',\n",
       " 'uni0198',\n",
       " 'uni0199',\n",
       " 'uni019A',\n",
       " 'uni019B',\n",
       " 'uni019C',\n",
       " 'uni019D',\n",
       " 'uni019E',\n",
       " 'uni019F',\n",
       " 'uni01A2',\n",
       " 'uni01A3',\n",
       " 'uni01A4',\n",
       " 'uni01A5',\n",
       " 'uni01A6',\n",
       " 'uni01A7',\n",
       " 'uni01A8',\n",
       " 'uni01A9',\n",
       " 'uni01AA',\n",
       " 'uni01AB',\n",
       " 'uni01AC',\n",
       " 'uni01AD',\n",
       " 'uni01AE',\n",
       " 'uni01B1',\n",
       " 'uni01B2',\n",
       " 'uni01B3',\n",
       " 'uni01B4',\n",
       " 'uni01B5',\n",
       " 'uni01B6',\n",
       " 'uni01B7',\n",
       " 'uni01B8',\n",
       " 'uni01B9',\n",
       " 'uni01BA',\n",
       " 'uni01BB',\n",
       " 'uni01BC',\n",
       " 'uni01BD',\n",
       " 'uni01BE',\n",
       " 'uni01BF',\n",
       " 'uni01C0',\n",
       " 'uni01C1',\n",
       " 'uni01C2',\n",
       " 'uni01C3',\n",
       " 'uni01C4',\n",
       " 'uni01C5',\n",
       " 'uni01C6',\n",
       " 'uni01C7',\n",
       " 'uni01C8',\n",
       " 'uni01C9',\n",
       " 'uni01CA',\n",
       " 'uni01CB',\n",
       " 'uni01CC',\n",
       " 'uni01CD',\n",
       " 'uni01CE',\n",
       " 'uni01CF',\n",
       " 'uni01D0',\n",
       " 'uni01D1',\n",
       " 'uni01D2',\n",
       " 'uni01D3',\n",
       " 'uni01D4',\n",
       " 'uni01D5',\n",
       " 'uni01D6',\n",
       " 'uni01D7',\n",
       " 'uni01D8',\n",
       " 'uni01D9',\n",
       " 'uni01DA',\n",
       " 'uni01DB',\n",
       " 'uni01DC',\n",
       " 'uni01DD',\n",
       " 'uni01DE',\n",
       " 'uni01DF',\n",
       " 'uni01E0',\n",
       " 'uni01E1',\n",
       " 'uni01E2',\n",
       " 'uni01E3',\n",
       " 'uni01E4',\n",
       " 'uni01E5',\n",
       " 'uni01E6',\n",
       " 'uni01E7',\n",
       " 'uni01E8',\n",
       " 'uni01E9',\n",
       " 'uni01EA',\n",
       " 'uni01EB',\n",
       " 'uni01EC',\n",
       " 'uni01ED',\n",
       " 'uni01EE',\n",
       " 'uni01EF',\n",
       " 'uni01F0',\n",
       " 'uni01F1',\n",
       " 'uni01F2',\n",
       " 'uni01F3',\n",
       " 'uni01F4',\n",
       " 'uni01F5',\n",
       " 'uni01F6',\n",
       " 'uni01F7',\n",
       " 'uni01F8',\n",
       " 'uni01F9',\n",
       " 'uni0200',\n",
       " 'uni0201',\n",
       " 'uni0202',\n",
       " 'uni0203',\n",
       " 'uni0204',\n",
       " 'uni0205',\n",
       " 'uni0206',\n",
       " 'uni0207',\n",
       " 'uni0208',\n",
       " 'uni0209',\n",
       " 'uni020A',\n",
       " 'uni020B',\n",
       " 'uni020C',\n",
       " 'uni020D',\n",
       " 'uni020E',\n",
       " 'uni020F',\n",
       " 'uni0210',\n",
       " 'uni0211',\n",
       " 'uni0212',\n",
       " 'uni0213',\n",
       " 'uni0214',\n",
       " 'uni0215',\n",
       " 'uni0216',\n",
       " 'uni0217',\n",
       " 'uni0218',\n",
       " 'uni0219',\n",
       " 'uni021A',\n",
       " 'uni021B',\n",
       " 'uni021C',\n",
       " 'uni021D',\n",
       " 'uni021E',\n",
       " 'uni021F',\n",
       " 'uni0220',\n",
       " 'uni0221',\n",
       " ...]"
      ]
     },
     "execution_count": 27,
     "metadata": {},
     "output_type": "execute_result"
    }
   ],
   "source": [
    "font.getGlyphNames()"
   ]
  },
  {
   "cell_type": "markdown",
   "metadata": {},
   "source": [
    "We can also find out the character set of this font file with the `len` function:"
   ]
  },
  {
   "cell_type": "code",
   "execution_count": 28,
   "metadata": {
    "scrolled": true
   },
   "outputs": [
    {
     "data": {
      "text/plain": [
       "3246"
      ]
     },
     "execution_count": 28,
     "metadata": {},
     "output_type": "execute_result"
    }
   ],
   "source": [
    "len(font.getGlyphNames())"
   ]
  },
  {
   "cell_type": "markdown",
   "metadata": {},
   "source": [
    "Let's add all the glyphs in one list:"
   ]
  },
  {
   "cell_type": "code",
   "execution_count": 29,
   "metadata": {},
   "outputs": [],
   "source": [
    "glyph_names = [i for i in font.getGlyphNames()]"
   ]
  },
  {
   "cell_type": "markdown",
   "metadata": {},
   "source": [
    "Let's quickly find out which character in the font is the most complex—i.e., which glyph has the largest number of commands in its path. The downside of just counting how many things are in `glyphcommands(font, \"a\")` is that the curved points which have multiple points will only count as 1 command. So in order to calculate complexity, we'll need to count how many points are in the glyph path."
   ]
  },
  {
   "cell_type": "code",
   "execution_count": 30,
   "metadata": {},
   "outputs": [],
   "source": [
    "glyph_paths = []\n",
    "for glyphs in glyph_names:\n",
    "    count = 0\n",
    "    for i,j in glyphcommands(font, glyphs):\n",
    "        for k in j:\n",
    "            count += 1\n",
    "    glyph_paths.append((glyphs,count))"
   ]
  },
  {
   "cell_type": "markdown",
   "metadata": {},
   "source": [
    "The resulting data structure looks like this:"
   ]
  },
  {
   "cell_type": "code",
   "execution_count": 31,
   "metadata": {},
   "outputs": [
    {
     "data": {
      "text/plain": [
       "[('.notdef', 8),\n",
       " ('A', 18),\n",
       " ('AE', 20),\n",
       " ('AEacute', 32),\n",
       " ('Aacute', 30),\n",
       " ('Abreve', 32),\n",
       " ('Acircumflex', 37),\n",
       " ('Adieresis', 44),\n",
       " ('Agrave', 30),\n",
       " ('Alpha', 18),\n",
       " ('Alphatonos', 30),\n",
       " ('Amacron', 22)]"
      ]
     },
     "execution_count": 31,
     "metadata": {},
     "output_type": "execute_result"
    }
   ],
   "source": [
    "glyph_paths[:12]"
   ]
  },
  {
   "cell_type": "markdown",
   "metadata": {},
   "source": [
    "... which tells us that A, the glyph at index 1 has 18 points in its path; the Adieresis glyph at index 7 has 44 elements, etc. The following code sorts this list in reverse order by the value in the second element of the tuple, grabbing just the top ten:"
   ]
  },
  {
   "cell_type": "code",
   "execution_count": 32,
   "metadata": {},
   "outputs": [
    {
     "data": {
      "text/plain": [
       "[('uniA66E', 301),\n",
       " ('uni2E19', 202),\n",
       " ('uni034F', 184),\n",
       " ('uni210B', 166),\n",
       " ('uni214C', 166),\n",
       " ('uni212C', 160),\n",
       " ('uni211B', 156),\n",
       " ('uniFFFC', 147),\n",
       " ('Rfraktur', 138),\n",
       " ('uni2131', 138)]"
      ]
     },
     "execution_count": 32,
     "metadata": {},
     "output_type": "execute_result"
    }
   ],
   "source": [
    "glyphs_by_complexity = sorted(glyph_paths, key=lambda x: x[1], reverse=True)[:10]\n",
    "glyphs_by_complexity"
   ]
  },
  {
   "cell_type": "markdown",
   "metadata": {},
   "source": [
    "To get the index of just the most complex character and see Glyph ID:"
   ]
  },
  {
   "cell_type": "code",
   "execution_count": 33,
   "metadata": {},
   "outputs": [
    {
     "name": "stdout",
     "output_type": "stream",
     "text": [
      "most_complex_index is uniA66E\n",
      "Glyph ID is 2418\n"
     ]
    }
   ],
   "source": [
    "most_complex_index = glyphs_by_complexity[0][0]\n",
    "\n",
    "print ('most_complex_index is ' + str(most_complex_index))\n",
    "print (\"Glyph ID is \" + str(font.getGlyphID(most_complex_index)))"
   ]
  },
  {
   "cell_type": "markdown",
   "metadata": {},
   "source": [
    "Now, we need to convert the 'uni' part to 0x, to make sure Python can read it. ALSO, keep in mind that unicode numbers are hex, so you have to specify to use base-16 (as opposed to the usual 10 that we use with Arabic numerals)."
   ]
  },
  {
   "cell_type": "code",
   "execution_count": 34,
   "metadata": {},
   "outputs": [
    {
     "name": "stdout",
     "output_type": "stream",
     "text": [
      "Converted name is : 42606\n",
      "It looks like this : ꙮ\n"
     ]
    }
   ],
   "source": [
    "convert_index_name = int(str(most_complex_index).replace(\"uni\",\"0x\"),16)\n",
    "print (\"Converted name is : \" + str(convert_index_name))\n",
    "print (\"It looks like this : \" + str(chr(convert_index_name)))"
   ]
  },
  {
   "cell_type": "markdown",
   "metadata": {},
   "source": [
    "Note: It may look like nothing printed after 'it looks like this: '. If it is,it's just because the font that is getting used in Jupyter Notebook to render the output doesn't support this character."
   ]
  },
  {
   "cell_type": "markdown",
   "metadata": {},
   "source": [
    "Let's draw it to see what this glyph looks like!"
   ]
  },
  {
   "cell_type": "code",
   "execution_count": 35,
   "metadata": {},
   "outputs": [
    {
     "data": {
      "image/png": "[encoded data removed]",
      "text/plain": [
       "<IPython.core.display.Image object>"
      ]
     },
     "metadata": {},
     "output_type": "display_data"
    }
   ],
   "source": [
    "startdraw(200,200)\n",
    "path = draw.BezierPath()\n",
    "path.text(str(chr(convert_index_name)), font = NotoSans, fontSize = 100)\n",
    "path.translate(10,20) ## move to not cut off\n",
    "draw.drawPath(path)\n",
    "show()"
   ]
  },
  {
   "cell_type": "markdown",
   "metadata": {},
   "source": [
    "Whoa! What is that wonderful thing? In order to find out, we need some way to track the glyph index back to the Unicode character it represents."
   ]
  },
  {
   "cell_type": "markdown",
   "metadata": {},
   "source": [
    "Using Python's `unicodedata` module, we can get the name and codepoint for this character:"
   ]
  },
  {
   "cell_type": "code",
   "execution_count": 36,
   "metadata": {
    "scrolled": true
   },
   "outputs": [
    {
     "name": "stdout",
     "output_type": "stream",
     "text": [
      "CYRILLIC LETTER MULTIOCULAR O\n",
      "42606\n"
     ]
    }
   ],
   "source": [
    "from unicodedata import *\n",
    "print(name(str(chr(convert_index_name)))) #Get Unicode Name\n",
    "print(ord(str(chr(convert_index_name)))) #Get codepoint of Unicode"
   ]
  },
  {
   "cell_type": "markdown",
   "metadata": {},
   "source": [
    "We can also lookup the char of a given name too:"
   ]
  },
  {
   "cell_type": "code",
   "execution_count": 37,
   "metadata": {
    "scrolled": true
   },
   "outputs": [
    {
     "name": "stdout",
     "output_type": "stream",
     "text": [
      "ꙮ\n"
     ]
    }
   ],
   "source": [
    "char = lookup(\"CYRILLIC LETTER MULTIOCULAR O\")\n",
    "print(char)"
   ]
  },
  {
   "cell_type": "markdown",
   "metadata": {},
   "source": [
    "It's the [multiocular O](https://en.wikipedia.org/wiki/Multiocular_O) (ꙮ), a variant of the Cyrillic letter O found in a handful of medieval manuscripts and also probably the coolest codepoint in Unicode.\n"
   ]
  },
  {
   "cell_type": "markdown",
   "metadata": {},
   "source": [
    "### Visualizing glyph complexity\n",
    "\n",
    "Let's build on this a little bit to make some asemic writing. Or maybe this is more like a text visualization experiment? I'm not sure! I'm going to write some code that \"rewrites\" a text by replacing each character with a rectangle whose fill color corresponds to the complexity of that character's corresponding glyph, and whose width corresponds to the advance of the character.\n",
    "\n",
    "We'll use Robert Frost's \"The Road Not Taken,\" [included in this repository as frost.txt](frost.txt).\n",
    "\n",
    "The code below does a couple of tricky things. Some of those tricky things are layout-related, which we'll cover in more detail in the following section."
   ]
  },
  {
   "cell_type": "code",
   "execution_count": 38,
   "metadata": {},
   "outputs": [
    {
     "data": {
      "image/png": "[encoded data removed]",
      "text/plain": [
       "<IPython.core.display.Image object>"
      ]
     },
     "metadata": {},
     "output_type": "display_data"
    }
   ],
   "source": [
    "startdraw(360,288)\n",
    "border = 9 # 1/8in\n",
    "lineheight = 16 # size of each line\n",
    "rectsize = 12 # size of each rectangle\n",
    "yoff = border  \n",
    "xoff = border\n",
    "for line in open(\"frost.txt\"):\n",
    "    line = line.strip() # remove trailing whitespace\n",
    "    for ch in line:\n",
    "        path_len = len(glyphcommands(font, ch))\n",
    "        val = (255 - (path_len * 5))/255\n",
    "        advance = advancefor(font, ch) / font['head'].unitsPerEm * lineheight\n",
    "        draw.fill(val)\n",
    "        draw.rect(xoff, yoff, advance, rectsize)\n",
    "        xoff += int(advance)\n",
    "    xoff = border\n",
    "    yoff += lineheight\n",
    "show()\n",
    "\n",
    "## FIX LATER, HAD TO STRIP SPACE AND PUNCTUATION"
   ]
  },
  {
   "cell_type": "markdown",
   "metadata": {},
   "source": [
    "### Rendering a string \"by hand\"\n",
    "\n",
    "Using `glyphcommands()` and `advancefor()`, you can draw an entire string on the screen. The most simple technique to render a string of characters in a Roman-derived alphabet (like English):\n",
    "\n",
    "* Keep track of the current cursor position.\n",
    "* For each character in the string:\n",
    "  * Draw the glyph associated with this character at the current cursor position.\n",
    "  * Move the current cursor position to the right by the amount of the character's advance.\n",
    "\n",
    "It should be noted that there are many important drawbacks to this approach:\n",
    "\n",
    "* It only works with left-to-right writing\n",
    "* Doesn't take into account kerning, ligatures, etc.\n",
    "\n",
    "Even with simple left-to-right alphabets, there's more to think about than what we've implemented here. For example, this approach doesn't handle things like text alignment, line breaks, margins, indentation, etc. Still, this is a good starting point.\n",
    "\n",
    "> The task of taking a sequence of characters and turning it into a sequence of glyphs is called \"text shaping,\" and it's a very complicated process, moreso for scripts like Arabic that rely heavily on ligatures. [HarfBuzz](https://en.wikipedia.org/wiki/HarfBuzz) is a well-known open source library for doing text shaping, and it has [Python bindings](https://github.com/harfbuzz/uharfbuzz).\n",
    "\n",
    "#### One character at a time\n",
    "\n",
    "The code below implements this simple string layout procedure. It moves the pen by the character's advance on the x axis and draws the next character at the new position, using `translate()` to translate the path commands to the appropriate place."
   ]
  },
  {
   "cell_type": "markdown",
   "metadata": {},
   "source": [
    "But first, let's make a `draw_paths` function to make our lives easier via the 'glyph commands' we were using earlier."
   ]
  },
  {
   "cell_type": "code",
   "execution_count": 39,
   "metadata": {},
   "outputs": [],
   "source": [
    "def draw_paths(font,char,scale_num,trans_x,trans_y):\n",
    "    path_orig = glyphcommands(font, char)\n",
    "    paths = []\n",
    "    for i in path_orig:\n",
    "        if i[0] == 'moveTo':\n",
    "            path = draw.BezierPath()\n",
    "            path.moveTo((i[1][0]))\n",
    "    #         print('startpath'+str((i[1][0])))\n",
    "        if i[0] == 'lineTo':\n",
    "            path.lineTo((i[1][0]))\n",
    "    #         print('lineto' +str(i[1][0]))\n",
    "        if i[0] == 'qCurveTo':\n",
    "            path.qCurveTo(*(i[1]))\n",
    "    #         print('qCurveTo' + str(i[1]))\n",
    "        if i[0] == 'closePath':\n",
    "            path.closePath()\n",
    "            paths.append(path)\n",
    "    #         print('closepath')\n",
    "    if len(paths) > 1:\n",
    "        finalpath = paths[0].difference(paths[1])\n",
    "    else: \n",
    "        finalpath = paths[0]\n",
    "    finalpath.scale(scale_num)\n",
    "    finalpath.translate(trans_x,trans_y)\n",
    "    return finalpath"
   ]
  },
  {
   "cell_type": "code",
   "execution_count": 40,
   "metadata": {},
   "outputs": [
    {
     "data": {
      "image/png": "[encoded data removed]",
      "text/plain": [
       "<IPython.core.display.Image object>"
      ]
     },
     "metadata": {},
     "output_type": "display_data"
    }
   ],
   "source": [
    "startdraw(200,200)\n",
    "draw.drawPath(draw_paths(font,'z',0.3, 0, 0))\n",
    "show()"
   ]
  },
  {
   "cell_type": "code",
   "execution_count": 41,
   "metadata": {},
   "outputs": [],
   "source": [
    "s = \"quartzyfoxes\""
   ]
  },
  {
   "cell_type": "code",
   "execution_count": 42,
   "metadata": {},
   "outputs": [
    {
     "data": {
      "image/png": "[encoded data removed]",
      "text/plain": [
       "<IPython.core.display.Image object>"
      ]
     },
     "metadata": {},
     "output_type": "display_data"
    }
   ],
   "source": [
    "startdraw(500,200)\n",
    "units_per_em = font['head'].unitsPerEm\n",
    "factor = 36 / units_per_em\n",
    "cx = 0\n",
    "for ch in s:\n",
    "    draw.drawPath(draw_paths(font,ch,factor, cx, 30))\n",
    "    cx += advancefor(font, ch) * factor\n",
    "show()"
   ]
  },
  {
   "cell_type": "markdown",
   "metadata": {},
   "source": [
    "Because we're drawing one character at a time, we can introduce some random variation to the character positions and scale:"
   ]
  },
  {
   "cell_type": "code",
   "execution_count": 43,
   "metadata": {},
   "outputs": [
    {
     "data": {
      "image/png": "[encoded data removed]",
      "text/plain": [
       "<IPython.core.display.Image object>"
      ]
     },
     "metadata": {},
     "output_type": "display_data"
    }
   ],
   "source": [
    "startdraw(500,200)\n",
    "units_per_em = font['head'].unitsPerEm\n",
    "factor = 36 / units_per_em\n",
    "cx = 0\n",
    "for ch in s:\n",
    "    draw.drawPath(draw_paths(font,ch,factor*uniform(1,2), cx+normal(0,10), 30+normal(0,10)))\n",
    "    cx += advancefor(font, ch) * factor\n",
    "show()"
   ]
  },
  {
   "cell_type": "markdown",
   "metadata": {},
   "source": [
    "We don't have to draw the characters on the screen in a straight line either:"
   ]
  },
  {
   "cell_type": "code",
   "execution_count": 44,
   "metadata": {},
   "outputs": [
    {
     "data": {
      "image/png": "[encoded data removed]",
      "text/plain": [
       "<IPython.core.display.Image object>"
      ]
     },
     "metadata": {},
     "output_type": "display_data"
    }
   ],
   "source": [
    "startdraw(500,200)\n",
    "units_per_em = font['head'].unitsPerEm\n",
    "factor = 36 / units_per_em\n",
    "cx = 0\n",
    "for ch in s:\n",
    "    draw.drawPath(draw_paths(font,ch,factor*uniform(1,2), factor+uniform(300), factor+uniform(300)))\n",
    "    cx += advancefor(font, ch) * factor\n",
    "show()"
   ]
  },
  {
   "cell_type": "markdown",
   "metadata": {},
   "source": [
    "#### Making one big path\n",
    "\n",
    "Another approach is to build one larger `Path` object that combines the paths of each of the individual letters, and draw that instead. This has some interesting advantages that we'll look at later on. The following cell defines a function `combine_path()` that takes a font and a string and returns a path that combines the paths for each character in the string:"
   ]
  },
  {
   "cell_type": "code",
   "execution_count": 45,
   "metadata": {},
   "outputs": [],
   "source": [
    "from itertools import chain\n",
    "def combine_path(font, s,scale):\n",
    "    text_paths = []\n",
    "    cx = 0\n",
    "    for ch in s:\n",
    "        glyph_path = draw_paths(font, ch, scale, cx, 0)\n",
    "        text_paths.append(glyph_path)\n",
    "        cx += advancefor(font, ch)*scale\n",
    "    combined = draw.BezierPath()\n",
    "    for i in text_paths:\n",
    "        combined.appendPath(i)\n",
    "    return combined"
   ]
  },
  {
   "cell_type": "markdown",
   "metadata": {},
   "source": [
    "Call it like this:"
   ]
  },
  {
   "cell_type": "code",
   "execution_count": 46,
   "metadata": {},
   "outputs": [],
   "source": [
    "qf_path = combine_path(font, \"quartzyfoxes\",0.1)"
   ]
  },
  {
   "cell_type": "markdown",
   "metadata": {},
   "source": [
    "The resulting path has a lot of commands:"
   ]
  },
  {
   "cell_type": "code",
   "execution_count": 47,
   "metadata": {},
   "outputs": [
    {
     "data": {
      "text/plain": [
       "16"
      ]
     },
     "execution_count": 47,
     "metadata": {},
     "output_type": "execute_result"
    }
   ],
   "source": [
    "len(qf_path)"
   ]
  },
  {
   "cell_type": "markdown",
   "metadata": {},
   "source": [
    "But you can draw it like any other path:"
   ]
  },
  {
   "cell_type": "code",
   "execution_count": 48,
   "metadata": {},
   "outputs": [
    {
     "data": {
      "image/png": "[encoded data removed]",
      "text/plain": [
       "<IPython.core.display.Image object>"
      ]
     },
     "metadata": {},
     "output_type": "display_data"
    }
   ],
   "source": [
    "startdraw(500,200)\n",
    "units_per_em = font['head'].unitsPerEm\n",
    "factor = 36 / units_per_em\n",
    "\n",
    "draw.drawPath(qf_path)\n",
    "\n",
    "show()\n"
   ]
  },
  {
   "cell_type": "markdown",
   "metadata": {},
   "source": [
    "### Modifying paths\n",
    "\n",
    "Of course, nothing is forcing us to render these glyph paths exactly as they're stored in the font! We can modify them and reinterpret them. Let's take a character like `z`:"
   ]
  },
  {
   "cell_type": "markdown",
   "metadata": {},
   "source": [
    "Here's what it looks like:"
   ]
  },
  {
   "cell_type": "code",
   "execution_count": 49,
   "metadata": {
    "scrolled": true
   },
   "outputs": [
    {
     "data": {
      "image/png": "[encoded data removed]",
      "text/plain": [
       "<IPython.core.display.Image object>"
      ]
     },
     "metadata": {},
     "output_type": "display_data"
    }
   ],
   "source": [
    "path_orig = glyphcommands(font, \"a\")\n",
    "startdraw(200,200)\n",
    "\n",
    "paths = []\n",
    "for i in path_orig:\n",
    "    if i[0] == 'moveTo':\n",
    "        path = draw.BezierPath()\n",
    "        path.moveTo((i[1][0]))\n",
    "#         print('startpath'+str((i[1][0])))\n",
    "    if i[0] == 'lineTo':\n",
    "        path.lineTo((i[1][0]))\n",
    "#         print('lineto' +str(i[1][0]))\n",
    "    if i[0] == 'qCurveTo':\n",
    "        path.qCurveTo(*(i[1]))\n",
    "#         print('qCurveTo' + str(i[1]))\n",
    "    if i[0] == 'closePath':\n",
    "        path.closePath()\n",
    "        paths.append(path)\n",
    "#         print('closepath')\n",
    "\n",
    "finalpath = paths[0].difference(paths[1])\n",
    "finalpath.scale(0.3) #let's scale it down!\n",
    "draw.fill(0.5)\n",
    "draw.stroke(0)\n",
    "draw.drawPath(finalpath)\n",
    "show()"
   ]
  },
  {
   "cell_type": "markdown",
   "metadata": {},
   "source": [
    "We can mess around with the path by *modifying the path commands*. For example, the following code loops over each of the commands in the path and adds random noise to the `x` and `y` coordinates:"
   ]
  },
  {
   "cell_type": "code",
   "execution_count": 50,
   "metadata": {},
   "outputs": [
    {
     "data": {
      "image/png": "[encoded data removed]",
      "text/plain": [
       "<IPython.core.display.Image object>"
      ]
     },
     "metadata": {},
     "output_type": "display_data"
    }
   ],
   "source": [
    "path_orig = glyphcommands(font, \"a\")\n",
    "startdraw(300,300)\n",
    "\n",
    "disturbance = 15\n",
    "paths = []\n",
    "for i in path_orig:\n",
    "    if i[0] == 'moveTo':\n",
    "        path = draw.BezierPath()\n",
    "        path.moveTo((i[1][0]))\n",
    "#         print('startpath'+str((i[1][0])))\n",
    "    if i[0] == 'lineTo':\n",
    "        x = i[1][0][0] \n",
    "        x += normal(0,disturbance)\n",
    "        y = i[1][0][1]\n",
    "        y += normal(0,disturbance)\n",
    "        path.lineTo((x,y))\n",
    "#         print('lineto' +str((x,y)))\n",
    "    if i[0] == 'qCurveTo':\n",
    "        temp = []\n",
    "        for cord in i[1]:\n",
    "            x = cord[0] \n",
    "            y = cord[1]\n",
    "            x += normal(0,disturbance)\n",
    "            y += normal(0,disturbance)\n",
    "            temp.append((x,y))\n",
    "        path.qCurveTo(*temp)\n",
    "#         print('qCurveTo' + str(temp))\n",
    "    if i[0] == 'closePath':\n",
    "        path.closePath()\n",
    "        paths.append(path)\n",
    "#         print('closepath')\n",
    "finalpath = paths[0].difference(paths[1])\n",
    "finalpath.scale(0.3) #let's scale it down!\n",
    "draw.fill(0.5)\n",
    "draw.stroke(0)\n",
    "draw.drawPath(finalpath)\n",
    "show()"
   ]
  },
  {
   "cell_type": "markdown",
   "metadata": {},
   "source": [
    "Nudging their `x` coordinate by a multiple of the `x` coordinate:"
   ]
  },
  {
   "cell_type": "code",
   "execution_count": 51,
   "metadata": {},
   "outputs": [
    {
     "data": {
      "image/png": "[encoded data removed]",
      "text/plain": [
       "<IPython.core.display.Image object>"
      ]
     },
     "metadata": {},
     "output_type": "display_data"
    }
   ],
   "source": [
    "path_orig = glyphcommands(font, \"a\")\n",
    "startdraw(300,300)\n",
    "stretch = 1.5\n",
    "paths = []\n",
    "for i in path_orig:\n",
    "    if i[0] == 'moveTo':\n",
    "        path = draw.BezierPath()\n",
    "        x = i[1][0][0] *stretch\n",
    "        y = i[1][0][1]\n",
    "        path.moveTo((x,y))\n",
    "#         print('startpath'+str((i[1][0])))\n",
    "    if i[0] == 'lineTo':\n",
    "        x = i[1][0][0] * stretch\n",
    "        y = i[1][0][1]\n",
    "        path.lineTo((x,y))\n",
    "#         print('lineto' +str((x,y)))\n",
    "    if i[0] == 'qCurveTo':\n",
    "        temp = []\n",
    "        for cord in i[1]:\n",
    "            x = cord[0] * stretch \n",
    "            y = cord[1]\n",
    "            temp.append((x,y))\n",
    "        path.qCurveTo(*temp)\n",
    "#         print('qCurveTo' + str(temp))\n",
    "    if i[0] == 'closePath':\n",
    "        path.closePath()\n",
    "        paths.append(path)\n",
    "#         print('closepath')\n",
    "finalpath = paths[0].difference(paths[1])\n",
    "finalpath.scale(0.3) #let's scale it down!\n",
    "draw.fill(0.5)\n",
    "draw.stroke(0)\n",
    "draw.drawPath(finalpath)\n",
    "show()"
   ]
  },
  {
   "cell_type": "markdown",
   "metadata": {},
   "source": [
    "Or we can selectively stretch out characters by only modifying points that meet certain criteria. The code in the cell below shifts up all commands whose `y` coordinate lies above 1/3 of the way from the baseline to the ascender height of the font:"
   ]
  },
  {
   "cell_type": "code",
   "execution_count": 52,
   "metadata": {},
   "outputs": [
    {
     "data": {
      "image/png": "[encoded data removed]",
      "text/plain": [
       "<IPython.core.display.Image object>"
      ]
     },
     "metadata": {},
     "output_type": "display_data"
    }
   ],
   "source": [
    "path_orig = glyphcommands(font, \"g\")\n",
    "startdraw(300,300)\n",
    "y_value = 200\n",
    "paths = []\n",
    "for i in path_orig:\n",
    "    if i[0] == 'moveTo':\n",
    "        path = draw.BezierPath()\n",
    "        x = i[1][0][0]\n",
    "        y = i[1][0][1]\n",
    "        if y >=200:\n",
    "            y = y + y_value\n",
    "        path.moveTo((x,y))\n",
    "#         print('startpath'+str((i[1][0])))\n",
    "    if i[0] == 'lineTo':\n",
    "        x = i[1][0][0]\n",
    "        y = i[1][0][1]\n",
    "        if y >=300:\n",
    "            y = y + y_value\n",
    "        path.lineTo((x,y))\n",
    "#         print('lineto' +str((x,y)))\n",
    "    if i[0] == 'qCurveTo':\n",
    "        temp = []\n",
    "        for cord in i[1]:\n",
    "            x = cord[0] \n",
    "            y = cord[1]\n",
    "            if y >=300:\n",
    "                y = y + y_value\n",
    "            temp.append((x,y))\n",
    "        path.qCurveTo(*temp)\n",
    "#         print('qCurveTo' + str(temp))\n",
    "    if i[0] == 'closePath':\n",
    "        path.closePath()\n",
    "        paths.append(path)\n",
    "#         print('closepath')\n",
    "finalpath = paths[0].difference(paths[1])\n",
    "finalpath.scale(0.2) #let's scale it down!\n",
    "finalpath.translate(20,100)\n",
    "draw.fill(0.5)\n",
    "draw.stroke(0)\n",
    "draw.drawPath(finalpath)\n",
    "show()"
   ]
  },
  {
   "cell_type": "markdown",
   "metadata": {},
   "source": [
    "#### Rendering a modified string\n",
    "\n",
    "The easiest way to render an entire string with modified glyph paths is to put the path modification code into a function, like so:"
   ]
  },
  {
   "cell_type": "code",
   "execution_count": 53,
   "metadata": {},
   "outputs": [],
   "source": [
    "def getpath(font, ch, bound, y_value):\n",
    "    path_orig = glyphcommands(font, ch)\n",
    "    paths = []\n",
    "    for i in path_orig:\n",
    "        if i[0] == 'moveTo':\n",
    "            path = draw.BezierPath()\n",
    "            x = i[1][0][0]\n",
    "            y = i[1][0][1]\n",
    "            if y >=bound:\n",
    "                y = y + y_value\n",
    "            path.moveTo((x,y))\n",
    "        if i[0] == 'lineTo':\n",
    "            x = i[1][0][0]\n",
    "            y = i[1][0][1]\n",
    "            if y >=bound:\n",
    "                y = y + y_value\n",
    "            path.lineTo((x,y))\n",
    "        if i[0] == 'qCurveTo':\n",
    "            temp = []\n",
    "            for cord in i[1]:\n",
    "                x = cord[0]\n",
    "                y = cord[1]\n",
    "                if y >=bound:\n",
    "                    y = y + y_value\n",
    "                temp.append((x,y))\n",
    "            path.qCurveTo(*temp)\n",
    "        if i[0] == 'closePath':\n",
    "            path.closePath()\n",
    "            paths.append(path)\n",
    "    if len(paths) > 1:\n",
    "        finalpath = paths[0].difference(paths[1])\n",
    "    else: \n",
    "        finalpath = paths[0]\n",
    "    return finalpath"
   ]
  },
  {
   "cell_type": "markdown",
   "metadata": {},
   "source": [
    "This function has a parameter that lets you set the cutoff for deciding whether a command in the path will be offset or not, based on its distance from the baseline."
   ]
  },
  {
   "cell_type": "markdown",
   "metadata": {},
   "source": [
    "To draw the whole string, use the code from the simple string layout function above, calling the function to generate the glyph for each character in the string, advancing by the `advance`:"
   ]
  },
  {
   "cell_type": "code",
   "execution_count": 54,
   "metadata": {},
   "outputs": [
    {
     "data": {
      "image/png": "[encoded data removed]",
      "text/plain": [
       "<IPython.core.display.Image object>"
      ]
     },
     "metadata": {},
     "output_type": "display_data"
    }
   ],
   "source": [
    "startdraw(500,200)\n",
    "scale_num = 0.1\n",
    "y_val = 30\n",
    "cx = 0\n",
    "for ch in s:\n",
    "    glyph_path = getpath(font, ch, uniform(200,300),uniform(0,200))\n",
    "    glyph_path.scale(scale_num)\n",
    "    glyph_path.translate(cx,y_val)\n",
    "    draw.drawPath(glyph_path)\n",
    "    cx += advancefor(font, ch)*scale_num\n",
    "show()"
   ]
  },
  {
   "cell_type": "markdown",
   "metadata": {},
   "source": [
    "#### Modifying a larger path\n",
    "\n",
    "For some effects, it's beneficial to apply coordinate transformations across the entire path of the string, instead of character-by-character. For this, use the `combine_path()` function introduced above, which returns one big path with all of the paths for the glyphs corresponding to the characters in the string. In the example below, I modify the `y` coordinate of each command in the path by the sine of the `x` coordinate, giving the resulting path a pleasing wave..."
   ]
  },
  {
   "cell_type": "code",
   "execution_count": 55,
   "metadata": {
    "scrolled": false
   },
   "outputs": [
    {
     "data": {
      "image/png": "[encoded data removed]",
      "text/plain": [
       "<IPython.core.display.Image object>"
      ]
     },
     "metadata": {},
     "output_type": "display_data"
    }
   ],
   "source": [
    "def getpath(font, ch, scale,trans_x,trans_y,x_offset, y_offset):\n",
    "    path_orig = glyphcommands(font, ch)\n",
    "    paths = []\n",
    "#     print(trans_x)\n",
    "    amp = 200\n",
    "    period = 0.04\n",
    "    y_shift = np.sin((trans_x)*0.03)*10\n",
    "    for i in path_orig:\n",
    "        if i[0] == 'moveTo':\n",
    "            path = draw.BezierPath()\n",
    "            x = i[1][0][0]\n",
    "            y = i[1][0][1]+np.sin((x*scale + trans_x)*period)*amp\n",
    "            path.moveTo((x,y))\n",
    "        if i[0] == 'lineTo':\n",
    "            x = i[1][0][0]\n",
    "            y = i[1][0][1]+np.sin((x*scale + trans_x)*period)*amp #?\n",
    "            path.lineTo((x,y))\n",
    "        if i[0] == 'qCurveTo':\n",
    "            temp = []\n",
    "            for cord in i[1]:\n",
    "                x = cord[0]\n",
    "                y = cord[1]+np.sin((x*scale + trans_x)*period)*amp #?\n",
    "                temp.append((x,y))\n",
    "            path.qCurveTo(*temp)\n",
    "        if i[0] == 'closePath':\n",
    "            path.closePath()\n",
    "            paths.append(path)\n",
    "    if len(paths) > 1:\n",
    "        finalpath = paths[0].difference(paths[1])\n",
    "    else: \n",
    "        finalpath = paths[0]\n",
    "    finalpath.scale(scale)\n",
    "    finalpath.translate(trans_x + x_offset,trans_y + y_offset)\n",
    "    return finalpath\n",
    "\n",
    "def combine_path(font, s,scale,x_offset,y_offset): \n",
    "    text_paths = []\n",
    "    cx = 0\n",
    "    for ch in s:\n",
    "        glyph_path = getpath(font, ch, scale,cx,0,x_offset,y_offset)\n",
    "        text_paths.append(glyph_path)\n",
    "        cx += advancefor(font, ch)*scale\n",
    "    combined = draw.BezierPath()\n",
    "    for i in text_paths:\n",
    "        combined.appendPath(i)\n",
    "    return combined\n",
    "\n",
    "###############\n",
    "\n",
    "qf_path = combine_path(font, \"quartzyfoxes\",0.05,0,100)\n",
    "\n",
    "# qf_path_cmds = []\n",
    "\n",
    "startdraw(500,200)\n",
    "\n",
    "draw.drawPath(qf_path)\n",
    "\n",
    "show()\n"
   ]
  },
  {
   "cell_type": "markdown",
   "metadata": {},
   "source": [
    "Yes, we have reinvented [WordArt](https://en.wikipedia.org/wiki/Microsoft_Office_shared_tools#WordArt).\n",
    "\n",
    "(Note: \"Nudging\" the control points of Bézier curves doesn't necessarily produce intuitive results, as you've seen in some of the above examples—the resulting curves aren't quite offset in a linear fashion. The \"right\" way to do this would be to flatten all of the curves to high-resolution polylines, then perform transformations on those coordinates. But the Bezmerizing library doesn't have an easy way to flatten arbitrary paths to polylines yet, so here we are.)"
   ]
  },
  {
   "cell_type": "markdown",
   "metadata": {},
   "source": [
    "#### Re-interpreting font commands\n",
    "\n",
    "One final example. Instead of using the original command in a path, we can \"reinterpret\" that command as something else. The example below draws lines instead of curves, and circles instead of lines, for each command in a path:"
   ]
  },
  {
   "cell_type": "code",
   "execution_count": 56,
   "metadata": {},
   "outputs": [
    {
     "data": {
      "image/png": "[encoded data removed]",
      "text/plain": [
       "<IPython.core.display.Image object>"
      ]
     },
     "metadata": {},
     "output_type": "display_data"
    }
   ],
   "source": [
    "path_orig = glyphcommands(font, \"a\")\n",
    "startdraw(300,300)\n",
    "a = draw.BezierPath()\n",
    "paths = []\n",
    "for i in path_orig:\n",
    "    circlesize = normal(70,25)\n",
    "    if i[0] == 'moveTo':\n",
    "        a.oval(x,y,circlesize,circlesize)\n",
    "    if i[0] == 'lineTo':\n",
    "        x = i[1][0][0] \n",
    "        y = i[1][0][1]\n",
    "        a.oval(x,y,circlesize,circlesize)\n",
    "    if i[0] == 'qCurveTo':\n",
    "        for cord in i[1]:\n",
    "            x = cord[0] \n",
    "            y = cord[1]\n",
    "            a.oval(x,y,circlesize,circlesize)\n",
    "\n",
    "a.scale(0.3) #let's scale it down!\n",
    "draw.fill(0.5)\n",
    "draw.stroke(0)\n",
    "draw.drawPath(a)\n",
    "show()"
   ]
  },
  {
   "cell_type": "markdown",
   "metadata": {},
   "source": [
    "Drawing all commands as circles:"
   ]
  },
  {
   "cell_type": "code",
   "execution_count": 57,
   "metadata": {},
   "outputs": [
    {
     "data": {
      "image/png": "[encoded data removed]",
      "text/plain": [
       "<IPython.core.display.Image object>"
      ]
     },
     "metadata": {},
     "output_type": "display_data"
    }
   ],
   "source": [
    "def getpath(font, ch, scale,trans_x,trans_y,x_offset, y_offset,circlesize):\n",
    "    path_orig = glyphcommands(font, ch)\n",
    "    paths = []\n",
    "    for i in path_orig:\n",
    "        if i[0] == 'moveTo':\n",
    "            outline = draw.BezierPath()\n",
    "            x = i[1][0][0]\n",
    "            y = i[1][0][1]\n",
    "            outline.oval(x,y,circlesize,circlesize)\n",
    "        if i[0] == 'lineTo':\n",
    "            x = i[1][0][0]\n",
    "            y = i[1][0][1]\n",
    "            outline.oval(x,y,circlesize,circlesize)\n",
    "        if i[0] == 'qCurveTo':\n",
    "            temp = []\n",
    "            for cord in i[1]:\n",
    "                x = cord[0]\n",
    "                y = cord[1]\n",
    "                outline.oval(x,y,circlesize,circlesize)\n",
    "        if i[0] == 'closePath':\n",
    "            path.closePath()\n",
    "            paths.append(outline)\n",
    "    if len(paths) > 1:\n",
    "        finalpath = paths[0].difference(paths[1])\n",
    "    else: \n",
    "        finalpath = paths[0]\n",
    "    finalpath.scale(scale)\n",
    "    finalpath.translate(trans_x+x_offset,trans_y+y_offset)\n",
    "    return finalpath\n",
    "\n",
    "def combine_path(font, s,scale,x_offset,y_offset,circlesize): \n",
    "    text_paths = []\n",
    "    cx = 0\n",
    "    for ch in s:\n",
    "        glyph_path = getpath(font, ch, scale,cx,0,x_offset,y_offset,circlesize)\n",
    "        text_paths.append(glyph_path)\n",
    "        cx += advancefor(font, ch)*scale\n",
    "    combined = draw.BezierPath()\n",
    "    for i in text_paths:\n",
    "        combined.appendPath(i)\n",
    "    return combined\n",
    "\n",
    "###############\n",
    "\n",
    "qf_path = combine_path(font, \"quartzyfoxes\",0.1,0,100,50)\n",
    "\n",
    "# qf_path_cmds = []\n",
    "\n",
    "startdraw(500,200)\n",
    "\n",
    "draw.drawPath(qf_path)\n",
    "\n",
    "show()\n"
   ]
  },
  {
   "cell_type": "markdown",
   "metadata": {},
   "source": [
    "## Further resources\n",
    "\n",
    "For a general introduction to digital typography, I highly recommend [Simon Cozen's *Fonts and Layout for Global Scripts*](https://simoncozens.github.io/fonts-and-layout/). The [history chapter](https://simoncozens.github.io/fonts-and-layout//history.html) is especially insightful and well-researched.\n",
    "\n",
    "More on digital representations of typefaces:\n",
    "\n",
    "* [UFO](http://unifiedfontobject.org/versions/ufo3/), a contemporary file format for fonts\n",
    "* [FreeType Glyph\n",
    "  Conventions](https://www.freetype.org/freetype2/docs/glyphs/index.html) is documentation for FreeType (a widely-used glyph rendering library), but also a good introduction to digital typography in general\n",
    "* [An Introduction to TrueType Fonts: A look inside the TTF format](https://scripts.sil.org/cms/scripts/page.php?site_id=nrsi&id=IWS-Chapter08)\n",
    "* [Bézier Curves and Type Design: A Tutorial](https://learn.scannerlicker.net/2014/04/16/bezier-curves-and-type-design-a-tutorial/)\n",
    "* [Typography in 8 bits: System fonts](https://damieng.com/blog/2011/02/20/typography-in-8-bits-system-fonts)\n",
    "\n",
    "Artworks engaging font data:\n",
    "\n",
    "* [Leslie Mezei, Babel Shook](https://www.atariarchives.org/artist/sec7.php)\n",
    "* [Eduardo Kac, Accident, 1994](http://www.ekac.org/accident.html)\n",
    "* [Jürg Lehni & Alex Rich, Empty words, 2008](http://juerglehni.com/works/empty-words)\n",
    "* [Zach Lieberman et al, IQ Font](http://thesystemis.com/projects/iq-font/)\n",
    "* [BalletFont](https://web.archive.org/web/20160812072806/http://www.creativeapplications.net/openframeworks/balletfont-openframeworks/) ([making-of video](https://youtu.be/-DdAp26lmIU))"
   ]
  },
  {
   "cell_type": "code",
   "execution_count": null,
   "metadata": {},
   "outputs": [],
   "source": []
  }
 ],
 "metadata": {
  "kernelspec": {
   "display_name": "Python 3",
   "language": "python",
   "name": "python3"
  },
  "language_info": {
   "codemirror_mode": {
    "name": "ipython",
    "version": 3
   },
   "file_extension": ".py",
   "mimetype": "text/x-python",
   "name": "python",
   "nbconvert_exporter": "python",
   "pygments_lexer": "ipython3",
   "version": "3.7.7"
  }
 },
 "nbformat": 4,
 "nbformat_minor": 2
}
