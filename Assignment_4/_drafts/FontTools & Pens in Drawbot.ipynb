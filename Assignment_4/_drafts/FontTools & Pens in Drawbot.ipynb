{
 "cells": [
  {
   "cell_type": "code",
   "execution_count": 4,
   "metadata": {},
   "outputs": [],
   "source": [
    "from IPython.display import Image, display\n",
    "\n",
    "\n",
    "def startdraw(canvas_width,canvas_height):\n",
    "    draw.newDrawing()\n",
    "    draw.newPage(canvas_width, canvas_height)\n",
    "    \n",
    "def show():\n",
    "    draw.saveImage(\"drawBotImage.png\")\n",
    "    draw.endDrawing()\n",
    "    drawing = Image(filename = \"drawBotImage.png\")\n",
    "    display(drawing)"
   ]
  },
  {
   "cell_type": "markdown",
   "metadata": {},
   "source": [
    "## fontTools Python Library ##\n",
    "The [fontTools Python library](https://rsms.me/fonttools-docs/) is useful for grabbing information from font files. "
   ]
  },
  {
   "cell_type": "code",
   "execution_count": 5,
   "metadata": {},
   "outputs": [
    {
     "name": "stdout",
     "output_type": "stream",
     "text": [
      "Text: \"This is a test\"\n",
      "Width in points: 69.048000\n",
      "Width in inches: 0.959000\n",
      "Width in cm: 2.435860\n",
      "Width in WP Units: 1150.800000\n"
     ]
    }
   ],
   "source": [
    "from fontTools.ttLib import TTFont\n",
    "from fontTools.ttLib.tables._c_m_a_p import CmapSubtable\n",
    "\n",
    "font = TTFont(\"./NotoSans-Regular.ttf\")\n",
    "cmap = font['cmap']\n",
    "t = cmap.getcmap(3,1).cmap\n",
    "s = font.getGlyphSet()\n",
    "units_per_em = font['head'].unitsPerEm\n",
    "\n",
    "def getTextWidth(text,pointSize):\n",
    "    total = 0\n",
    "    for c in text:\n",
    "        if ord(c) in t and t[ord(c)] in s:\n",
    "            total += s[t[ord(c)]].width\n",
    "        else:\n",
    "            total += s['.notdef'].width\n",
    "    total = total*float(pointSize)/units_per_em;\n",
    "    return total\n",
    "\n",
    "text = 'This is a test'\n",
    "\n",
    "width = getTextWidth(text,12)\n",
    "\n",
    "print ('Text: \"%s\"' % text)\n",
    "print ('Width in points: %f' % width)\n",
    "print ('Width in inches: %f' % (width/72))\n",
    "print ('Width in cm: %f' % (width*2.54/72))\n",
    "print ('Width in WP Units: %f' % (width*1200/72))"
   ]
  },
  {
   "cell_type": "code",
   "execution_count": 3,
   "metadata": {},
   "outputs": [
    {
     "data": {
      "text/plain": [
       "[('moveTo', ((288, 545),)),\n",
       " ('qCurveTo', ((386, 545), (480, 459), (480, 365))),\n",
       " ('lineTo', ((480, 0),)),\n",
       " ('lineTo', ((416, 0),)),\n",
       " ('lineTo', ((399, 76),)),\n",
       " ('lineTo', ((395, 76),)),\n",
       " ('qCurveTo', ((360, 32), (282, -10), (215, -10))),\n",
       " ('qCurveTo', ((142, -10), (46, 67), (46, 149))),\n",
       " ('qCurveTo', ((46, 229), (172, 316), (303, 320))),\n",
       " ('lineTo', ((394, 323),)),\n",
       " ('lineTo', ((394, 355),)),\n",
       " ('qCurveTo', ((394, 422), (336, 474), (283, 474))),\n",
       " ('qCurveTo', ((241, 474), (165, 449), (132, 433))),\n",
       " ('lineTo', ((105, 499),)),\n",
       " ('qCurveTo', ((140, 518), (236, 545), (288, 545))),\n",
       " ('closePath', ()),\n",
       " ('moveTo', ((393, 262),)),\n",
       " ('lineTo', ((314, 259),)),\n",
       " ('qCurveTo', ((214, 255), (137, 199), (137, 148))),\n",
       " ('qCurveTo', ((137, 103), (192, 61), (235, 61))),\n",
       " ('qCurveTo', ((302, 61), (393, 136), (393, 214))),\n",
       " ('closePath', ())]"
      ]
     },
     "execution_count": 3,
     "metadata": {},
     "output_type": "execute_result"
    }
   ],
   "source": [
    "glyph_a = font.getGlyphSet()['a']\n",
    "\n",
    "from fontTools.pens.recordingPen import RecordingPen\n",
    "p = RecordingPen()\n",
    "glyph_a.draw(p)\n",
    "p.value"
   ]
  },
  {
   "cell_type": "markdown",
   "metadata": {},
   "source": [
    "## Using Pens ##\n",
    "This [Robofont Documentation for Using Pens](https://robofont.com/documentation/how-tos/using-pens/) might be a good reference. It's for robofont (non-open source software), but at least you can see how it's supposed to work."
   ]
  },
  {
   "cell_type": "code",
   "execution_count": null,
   "metadata": {},
   "outputs": [],
   "source": [
    "#set the path to a font file\n",
    "path = \"./NotoSans-Regular.ttf\"\n",
    "NotoSans = draw.installFont(path)\n"
   ]
  },
  {
   "cell_type": "code",
   "execution_count": null,
   "metadata": {},
   "outputs": [],
   "source": [
    "from fontPens.flattenPen import FlattenPen\n",
    "\n",
    "# create an empty path\n",
    "dest = draw.BezierPath()\n",
    "# create flatten pen that will draw into the dest bezierPath\n",
    "pen = FlattenPen(dest, approximateSegmentLength=30, segmentLines=True)\n",
    "\n",
    "# draw into the flatten pen\n",
    "pen.moveTo((100, 100))\n",
    "pen.curveTo((100, 150), (150, 200), (200, 200))\n",
    "pen.endPath()\n",
    "\n",
    "# create an other path\n",
    "path = draw.BezierPath()\n",
    "# draw an oval\n",
    "path.oval(200, 200, 200, 200)\n",
    "# draw the path with oval in the flatten pen\n",
    "path.drawToPen(pen)\n",
    "\n",
    "# set stroke and fill\n",
    "draw.stroke(0)\n",
    "draw.fill(None)\n",
    "# draw the dest\n",
    "draw.drawPath(dest)\n",
    "\n",
    "show()"
   ]
  },
  {
   "cell_type": "markdown",
   "metadata": {},
   "source": [
    "For more details, look into [Drawbot Documentation for Drawing Text](https://www.drawbot.com/content/text/drawingText.html). But in this tutorial, we're more interested at getting at the actual geometry data in the fonts themselves."
   ]
  },
  {
   "cell_type": "code",
   "execution_count": null,
   "metadata": {},
   "outputs": [],
   "source": []
  }
 ],
 "metadata": {
  "kernelspec": {
   "display_name": "Python 3",
   "language": "python",
   "name": "python3"
  },
  "language_info": {
   "codemirror_mode": {
    "name": "ipython",
    "version": 3
   },
   "file_extension": ".py",
   "mimetype": "text/x-python",
   "name": "python",
   "nbconvert_exporter": "python",
   "pygments_lexer": "ipython3",
   "version": "3.7.7"
  }
 },
 "nbformat": 4,
 "nbformat_minor": 2
}
