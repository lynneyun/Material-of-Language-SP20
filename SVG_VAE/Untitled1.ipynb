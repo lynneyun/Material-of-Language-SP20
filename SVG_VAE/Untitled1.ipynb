{
 "cells": [
  {
   "cell_type": "code",
   "execution_count": 34,
   "metadata": {},
   "outputs": [],
   "source": [
    "from string import ascii_lowercase, ascii_uppercase\n",
    "digits = range(0,9)\n",
    "\n",
    "def split(word):\n",
    "    return list(word)\n",
    "\n",
    "alower = split(ascii_lowercase)\n",
    "aupper = split(ascii_uppercase)\n",
    "allGlyphs = [*digits, *alower, *aupper]\n",
    "\n",
    "from fontTools.ttLib import TTFont\n",
    "\n",
    "def putazzn(fontfile):\n",
    "    font = TTFont(fontfile)\n",
    "    glyphs = []\n",
    "        for g in allGlyphs:\n",
    "            glyphname = font.getBestCmap()[ord(str(g))]\n",
    "            glyph = font.getGlyphSet()[glyphname]\n",
    "            gid = font.getGlyphID(glyphname)\n",
    "            uni = ord(str(g))\n",
    "            width = glyph.width\n",
    "            vwidth = font['head'].unitsPerEm\n",
    "            glyphs.append(uni,width,vwidth,gid)\n",
    "        \n",
    "putazzn(\"datas/cataneo.ttf\")\n",
    "\n"
   ]
  },
  {
   "cell_type": "code",
   "execution_count": 4,
   "metadata": {},
   "outputs": [
    {
     "ename": "SyntaxError",
     "evalue": "invalid syntax (<ipython-input-4-694a4783b932>, line 14)",
     "output_type": "error",
     "traceback": [
      "\u001b[0;36m  File \u001b[0;32m\"<ipython-input-4-694a4783b932>\"\u001b[0;36m, line \u001b[0;32m14\u001b[0m\n\u001b[0;31m    vwidth =\u001b[0m\n\u001b[0m             ^\u001b[0m\n\u001b[0;31mSyntaxError\u001b[0m\u001b[0;31m:\u001b[0m invalid syntax\n"
     ]
    }
   ],
   "source": [
    "import pyarrow as pa\n",
    "import pyarrow.parquet as pq\n",
    "\n",
    "schema = pa.schema([\n",
    " ('uni', pa.int64()),  # unicode value of this glyph\n",
    " ('width', pa.int64()),  # width of this glyph's viewport (provided by fontforge)\n",
    " ('vwidth', pa.int64()),  # vertical width of this glyph's viewport\n",
    " ('sfd', pa.string()),  # glyph, converted to .sfd format, with a single SplineSet\n",
    " ('id', pa.string()),  # id of this glyph\n",
    " ('binary_fp', pa.string())  # font identifier (provided in glyphazzn_urls.txt) \n",
    "])"
   ]
  },
  {
   "cell_type": "code",
   "execution_count": null,
   "metadata": {},
   "outputs": [],
   "source": []
  }
 ],
 "metadata": {
  "kernelspec": {
   "display_name": "Python 3",
   "language": "python",
   "name": "python3"
  },
  "language_info": {
   "codemirror_mode": {
    "name": "ipython",
    "version": 3
   },
   "file_extension": ".py",
   "mimetype": "text/x-python",
   "name": "python",
   "nbconvert_exporter": "python",
   "pygments_lexer": "ipython3",
   "version": "3.7.7"
  }
 },
 "nbformat": 4,
 "nbformat_minor": 4
}
